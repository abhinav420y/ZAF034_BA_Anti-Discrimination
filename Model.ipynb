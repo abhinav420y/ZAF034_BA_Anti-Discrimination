{
  "nbformat": 4,
  "nbformat_minor": 0,
  "metadata": {
    "colab": {
      "provenance": [],
      "authorship_tag": "ABX9TyNHMD/VdacTtOZ/VPDWmkAS",
      "include_colab_link": true
    },
    "kernelspec": {
      "name": "python3",
      "display_name": "Python 3"
    },
    "language_info": {
      "name": "python"
    }
  },
  "cells": [
    {
      "cell_type": "markdown",
      "metadata": {
        "id": "view-in-github",
        "colab_type": "text"
      },
      "source": [
        "<a href=\"https://colab.research.google.com/github/abhinav420y/ZAF034_BA_Anti-Discrimination/blob/Vaibhavi15-04-patch-1/Model.ipynb\" target=\"_parent\"><img src=\"https://colab.research.google.com/assets/colab-badge.svg\" alt=\"Open In Colab\"/></a>"
      ]
    },
    {
      "cell_type": "markdown",
      "source": [
        "Data Loading"
      ],
      "metadata": {
        "id": "MMvk5czj5G9o"
      }
    },
    {
      "cell_type": "markdown",
      "source": [
        "Code to create Sample Database if yourn't able to use the csv file."
      ],
      "metadata": {
        "id": "gGXEM1ccHmaW"
      }
    },
    {
      "cell_type": "code",
      "source": [
        "import pandas as pd\n",
        "import numpy as np\n",
        "\n",
        "# Set the random seed for reproducibility\n",
        "np.random.seed(42)\n",
        "\n",
        "# Generate good reviews\n",
        "good_reviews = [\n",
        "    \"The flight was great! The cabin crew were friendly and helpful.\",\n",
        "    \"I had a fantastic experience with this airline. The food was delicious and the seats were comfortable.\",\n",
        "    \"I really enjoyed my flight. The in-flight entertainment was top-notch.\",\n",
        "    \"The flight was on time and everything went smoothly. I would definitely fly with this airline again.\",\n",
        "    \"I had a wonderful experience with this airline. The staff were professional and attentive.\",\n",
        "    \"The flight was excellent. The cabin crew went above and beyond to make sure I was comfortable.\",\n",
        "    \"I was very impressed with this airline. The service was exceptional and the amenities were great.\",\n",
        "    \"The flight was perfect. I couldn't have asked for more.\",\n",
        "    \"I had a great time on my flight. The staff were friendly and the atmosphere was pleasant.\",\n",
        "    \"The flight was amazing. I felt well taken care of and the entire experience was enjoyable.\"\n",
        "]\n",
        "\n",
        "# Generate bad reviews\n",
        "bad_reviews = [\n",
        "    \"The flight was terrible. The seats were uncomfortable and the staff were rude.\",\n",
        "    \"I had a horrible experience with this airline. The flight was delayed and the service was terrible.\",\n",
        "    \"The flight was a nightmare. The food was terrible and the staff were unhelpful.\",\n",
        "    \"I would not recommend this airline. The flight was overbooked and I was bumped from my seat.\",\n",
        "    \"The flight was a disaster. My luggage was lost and the staff were uncooperative.\",\n",
        "    \"I had a terrible experience with this airline. The flight was delayed and the staff were incompetent.\",\n",
        "    \"The flight was a disappointment. The cabin was dirty and the service was subpar.\",\n",
        "    \"I was not satisfied with my flight. The staff were unfriendly and the amenities were lacking.\",\n",
        "    \"The flight was a letdown. The seats were uncomfortable and the food was inedible.\",\n",
        "    \"I had a miserable experience with this airline. The flight was uncomfortable and the staff were unprofessional.\"\n",
        "]\n",
        "\n",
        "# Generate discriminative feedbacks\n",
        "discriminative_feedbacks = [\n",
        "    \"I felt like I was treated differently because of my race.\",\n",
        "    \"The airline staff made some inappropriate comments about my gender identity.\",\n",
        "    \"The staff were dismissive of my disability and did not provide appropriate accommodations.\",\n",
        "    \"I was subjected to racial profiling by the airline staff.\",\n",
        "    \"I felt unsafe on my flight due to the discriminatory behavior of the cabin crew.\",\n",
        "    \"The airline staff made insensitive remarks about my religious beliefs.\",\n",
        "    \"I was discriminated against by the airline staff based on my sexual orientation.\",\n",
        "    \"The airline staff treated me unfairly because of my age.\",\n",
        "    \"I experienced discrimination on my flight due to my physical appearance.\",\n",
        "    \"The airline staff were biased against me because of my nationality.\"\n",
        "]\n",
        "\n",
        "\n"
      ],
      "metadata": {
        "id": "L9tHqrvNjHjw"
      },
      "execution_count": null,
      "outputs": []
    },
    {
      "cell_type": "code",
      "source": [
        "import random\n",
        "import csv\n",
        "\n",
        "# Shuffle the good and bad reviews\n",
        "random.shuffle(good_reviews)\n",
        "random.shuffle(bad_reviews)\n",
        "\n",
        "# Create a list of feedbacks with a mix of good and bad reviews, along with some discriminative feedbacks\n",
        "feedbacks = []\n",
        "for i in range(400):\n",
        "    feedbacks.append([good_reviews[i % len(good_reviews)], \"positive\"])\n",
        "    feedbacks.append([bad_reviews[i % len(bad_reviews)], \"negative\"])\n",
        "for i in range(200):\n",
        "    feedbacks.append([discriminative_feedbacks[i % len(discriminative_feedbacks)], \"discriminative\"])\n",
        "\n",
        "# Shuffle the feedbacks again\n",
        "random.shuffle(feedbacks)\n",
        "\n",
        "# Write the feedbacks to a CSV file\n",
        "with open(\"airline_feedback_data.csv\", \"w\", newline=\"\") as csvfile:\n",
        "    writer = csv.writer(csvfile)\n",
        "    writer.writerow([\"feedback\", \"sentiment\"])\n",
        "    for feedback in feedbacks:\n",
        "        writer.writerow(feedback)\n"
      ],
      "metadata": {
        "id": "hsl9P_EIkGgS"
      },
      "execution_count": null,
      "outputs": []
    },
    {
      "cell_type": "code",
      "source": [
        "import pandas as pd\n",
        "df = pd.read_csv(\"airline_feedback_data.csv\")"
      ],
      "metadata": {
        "id": "OSGE-sPL2fV6"
      },
      "execution_count": null,
      "outputs": []
    },
    {
      "cell_type": "markdown",
      "source": [
        "Data Preprocessing"
      ],
      "metadata": {
        "id": "Czsxh01E5aaJ"
      }
    },
    {
      "cell_type": "code",
      "source": [
        "df.head()"
      ],
      "metadata": {
        "colab": {
          "base_uri": "https://localhost:8080/",
          "height": 206
        },
        "id": "zQA51CPw1ZTn",
        "outputId": "1e967061-e2e5-4a29-d95c-e4302ec51197"
      },
      "execution_count": null,
      "outputs": [
        {
          "output_type": "execute_result",
          "data": {
            "text/plain": [
              "                                            feedback sentiment\n",
              "0  I really enjoyed my flight. The in-flight ente...  positive\n",
              "1  I was not satisfied with my flight. The staff ...  negative\n",
              "2  I really enjoyed my flight. The in-flight ente...  positive\n",
              "3  The flight was excellent. The cabin crew went ...  positive\n",
              "4  I really enjoyed my flight. The in-flight ente...  positive"
            ],
            "text/html": [
              "\n",
              "  <div id=\"df-356c69ef-6328-421f-b5ce-e30bde198d0d\">\n",
              "    <div class=\"colab-df-container\">\n",
              "      <div>\n",
              "<style scoped>\n",
              "    .dataframe tbody tr th:only-of-type {\n",
              "        vertical-align: middle;\n",
              "    }\n",
              "\n",
              "    .dataframe tbody tr th {\n",
              "        vertical-align: top;\n",
              "    }\n",
              "\n",
              "    .dataframe thead th {\n",
              "        text-align: right;\n",
              "    }\n",
              "</style>\n",
              "<table border=\"1\" class=\"dataframe\">\n",
              "  <thead>\n",
              "    <tr style=\"text-align: right;\">\n",
              "      <th></th>\n",
              "      <th>feedback</th>\n",
              "      <th>sentiment</th>\n",
              "    </tr>\n",
              "  </thead>\n",
              "  <tbody>\n",
              "    <tr>\n",
              "      <th>0</th>\n",
              "      <td>I really enjoyed my flight. The in-flight ente...</td>\n",
              "      <td>positive</td>\n",
              "    </tr>\n",
              "    <tr>\n",
              "      <th>1</th>\n",
              "      <td>I was not satisfied with my flight. The staff ...</td>\n",
              "      <td>negative</td>\n",
              "    </tr>\n",
              "    <tr>\n",
              "      <th>2</th>\n",
              "      <td>I really enjoyed my flight. The in-flight ente...</td>\n",
              "      <td>positive</td>\n",
              "    </tr>\n",
              "    <tr>\n",
              "      <th>3</th>\n",
              "      <td>The flight was excellent. The cabin crew went ...</td>\n",
              "      <td>positive</td>\n",
              "    </tr>\n",
              "    <tr>\n",
              "      <th>4</th>\n",
              "      <td>I really enjoyed my flight. The in-flight ente...</td>\n",
              "      <td>positive</td>\n",
              "    </tr>\n",
              "  </tbody>\n",
              "</table>\n",
              "</div>\n",
              "      <button class=\"colab-df-convert\" onclick=\"convertToInteractive('df-356c69ef-6328-421f-b5ce-e30bde198d0d')\"\n",
              "              title=\"Convert this dataframe to an interactive table.\"\n",
              "              style=\"display:none;\">\n",
              "        \n",
              "  <svg xmlns=\"http://www.w3.org/2000/svg\" height=\"24px\"viewBox=\"0 0 24 24\"\n",
              "       width=\"24px\">\n",
              "    <path d=\"M0 0h24v24H0V0z\" fill=\"none\"/>\n",
              "    <path d=\"M18.56 5.44l.94 2.06.94-2.06 2.06-.94-2.06-.94-.94-2.06-.94 2.06-2.06.94zm-11 1L8.5 8.5l.94-2.06 2.06-.94-2.06-.94L8.5 2.5l-.94 2.06-2.06.94zm10 10l.94 2.06.94-2.06 2.06-.94-2.06-.94-.94-2.06-.94 2.06-2.06.94z\"/><path d=\"M17.41 7.96l-1.37-1.37c-.4-.4-.92-.59-1.43-.59-.52 0-1.04.2-1.43.59L10.3 9.45l-7.72 7.72c-.78.78-.78 2.05 0 2.83L4 21.41c.39.39.9.59 1.41.59.51 0 1.02-.2 1.41-.59l7.78-7.78 2.81-2.81c.8-.78.8-2.07 0-2.86zM5.41 20L4 18.59l7.72-7.72 1.47 1.35L5.41 20z\"/>\n",
              "  </svg>\n",
              "      </button>\n",
              "      \n",
              "  <style>\n",
              "    .colab-df-container {\n",
              "      display:flex;\n",
              "      flex-wrap:wrap;\n",
              "      gap: 12px;\n",
              "    }\n",
              "\n",
              "    .colab-df-convert {\n",
              "      background-color: #E8F0FE;\n",
              "      border: none;\n",
              "      border-radius: 50%;\n",
              "      cursor: pointer;\n",
              "      display: none;\n",
              "      fill: #1967D2;\n",
              "      height: 32px;\n",
              "      padding: 0 0 0 0;\n",
              "      width: 32px;\n",
              "    }\n",
              "\n",
              "    .colab-df-convert:hover {\n",
              "      background-color: #E2EBFA;\n",
              "      box-shadow: 0px 1px 2px rgba(60, 64, 67, 0.3), 0px 1px 3px 1px rgba(60, 64, 67, 0.15);\n",
              "      fill: #174EA6;\n",
              "    }\n",
              "\n",
              "    [theme=dark] .colab-df-convert {\n",
              "      background-color: #3B4455;\n",
              "      fill: #D2E3FC;\n",
              "    }\n",
              "\n",
              "    [theme=dark] .colab-df-convert:hover {\n",
              "      background-color: #434B5C;\n",
              "      box-shadow: 0px 1px 3px 1px rgba(0, 0, 0, 0.15);\n",
              "      filter: drop-shadow(0px 1px 2px rgba(0, 0, 0, 0.3));\n",
              "      fill: #FFFFFF;\n",
              "    }\n",
              "  </style>\n",
              "\n",
              "      <script>\n",
              "        const buttonEl =\n",
              "          document.querySelector('#df-356c69ef-6328-421f-b5ce-e30bde198d0d button.colab-df-convert');\n",
              "        buttonEl.style.display =\n",
              "          google.colab.kernel.accessAllowed ? 'block' : 'none';\n",
              "\n",
              "        async function convertToInteractive(key) {\n",
              "          const element = document.querySelector('#df-356c69ef-6328-421f-b5ce-e30bde198d0d');\n",
              "          const dataTable =\n",
              "            await google.colab.kernel.invokeFunction('convertToInteractive',\n",
              "                                                     [key], {});\n",
              "          if (!dataTable) return;\n",
              "\n",
              "          const docLinkHtml = 'Like what you see? Visit the ' +\n",
              "            '<a target=\"_blank\" href=https://colab.research.google.com/notebooks/data_table.ipynb>data table notebook</a>'\n",
              "            + ' to learn more about interactive tables.';\n",
              "          element.innerHTML = '';\n",
              "          dataTable['output_type'] = 'display_data';\n",
              "          await google.colab.output.renderOutput(dataTable, element);\n",
              "          const docLink = document.createElement('div');\n",
              "          docLink.innerHTML = docLinkHtml;\n",
              "          element.appendChild(docLink);\n",
              "        }\n",
              "      </script>\n",
              "    </div>\n",
              "  </div>\n",
              "  "
            ]
          },
          "metadata": {},
          "execution_count": 12
        }
      ]
    },
    {
      "cell_type": "code",
      "source": [
        "df['sentiment']=='discriminative'"
      ],
      "metadata": {
        "colab": {
          "base_uri": "https://localhost:8080/"
        },
        "id": "hLlWlcdz1cIF",
        "outputId": "e0c4e9e4-98de-4204-bbc8-4c8b84da4267"
      },
      "execution_count": null,
      "outputs": [
        {
          "output_type": "execute_result",
          "data": {
            "text/plain": [
              "0      False\n",
              "1      False\n",
              "2      False\n",
              "3      False\n",
              "4      False\n",
              "       ...  \n",
              "995     True\n",
              "996    False\n",
              "997     True\n",
              "998    False\n",
              "999    False\n",
              "Name: sentiment, Length: 1000, dtype: bool"
            ]
          },
          "metadata": {},
          "execution_count": 21
        }
      ]
    },
    {
      "cell_type": "code",
      "source": [
        "df.shape"
      ],
      "metadata": {
        "colab": {
          "base_uri": "https://localhost:8080/"
        },
        "id": "ZYwVWViN1xow",
        "outputId": "f97bbfa2-d385-4a1b-e2b3-aafafde93225"
      },
      "execution_count": null,
      "outputs": [
        {
          "output_type": "execute_result",
          "data": {
            "text/plain": [
              "(1000, 2)"
            ]
          },
          "metadata": {},
          "execution_count": 17
        }
      ]
    },
    {
      "cell_type": "code",
      "source": [
        "df.tail()"
      ],
      "metadata": {
        "colab": {
          "base_uri": "https://localhost:8080/",
          "height": 206
        },
        "id": "SPAZZawy3HDL",
        "outputId": "972a912d-f034-434e-e188-23adf8ee73c4"
      },
      "execution_count": null,
      "outputs": [
        {
          "output_type": "execute_result",
          "data": {
            "text/plain": [
              "                                              feedback       sentiment\n",
              "995  The airline staff were biased against me becau...  discriminative\n",
              "996  The flight was perfect. I couldn't have asked ...        positive\n",
              "997  I felt like I was treated differently because ...  discriminative\n",
              "998  The flight was great! The cabin crew were frie...        positive\n",
              "999  The flight was a letdown. The seats were uncom...        negative"
            ],
            "text/html": [
              "\n",
              "  <div id=\"df-49d1665b-c96c-448e-9b80-09ae9b73d27f\">\n",
              "    <div class=\"colab-df-container\">\n",
              "      <div>\n",
              "<style scoped>\n",
              "    .dataframe tbody tr th:only-of-type {\n",
              "        vertical-align: middle;\n",
              "    }\n",
              "\n",
              "    .dataframe tbody tr th {\n",
              "        vertical-align: top;\n",
              "    }\n",
              "\n",
              "    .dataframe thead th {\n",
              "        text-align: right;\n",
              "    }\n",
              "</style>\n",
              "<table border=\"1\" class=\"dataframe\">\n",
              "  <thead>\n",
              "    <tr style=\"text-align: right;\">\n",
              "      <th></th>\n",
              "      <th>feedback</th>\n",
              "      <th>sentiment</th>\n",
              "    </tr>\n",
              "  </thead>\n",
              "  <tbody>\n",
              "    <tr>\n",
              "      <th>995</th>\n",
              "      <td>The airline staff were biased against me becau...</td>\n",
              "      <td>discriminative</td>\n",
              "    </tr>\n",
              "    <tr>\n",
              "      <th>996</th>\n",
              "      <td>The flight was perfect. I couldn't have asked ...</td>\n",
              "      <td>positive</td>\n",
              "    </tr>\n",
              "    <tr>\n",
              "      <th>997</th>\n",
              "      <td>I felt like I was treated differently because ...</td>\n",
              "      <td>discriminative</td>\n",
              "    </tr>\n",
              "    <tr>\n",
              "      <th>998</th>\n",
              "      <td>The flight was great! The cabin crew were frie...</td>\n",
              "      <td>positive</td>\n",
              "    </tr>\n",
              "    <tr>\n",
              "      <th>999</th>\n",
              "      <td>The flight was a letdown. The seats were uncom...</td>\n",
              "      <td>negative</td>\n",
              "    </tr>\n",
              "  </tbody>\n",
              "</table>\n",
              "</div>\n",
              "      <button class=\"colab-df-convert\" onclick=\"convertToInteractive('df-49d1665b-c96c-448e-9b80-09ae9b73d27f')\"\n",
              "              title=\"Convert this dataframe to an interactive table.\"\n",
              "              style=\"display:none;\">\n",
              "        \n",
              "  <svg xmlns=\"http://www.w3.org/2000/svg\" height=\"24px\"viewBox=\"0 0 24 24\"\n",
              "       width=\"24px\">\n",
              "    <path d=\"M0 0h24v24H0V0z\" fill=\"none\"/>\n",
              "    <path d=\"M18.56 5.44l.94 2.06.94-2.06 2.06-.94-2.06-.94-.94-2.06-.94 2.06-2.06.94zm-11 1L8.5 8.5l.94-2.06 2.06-.94-2.06-.94L8.5 2.5l-.94 2.06-2.06.94zm10 10l.94 2.06.94-2.06 2.06-.94-2.06-.94-.94-2.06-.94 2.06-2.06.94z\"/><path d=\"M17.41 7.96l-1.37-1.37c-.4-.4-.92-.59-1.43-.59-.52 0-1.04.2-1.43.59L10.3 9.45l-7.72 7.72c-.78.78-.78 2.05 0 2.83L4 21.41c.39.39.9.59 1.41.59.51 0 1.02-.2 1.41-.59l7.78-7.78 2.81-2.81c.8-.78.8-2.07 0-2.86zM5.41 20L4 18.59l7.72-7.72 1.47 1.35L5.41 20z\"/>\n",
              "  </svg>\n",
              "      </button>\n",
              "      \n",
              "  <style>\n",
              "    .colab-df-container {\n",
              "      display:flex;\n",
              "      flex-wrap:wrap;\n",
              "      gap: 12px;\n",
              "    }\n",
              "\n",
              "    .colab-df-convert {\n",
              "      background-color: #E8F0FE;\n",
              "      border: none;\n",
              "      border-radius: 50%;\n",
              "      cursor: pointer;\n",
              "      display: none;\n",
              "      fill: #1967D2;\n",
              "      height: 32px;\n",
              "      padding: 0 0 0 0;\n",
              "      width: 32px;\n",
              "    }\n",
              "\n",
              "    .colab-df-convert:hover {\n",
              "      background-color: #E2EBFA;\n",
              "      box-shadow: 0px 1px 2px rgba(60, 64, 67, 0.3), 0px 1px 3px 1px rgba(60, 64, 67, 0.15);\n",
              "      fill: #174EA6;\n",
              "    }\n",
              "\n",
              "    [theme=dark] .colab-df-convert {\n",
              "      background-color: #3B4455;\n",
              "      fill: #D2E3FC;\n",
              "    }\n",
              "\n",
              "    [theme=dark] .colab-df-convert:hover {\n",
              "      background-color: #434B5C;\n",
              "      box-shadow: 0px 1px 3px 1px rgba(0, 0, 0, 0.15);\n",
              "      filter: drop-shadow(0px 1px 2px rgba(0, 0, 0, 0.3));\n",
              "      fill: #FFFFFF;\n",
              "    }\n",
              "  </style>\n",
              "\n",
              "      <script>\n",
              "        const buttonEl =\n",
              "          document.querySelector('#df-49d1665b-c96c-448e-9b80-09ae9b73d27f button.colab-df-convert');\n",
              "        buttonEl.style.display =\n",
              "          google.colab.kernel.accessAllowed ? 'block' : 'none';\n",
              "\n",
              "        async function convertToInteractive(key) {\n",
              "          const element = document.querySelector('#df-49d1665b-c96c-448e-9b80-09ae9b73d27f');\n",
              "          const dataTable =\n",
              "            await google.colab.kernel.invokeFunction('convertToInteractive',\n",
              "                                                     [key], {});\n",
              "          if (!dataTable) return;\n",
              "\n",
              "          const docLinkHtml = 'Like what you see? Visit the ' +\n",
              "            '<a target=\"_blank\" href=https://colab.research.google.com/notebooks/data_table.ipynb>data table notebook</a>'\n",
              "            + ' to learn more about interactive tables.';\n",
              "          element.innerHTML = '';\n",
              "          dataTable['output_type'] = 'display_data';\n",
              "          await google.colab.output.renderOutput(dataTable, element);\n",
              "          const docLink = document.createElement('div');\n",
              "          docLink.innerHTML = docLinkHtml;\n",
              "          element.appendChild(docLink);\n",
              "        }\n",
              "      </script>\n",
              "    </div>\n",
              "  </div>\n",
              "  "
            ]
          },
          "metadata": {},
          "execution_count": 18
        }
      ]
    },
    {
      "cell_type": "code",
      "source": [
        "import pandas as pd\n",
        "from sklearn.model_selection import train_test_split\n",
        "from sklearn.feature_extraction.text import CountVectorizer\n",
        "from sklearn.naive_bayes import MultinomialNB\n",
        "from sklearn.metrics import classification_report"
      ],
      "metadata": {
        "id": "fxnwlD1t3ZPb"
      },
      "execution_count": null,
      "outputs": []
    },
    {
      "cell_type": "code",
      "source": [
        "# Load the data\n",
        "df = pd.read_csv(\"airline_feedback_data.csv\")\n",
        "\n",
        "# Split the data into training and testing sets\n",
        "X_train, X_test, y_train, y_test = train_test_split(df[\"feedback\"], df[\"sentiment\"], test_size=0.2, random_state=42)"
      ],
      "metadata": {
        "id": "xNT3MxTL3c5D"
      },
      "execution_count": 6,
      "outputs": []
    },
    {
      "cell_type": "code",
      "source": [
        "import nltk\n",
        "nltk.download('punkt')"
      ],
      "metadata": {
        "colab": {
          "base_uri": "https://localhost:8080/"
        },
        "id": "z0u2MjfRIi50",
        "outputId": "20bf7819-4a5b-4cdd-8dca-d6d8ab2c715b"
      },
      "execution_count": 2,
      "outputs": [
        {
          "output_type": "stream",
          "name": "stderr",
          "text": [
            "[nltk_data] Downloading package punkt to /root/nltk_data...\n",
            "[nltk_data]   Unzipping tokenizers/punkt.zip.\n"
          ]
        },
        {
          "output_type": "execute_result",
          "data": {
            "text/plain": [
              "True"
            ]
          },
          "metadata": {},
          "execution_count": 2
        }
      ]
    },
    {
      "cell_type": "code",
      "source": [
        "import nltk\n",
        "nltk.download('wordnet')"
      ],
      "metadata": {
        "colab": {
          "base_uri": "https://localhost:8080/"
        },
        "id": "XSBW_HdmIvrZ",
        "outputId": "87485ce3-01f0-47b3-842b-313d3e03e002"
      },
      "execution_count": 4,
      "outputs": [
        {
          "output_type": "stream",
          "name": "stderr",
          "text": [
            "[nltk_data] Downloading package wordnet to /root/nltk_data...\n"
          ]
        },
        {
          "output_type": "execute_result",
          "data": {
            "text/plain": [
              "True"
            ]
          },
          "metadata": {},
          "execution_count": 4
        }
      ]
    },
    {
      "cell_type": "code",
      "source": [
        "import nltk\n",
        "from nltk.tokenize import word_tokenize\n",
        "from nltk.stem import WordNetLemmatizer"
      ],
      "metadata": {
        "id": "mmyUUbp0JUA2"
      },
      "execution_count": 10,
      "outputs": []
    },
    {
      "cell_type": "code",
      "source": [
        "# Tokenize and lemmatize the text data\n",
        "lemmatizer = WordNetLemmatizer()\n",
        "X_train_tokens = []\n",
        "for text in X_train:\n",
        "    tokens = word_tokenize(text)\n",
        "    lemmatized_tokens = [lemmatizer.lemmatize(token.lower()) for token in tokens]\n",
        "    X_train_tokens.append(' '.join(lemmatized_tokens))\n"
      ],
      "metadata": {
        "id": "lvDqDE_qI86V"
      },
      "execution_count": 8,
      "outputs": []
    },
    {
      "cell_type": "code",
      "source": [
        "X_test_tokens = []\n",
        "for text in X_test:\n",
        "    tokens = word_tokenize(text)\n",
        "    lemmatized_tokens = [lemmatizer.lemmatize(token.lower()) for token in tokens]\n",
        "    X_test_tokens.append(' '.join(lemmatized_tokens))"
      ],
      "metadata": {
        "id": "1iHFdsQUJD7g"
      },
      "execution_count": 9,
      "outputs": []
    },
    {
      "cell_type": "code",
      "source": [
        "# Vectorize the text data\n",
        "vectorizer = CountVectorizer()\n",
        "X_train_vec = vectorizer.fit_transform(X_train)\n",
        "X_test_vec = vectorizer.transform(X_test)\n"
      ],
      "metadata": {
        "id": "0S3lhBPU3lxA"
      },
      "execution_count": null,
      "outputs": []
    },
    {
      "cell_type": "markdown",
      "source": [
        "Model"
      ],
      "metadata": {
        "id": "dDITKSNC5pOK"
      }
    },
    {
      "cell_type": "code",
      "source": [
        "\n",
        "# Train a Naive Bayes classifier\n",
        "model = MultinomialNB()\n",
        "model.fit(X_train_vec, y_train)"
      ],
      "metadata": {
        "colab": {
          "base_uri": "https://localhost:8080/",
          "height": 74
        },
        "id": "MNF1Gygf3suN",
        "outputId": "5f40c156-4457-404e-850e-4cf22076a0a6"
      },
      "execution_count": null,
      "outputs": [
        {
          "output_type": "execute_result",
          "data": {
            "text/plain": [
              "MultinomialNB()"
            ],
            "text/html": [
              "<style>#sk-container-id-3 {color: black;background-color: white;}#sk-container-id-3 pre{padding: 0;}#sk-container-id-3 div.sk-toggleable {background-color: white;}#sk-container-id-3 label.sk-toggleable__label {cursor: pointer;display: block;width: 100%;margin-bottom: 0;padding: 0.3em;box-sizing: border-box;text-align: center;}#sk-container-id-3 label.sk-toggleable__label-arrow:before {content: \"▸\";float: left;margin-right: 0.25em;color: #696969;}#sk-container-id-3 label.sk-toggleable__label-arrow:hover:before {color: black;}#sk-container-id-3 div.sk-estimator:hover label.sk-toggleable__label-arrow:before {color: black;}#sk-container-id-3 div.sk-toggleable__content {max-height: 0;max-width: 0;overflow: hidden;text-align: left;background-color: #f0f8ff;}#sk-container-id-3 div.sk-toggleable__content pre {margin: 0.2em;color: black;border-radius: 0.25em;background-color: #f0f8ff;}#sk-container-id-3 input.sk-toggleable__control:checked~div.sk-toggleable__content {max-height: 200px;max-width: 100%;overflow: auto;}#sk-container-id-3 input.sk-toggleable__control:checked~label.sk-toggleable__label-arrow:before {content: \"▾\";}#sk-container-id-3 div.sk-estimator input.sk-toggleable__control:checked~label.sk-toggleable__label {background-color: #d4ebff;}#sk-container-id-3 div.sk-label input.sk-toggleable__control:checked~label.sk-toggleable__label {background-color: #d4ebff;}#sk-container-id-3 input.sk-hidden--visually {border: 0;clip: rect(1px 1px 1px 1px);clip: rect(1px, 1px, 1px, 1px);height: 1px;margin: -1px;overflow: hidden;padding: 0;position: absolute;width: 1px;}#sk-container-id-3 div.sk-estimator {font-family: monospace;background-color: #f0f8ff;border: 1px dotted black;border-radius: 0.25em;box-sizing: border-box;margin-bottom: 0.5em;}#sk-container-id-3 div.sk-estimator:hover {background-color: #d4ebff;}#sk-container-id-3 div.sk-parallel-item::after {content: \"\";width: 100%;border-bottom: 1px solid gray;flex-grow: 1;}#sk-container-id-3 div.sk-label:hover label.sk-toggleable__label {background-color: #d4ebff;}#sk-container-id-3 div.sk-serial::before {content: \"\";position: absolute;border-left: 1px solid gray;box-sizing: border-box;top: 0;bottom: 0;left: 50%;z-index: 0;}#sk-container-id-3 div.sk-serial {display: flex;flex-direction: column;align-items: center;background-color: white;padding-right: 0.2em;padding-left: 0.2em;position: relative;}#sk-container-id-3 div.sk-item {position: relative;z-index: 1;}#sk-container-id-3 div.sk-parallel {display: flex;align-items: stretch;justify-content: center;background-color: white;position: relative;}#sk-container-id-3 div.sk-item::before, #sk-container-id-3 div.sk-parallel-item::before {content: \"\";position: absolute;border-left: 1px solid gray;box-sizing: border-box;top: 0;bottom: 0;left: 50%;z-index: -1;}#sk-container-id-3 div.sk-parallel-item {display: flex;flex-direction: column;z-index: 1;position: relative;background-color: white;}#sk-container-id-3 div.sk-parallel-item:first-child::after {align-self: flex-end;width: 50%;}#sk-container-id-3 div.sk-parallel-item:last-child::after {align-self: flex-start;width: 50%;}#sk-container-id-3 div.sk-parallel-item:only-child::after {width: 0;}#sk-container-id-3 div.sk-dashed-wrapped {border: 1px dashed gray;margin: 0 0.4em 0.5em 0.4em;box-sizing: border-box;padding-bottom: 0.4em;background-color: white;}#sk-container-id-3 div.sk-label label {font-family: monospace;font-weight: bold;display: inline-block;line-height: 1.2em;}#sk-container-id-3 div.sk-label-container {text-align: center;}#sk-container-id-3 div.sk-container {/* jupyter's `normalize.less` sets `[hidden] { display: none; }` but bootstrap.min.css set `[hidden] { display: none !important; }` so we also need the `!important` here to be able to override the default hidden behavior on the sphinx rendered scikit-learn.org. See: https://github.com/scikit-learn/scikit-learn/issues/21755 */display: inline-block !important;position: relative;}#sk-container-id-3 div.sk-text-repr-fallback {display: none;}</style><div id=\"sk-container-id-3\" class=\"sk-top-container\"><div class=\"sk-text-repr-fallback\"><pre>MultinomialNB()</pre><b>In a Jupyter environment, please rerun this cell to show the HTML representation or trust the notebook. <br />On GitHub, the HTML representation is unable to render, please try loading this page with nbviewer.org.</b></div><div class=\"sk-container\" hidden><div class=\"sk-item\"><div class=\"sk-estimator sk-toggleable\"><input class=\"sk-toggleable__control sk-hidden--visually\" id=\"sk-estimator-id-3\" type=\"checkbox\" checked><label for=\"sk-estimator-id-3\" class=\"sk-toggleable__label sk-toggleable__label-arrow\">MultinomialNB</label><div class=\"sk-toggleable__content\"><pre>MultinomialNB()</pre></div></div></div></div></div>"
            ]
          },
          "metadata": {},
          "execution_count": 34
        }
      ]
    },
    {
      "cell_type": "code",
      "source": [
        "# Make predictions on the test data\n",
        "y_pred = model.predict(X_test_vec)\n",
        "print(y_pred)"
      ],
      "metadata": {
        "colab": {
          "base_uri": "https://localhost:8080/"
        },
        "id": "GD1R3cCn4Iz8",
        "outputId": "3498c4f0-d952-42f1-f181-fb80cb8d62a8"
      },
      "execution_count": null,
      "outputs": [
        {
          "output_type": "stream",
          "name": "stdout",
          "text": [
            "['discriminative' 'positive' 'positive' 'negative' 'negative' 'positive'\n",
            " 'negative' 'negative' 'discriminative' 'positive' 'negative' 'positive'\n",
            " 'discriminative' 'positive' 'positive' 'positive' 'positive' 'negative'\n",
            " 'positive' 'negative' 'discriminative' 'negative' 'discriminative'\n",
            " 'positive' 'negative' 'positive' 'negative' 'positive' 'negative'\n",
            " 'negative' 'discriminative' 'positive' 'discriminative' 'positive'\n",
            " 'negative' 'discriminative' 'negative' 'negative' 'negative' 'positive'\n",
            " 'positive' 'negative' 'negative' 'discriminative' 'positive' 'negative'\n",
            " 'positive' 'discriminative' 'positive' 'negative' 'positive' 'positive'\n",
            " 'positive' 'negative' 'positive' 'positive' 'positive' 'discriminative'\n",
            " 'negative' 'positive' 'negative' 'positive' 'negative' 'negative'\n",
            " 'discriminative' 'positive' 'negative' 'positive' 'discriminative'\n",
            " 'negative' 'positive' 'discriminative' 'positive' 'negative' 'positive'\n",
            " 'negative' 'positive' 'positive' 'negative' 'negative' 'positive'\n",
            " 'discriminative' 'discriminative' 'positive' 'discriminative'\n",
            " 'discriminative' 'positive' 'negative' 'discriminative' 'positive'\n",
            " 'negative' 'positive' 'discriminative' 'positive' 'positive'\n",
            " 'discriminative' 'discriminative' 'positive' 'positive' 'positive'\n",
            " 'discriminative' 'discriminative' 'negative' 'positive' 'negative'\n",
            " 'positive' 'discriminative' 'positive' 'discriminative' 'discriminative'\n",
            " 'positive' 'negative' 'positive' 'negative' 'negative' 'positive'\n",
            " 'discriminative' 'discriminative' 'negative' 'discriminative' 'positive'\n",
            " 'negative' 'positive' 'negative' 'negative' 'positive' 'positive'\n",
            " 'discriminative' 'positive' 'positive' 'discriminative' 'negative'\n",
            " 'positive' 'discriminative' 'positive' 'discriminative' 'positive'\n",
            " 'negative' 'negative' 'discriminative' 'negative' 'positive' 'positive'\n",
            " 'positive' 'negative' 'positive' 'positive' 'positive' 'negative'\n",
            " 'negative' 'negative' 'negative' 'negative' 'negative' 'positive'\n",
            " 'discriminative' 'discriminative' 'discriminative' 'discriminative'\n",
            " 'negative' 'negative' 'discriminative' 'discriminative' 'discriminative'\n",
            " 'positive' 'positive' 'negative' 'positive' 'positive' 'positive'\n",
            " 'negative' 'positive' 'positive' 'discriminative' 'discriminative'\n",
            " 'negative' 'discriminative' 'positive' 'discriminative' 'negative'\n",
            " 'negative' 'positive' 'positive' 'negative' 'positive' 'discriminative'\n",
            " 'positive' 'negative' 'positive' 'negative' 'positive' 'negative'\n",
            " 'negative' 'discriminative' 'negative' 'negative' 'discriminative'\n",
            " 'discriminative' 'negative' 'positive']\n"
          ]
        }
      ]
    },
    {
      "cell_type": "code",
      "source": [
        "print(classification_report(y_test, y_pred))"
      ],
      "metadata": {
        "colab": {
          "base_uri": "https://localhost:8080/"
        },
        "id": "igJe4N1A4N4G",
        "outputId": "db06ce44-0cdf-46bf-e803-b049429f8e33"
      },
      "execution_count": null,
      "outputs": [
        {
          "output_type": "stream",
          "name": "stdout",
          "text": [
            "                precision    recall  f1-score   support\n",
            "\n",
            "discriminative       1.00      1.00      1.00        50\n",
            "      negative       1.00      1.00      1.00        68\n",
            "      positive       1.00      1.00      1.00        82\n",
            "\n",
            "      accuracy                           1.00       200\n",
            "     macro avg       1.00      1.00      1.00       200\n",
            "  weighted avg       1.00      1.00      1.00       200\n",
            "\n"
          ]
        }
      ]
    },
    {
      "cell_type": "markdown",
      "source": [
        "Saving A Model"
      ],
      "metadata": {
        "id": "sGNyOEIJ5r-g"
      }
    },
    {
      "cell_type": "code",
      "source": [
        "import h5py\n",
        "from sklearn.naive_bayes import MultinomialNB\n",
        "\n",
        "\n",
        "# Save the model in HDF5 format\n",
        "with h5py.File(\"model.h5\", \"w\") as f:\n",
        "    # Create a group to store the model\n",
        "    group = f.create_group(\"model\")\n",
        "\n",
        "    # Store the model parameters\n",
        "    group.create_dataset(\"alpha\", data=model.alpha)\n",
        "    group.create_dataset(\"class_count\", data=model.class_count_)\n",
        "    group.create_dataset(\"feature_count\", data=model.feature_count_)\n",
        " #   group.create_dataset(\"theta\", data=model.theta_)\n",
        "\n",
        "    # Store the classes\n",
        "    classes = [str(c) for c in model.classes_]\n",
        "    group.create_dataset(\"classes\", data=classes)\n"
      ],
      "metadata": {
        "id": "lbpkqP4y4XDx"
      },
      "execution_count": null,
      "outputs": []
    }
  ]
}