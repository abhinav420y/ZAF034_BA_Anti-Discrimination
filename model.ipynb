{
 "cells": [
  {
   "cell_type": "markdown",
   "metadata": {},
   "source": [
    "## Use Case: ZAF034_BA_Anti-Discrimination\n",
    "\n",
    "\n",
    "### Overview\n",
    "\n",
    "The use of Behavioral Analytics in the airline industry involves analyzing data about passenger behavior, preferences, and interactions to gain insights into customer needs and improve the customer experience. This type of analysis can help airlines optimize their services, personalize their offerings, and improve operational efficiency.\n",
    "\n",
    "Behavioral analytics in the airline industry can involve a range of applications, including predicting flight demand, identifying patterns in passenger behavior, understanding customer feedback, and developing targeted marketing campaigns.\n",
    "\n",
    "By leveraging behavioral analytics, airlines can better understand their customers' needs and preferences, leading to more tailored and personalized experiences. This can lead to increased customer satisfaction, loyalty, and revenue for the airline. Additionally, airlines can use behavioral analytics to improve operational efficiency, such as identifying and addressing bottlenecks in the check-in or boarding process, leading to improved on-time performance and overall customer experience.\n",
    "\n",
    "### Methodology\n",
    "The methodology for Airlines Behavioral Analytics can be broken down into several steps:\n",
    "\n",
    "- Data Collection: Collecting the necessary data from various sources such as customer surveys, social media, website analytics, and customer databases.\n",
    "\n",
    "- Data Preparation: Preparing the collected data for analysis by cleaning, formatting, and integrating the data. This involves identifying and addressing any missing or inaccurate data.\n",
    "\n",
    "- Exploratory Data Analysis (EDA): Performing EDA to understand the data distribution, detect outliers, and identify correlations between variables. This step helps in identifying key factors that affect customer behavior and preferences.\n",
    "\n",
    "- Model Development: Developing statistical and machine learning models to predict customer behavior such as booking patterns, cancellations, and preference for certain routes or amenities. This can involve using techniques such as logistic regression.\n",
    "\n",
    "- Model Evaluation: Evaluating the developed models on a test dataset to measure their accuracy, precision, and recall.\n",
    "\n",
    "- Model Deployment: Deploying the developed models into production to analyze real-time data and generate insights that can inform business decisions such as pricing strategies, customer segmentation, and marketing campaigns.\n",
    "\n",
    "- Continuous Improvement: Continuously monitoring and updating the models to improve their accuracy and effectiveness over time.\n",
    "\n",
    "### Business Segments\n",
    "\n",
    "- Airlines\n",
    "- Autonomous Driving\n",
    "- Banking & Finance\n",
    "- Business & Private Sector\n",
    "- Healthcare\n",
    "- Human Resources\n",
    "- Lifestyle & Social Media\n",
    "- Media & Publishing\n",
    "- Retail & E-commerce\n",
    "\n",
    "\n",
    "### AI Application\n",
    "\n",
    "The AI application for Airlines Behavioral Analytics can vary depending on the specific use case and goals of the airline. However, some potential AI applications in this area could include:\n",
    "\n",
    "- Sentiment analysis: Using natural language processing (NLP) techniques to analyze customer feedback from social media, customer reviews, and other sources to identify areas of customer dissatisfaction or areas where the airline can improve its services.\n",
    "\n",
    "- Predictive maintenance: Using machine learning algorithms to analyze data from aircraft sensors, maintenance records, and other sources to predict when maintenance will be needed, allowing the airline to proactively schedule maintenance and minimize downtime.\n",
    "\n",
    "- Flight optimization: Using machine learning algorithms to optimize flight routes and schedules to minimize delays and improve on-time performance.\n",
    "\n",
    "- Personalization: Using customer data and machine learning algorithms to personalize the customer experience, offering customized recommendations for flights, services, and other offerings based on the customer's previous behavior and preferences.\n",
    "\n",
    "- Fraud detection: Using machine learning algorithms to analyze transaction data and identify fraudulent activity, such as credit card fraud or ticket reselling scams\n",
    "\n",
    "### Data\n",
    "A sentiment analysis job about the problems of each major U.S. airline. Twitter data was scraped from February of 2015 and contributors were asked to first classify positive, negative, and neutral tweets, followed by categorizing negative reasons (such as \"late flight\" or \"rude service\"). The project is from a dataset from Kaggle. Link to the Kaggle project site: https://www.kaggle.com/crowdflower/twitter-airline-sentiment The dataset has to be downloaded from the above Kaggle website. The dataset has the following columns: tweet_id airline_sentiment airline_sentiment_confidence negativereason negativereason_confidence airline airline_sentiment_gold name negativereason_gold retweet_count text tweet_coord tweet_created tweet_location user_timezone\n",
    "\n",
    "\n",
    "### Papers\n",
    "- [Sentiment Classification System of Twitter Data for US Airline Service Analysis](https://ieeexplore.ieee.org/abstract/document/8377739?casa_token=zory84RjXREAAAAA:lFHcXZjxwyU2__wv51NICzt-Z_vRCtRVIYk-HJ4TAP8fObBWaUOPoYUbouf9an_70IF5cwodyw)\n",
    "- [Sentiment Analysis of US Airline Twitter Data using New Adaboost Approach](https://www.researchgate.net/profile/Prabhakar-Eswaran/publication/341070490_Sentiment_Analysis_of_US_Airline_Twitter_Data_using_New_Adaboost_Approach/links/5eabc637a6fdcc70509dfb3f/Sentiment-Analysis-of-US-Airline-Twitter-Data-using-New-Adaboost-Approach.pdf)\n",
    "\n",
    "\n",
    "\n",
    "### Demo link\n",
    "Record a 1 min demo and kindly provide a link for this.\n",
    "\n",
    "\n",
    "### Team\n",
    "\n",
    "-  Sanjeeb Tiwary -\t(sanjeebtiwary)\n",
    "- Vaibhavi -\t(Vaibhavi15-04)\n",
    "- Paramesh - \t(Paramaatma)"
   ]
  },
  {
   "cell_type": "markdown",
   "metadata": {},
   "source": [
    "## 1 - Load the data"
   ]
  },
  {
   "cell_type": "code",
   "execution_count": 2,
   "metadata": {
    "is_executing": true,
    "pycharm": {
     "is_executing": true
    }
   },
   "outputs": [
    {
     "name": "stderr",
     "output_type": "stream",
     "text": [
      "[nltk_data] Downloading package punkt to\n",
      "[nltk_data]     C:\\Users\\KIIT\\AppData\\Roaming\\nltk_data...\n",
      "[nltk_data]   Package punkt is already up-to-date!\n",
      "[nltk_data] Downloading package stopwords to\n",
      "[nltk_data]     C:\\Users\\KIIT\\AppData\\Roaming\\nltk_data...\n",
      "[nltk_data]   Package stopwords is already up-to-date!\n",
      "[nltk_data] Downloading package wordnet to\n",
      "[nltk_data]     C:\\Users\\KIIT\\AppData\\Roaming\\nltk_data...\n",
      "[nltk_data]   Package wordnet is already up-to-date!\n"
     ]
    }
   ],
   "source": [
    "import cv2\n",
    "import contractions                                    \n",
    "import re, string, unicodedata                        \n",
    "import numpy as np\n",
    "import pandas as pd\n",
    "import matplotlib.pyplot as plt\n",
    "import seaborn as sns\n",
    "import sklearn\n",
    "import nltk                                             \n",
    "nltk.download('punkt')\n",
    "nltk.download('stopwords')\n",
    "nltk.download('wordnet')\n",
    "from nltk.corpus import stopwords \n",
    "from nltk.tokenize import word_tokenize, sent_tokenize\n",
    "from nltk.stem.wordnet import WordNetLemmatizer \n",
    "from nltk.corpus import stopwords\n",
    "from nltk.stem import PorterStemmer \n",
    "from nltk.tokenize import word_tokenize \n",
    "from sklearn.feature_extraction.text import CountVectorizer\n",
    "from sklearn.feature_extraction.text import TfidfVectorizer \n",
    "from sklearn.model_selection import train_test_split\n",
    "from sklearn.ensemble import RandomForestClassifier\n",
    "from sklearn.model_selection import cross_val_score\n",
    "#from sklearn.metrics import confusion_matrix, plot_confusion_matrix\n",
    "from bs4 import BeautifulSoup\n",
    "%matplotlib inline"
   ]
  },
  {
   "cell_type": "code",
   "execution_count": 3,
   "metadata": {
    "pycharm": {
     "is_executing": true
    },
    "scrolled": true
   },
   "outputs": [
    {
     "data": {
      "text/html": [
       "<div>\n",
       "<style scoped>\n",
       "    .dataframe tbody tr th:only-of-type {\n",
       "        vertical-align: middle;\n",
       "    }\n",
       "\n",
       "    .dataframe tbody tr th {\n",
       "        vertical-align: top;\n",
       "    }\n",
       "\n",
       "    .dataframe thead th {\n",
       "        text-align: right;\n",
       "    }\n",
       "</style>\n",
       "<table border=\"1\" class=\"dataframe\">\n",
       "  <thead>\n",
       "    <tr style=\"text-align: right;\">\n",
       "      <th></th>\n",
       "      <th>tweet_id</th>\n",
       "      <th>airline_sentiment</th>\n",
       "      <th>airline_sentiment_confidence</th>\n",
       "      <th>negativereason</th>\n",
       "      <th>negativereason_confidence</th>\n",
       "      <th>airline</th>\n",
       "      <th>airline_sentiment_gold</th>\n",
       "      <th>name</th>\n",
       "      <th>negativereason_gold</th>\n",
       "      <th>retweet_count</th>\n",
       "      <th>text</th>\n",
       "      <th>tweet_coord</th>\n",
       "      <th>tweet_created</th>\n",
       "      <th>tweet_location</th>\n",
       "      <th>user_timezone</th>\n",
       "    </tr>\n",
       "  </thead>\n",
       "  <tbody>\n",
       "    <tr>\n",
       "      <th>0</th>\n",
       "      <td>5.703060e+17</td>\n",
       "      <td>neutral</td>\n",
       "      <td>1.0000</td>\n",
       "      <td>NaN</td>\n",
       "      <td>NaN</td>\n",
       "      <td>Virgin America</td>\n",
       "      <td>NaN</td>\n",
       "      <td>cairdin</td>\n",
       "      <td>NaN</td>\n",
       "      <td>0</td>\n",
       "      <td>@VirginAmerica What @dhepburn said.</td>\n",
       "      <td>NaN</td>\n",
       "      <td>24-02-2015 11.35</td>\n",
       "      <td>NaN</td>\n",
       "      <td>Eastern Time (US &amp; Canada)</td>\n",
       "    </tr>\n",
       "    <tr>\n",
       "      <th>1</th>\n",
       "      <td>5.703010e+17</td>\n",
       "      <td>positive</td>\n",
       "      <td>0.3486</td>\n",
       "      <td>NaN</td>\n",
       "      <td>0.0000</td>\n",
       "      <td>Virgin America</td>\n",
       "      <td>NaN</td>\n",
       "      <td>jnardino</td>\n",
       "      <td>NaN</td>\n",
       "      <td>0</td>\n",
       "      <td>@VirginAmerica plus you've added commercials t...</td>\n",
       "      <td>NaN</td>\n",
       "      <td>24-02-2015 11.15</td>\n",
       "      <td>NaN</td>\n",
       "      <td>Pacific Time (US &amp; Canada)</td>\n",
       "    </tr>\n",
       "    <tr>\n",
       "      <th>2</th>\n",
       "      <td>5.703010e+17</td>\n",
       "      <td>neutral</td>\n",
       "      <td>0.6837</td>\n",
       "      <td>NaN</td>\n",
       "      <td>NaN</td>\n",
       "      <td>Virgin America</td>\n",
       "      <td>NaN</td>\n",
       "      <td>yvonnalynn</td>\n",
       "      <td>NaN</td>\n",
       "      <td>0</td>\n",
       "      <td>@VirginAmerica I didn't today... Must mean I n...</td>\n",
       "      <td>NaN</td>\n",
       "      <td>24-02-2015 11.15</td>\n",
       "      <td>Lets Play</td>\n",
       "      <td>Central Time (US &amp; Canada)</td>\n",
       "    </tr>\n",
       "    <tr>\n",
       "      <th>3</th>\n",
       "      <td>5.703010e+17</td>\n",
       "      <td>negative</td>\n",
       "      <td>1.0000</td>\n",
       "      <td>Bad Flight</td>\n",
       "      <td>0.7033</td>\n",
       "      <td>Virgin America</td>\n",
       "      <td>NaN</td>\n",
       "      <td>jnardino</td>\n",
       "      <td>NaN</td>\n",
       "      <td>0</td>\n",
       "      <td>@VirginAmerica it's really aggressive to blast...</td>\n",
       "      <td>NaN</td>\n",
       "      <td>24-02-2015 11.15</td>\n",
       "      <td>NaN</td>\n",
       "      <td>Pacific Time (US &amp; Canada)</td>\n",
       "    </tr>\n",
       "    <tr>\n",
       "      <th>4</th>\n",
       "      <td>5.703010e+17</td>\n",
       "      <td>negative</td>\n",
       "      <td>1.0000</td>\n",
       "      <td>Can't Tell</td>\n",
       "      <td>1.0000</td>\n",
       "      <td>Virgin America</td>\n",
       "      <td>NaN</td>\n",
       "      <td>jnardino</td>\n",
       "      <td>NaN</td>\n",
       "      <td>0</td>\n",
       "      <td>@VirginAmerica and it's a really big bad thing...</td>\n",
       "      <td>NaN</td>\n",
       "      <td>24-02-2015 11.14</td>\n",
       "      <td>NaN</td>\n",
       "      <td>Pacific Time (US &amp; Canada)</td>\n",
       "    </tr>\n",
       "    <tr>\n",
       "      <th>5</th>\n",
       "      <td>5.703010e+17</td>\n",
       "      <td>negative</td>\n",
       "      <td>1.0000</td>\n",
       "      <td>Can't Tell</td>\n",
       "      <td>0.6842</td>\n",
       "      <td>Virgin America</td>\n",
       "      <td>NaN</td>\n",
       "      <td>jnardino</td>\n",
       "      <td>NaN</td>\n",
       "      <td>0</td>\n",
       "      <td>@VirginAmerica seriously would pay $30 a fligh...</td>\n",
       "      <td>NaN</td>\n",
       "      <td>24-02-2015 11.14</td>\n",
       "      <td>NaN</td>\n",
       "      <td>Pacific Time (US &amp; Canada)</td>\n",
       "    </tr>\n",
       "    <tr>\n",
       "      <th>6</th>\n",
       "      <td>5.703010e+17</td>\n",
       "      <td>positive</td>\n",
       "      <td>0.6745</td>\n",
       "      <td>NaN</td>\n",
       "      <td>0.0000</td>\n",
       "      <td>Virgin America</td>\n",
       "      <td>NaN</td>\n",
       "      <td>cjmcginnis</td>\n",
       "      <td>NaN</td>\n",
       "      <td>0</td>\n",
       "      <td>@VirginAmerica yes, nearly every time I fly VX...</td>\n",
       "      <td>NaN</td>\n",
       "      <td>24-02-2015 11.13</td>\n",
       "      <td>San Francisco CA</td>\n",
       "      <td>Pacific Time (US &amp; Canada)</td>\n",
       "    </tr>\n",
       "    <tr>\n",
       "      <th>7</th>\n",
       "      <td>5.703000e+17</td>\n",
       "      <td>neutral</td>\n",
       "      <td>0.6340</td>\n",
       "      <td>NaN</td>\n",
       "      <td>NaN</td>\n",
       "      <td>Virgin America</td>\n",
       "      <td>NaN</td>\n",
       "      <td>pilot</td>\n",
       "      <td>NaN</td>\n",
       "      <td>0</td>\n",
       "      <td>@VirginAmerica Really missed a prime opportuni...</td>\n",
       "      <td>NaN</td>\n",
       "      <td>24-02-2015 11.12</td>\n",
       "      <td>Los Angeles</td>\n",
       "      <td>Pacific Time (US &amp; Canada)</td>\n",
       "    </tr>\n",
       "    <tr>\n",
       "      <th>8</th>\n",
       "      <td>5.703000e+17</td>\n",
       "      <td>positive</td>\n",
       "      <td>0.6559</td>\n",
       "      <td>NaN</td>\n",
       "      <td>NaN</td>\n",
       "      <td>Virgin America</td>\n",
       "      <td>NaN</td>\n",
       "      <td>dhepburn</td>\n",
       "      <td>NaN</td>\n",
       "      <td>0</td>\n",
       "      <td>@virginamerica Well, I didn't…but NOW I DO! :-D</td>\n",
       "      <td>NaN</td>\n",
       "      <td>24-02-2015 11.11</td>\n",
       "      <td>San Diego</td>\n",
       "      <td>Pacific Time (US &amp; Canada)</td>\n",
       "    </tr>\n",
       "    <tr>\n",
       "      <th>9</th>\n",
       "      <td>5.702950e+17</td>\n",
       "      <td>positive</td>\n",
       "      <td>1.0000</td>\n",
       "      <td>NaN</td>\n",
       "      <td>NaN</td>\n",
       "      <td>Virgin America</td>\n",
       "      <td>NaN</td>\n",
       "      <td>YupitsTate</td>\n",
       "      <td>NaN</td>\n",
       "      <td>0</td>\n",
       "      <td>@VirginAmerica it was amazing, and arrived an ...</td>\n",
       "      <td>NaN</td>\n",
       "      <td>24-02-2015 10.53</td>\n",
       "      <td>Los Angeles</td>\n",
       "      <td>Eastern Time (US &amp; Canada)</td>\n",
       "    </tr>\n",
       "  </tbody>\n",
       "</table>\n",
       "</div>"
      ],
      "text/plain": [
       "       tweet_id airline_sentiment  airline_sentiment_confidence  \\\n",
       "0  5.703060e+17           neutral                        1.0000   \n",
       "1  5.703010e+17          positive                        0.3486   \n",
       "2  5.703010e+17           neutral                        0.6837   \n",
       "3  5.703010e+17          negative                        1.0000   \n",
       "4  5.703010e+17          negative                        1.0000   \n",
       "5  5.703010e+17          negative                        1.0000   \n",
       "6  5.703010e+17          positive                        0.6745   \n",
       "7  5.703000e+17           neutral                        0.6340   \n",
       "8  5.703000e+17          positive                        0.6559   \n",
       "9  5.702950e+17          positive                        1.0000   \n",
       "\n",
       "  negativereason  negativereason_confidence         airline  \\\n",
       "0            NaN                        NaN  Virgin America   \n",
       "1            NaN                     0.0000  Virgin America   \n",
       "2            NaN                        NaN  Virgin America   \n",
       "3     Bad Flight                     0.7033  Virgin America   \n",
       "4     Can't Tell                     1.0000  Virgin America   \n",
       "5     Can't Tell                     0.6842  Virgin America   \n",
       "6            NaN                     0.0000  Virgin America   \n",
       "7            NaN                        NaN  Virgin America   \n",
       "8            NaN                        NaN  Virgin America   \n",
       "9            NaN                        NaN  Virgin America   \n",
       "\n",
       "  airline_sentiment_gold        name negativereason_gold  retweet_count  \\\n",
       "0                    NaN     cairdin                 NaN              0   \n",
       "1                    NaN    jnardino                 NaN              0   \n",
       "2                    NaN  yvonnalynn                 NaN              0   \n",
       "3                    NaN    jnardino                 NaN              0   \n",
       "4                    NaN    jnardino                 NaN              0   \n",
       "5                    NaN    jnardino                 NaN              0   \n",
       "6                    NaN  cjmcginnis                 NaN              0   \n",
       "7                    NaN       pilot                 NaN              0   \n",
       "8                    NaN    dhepburn                 NaN              0   \n",
       "9                    NaN  YupitsTate                 NaN              0   \n",
       "\n",
       "                                                text tweet_coord  \\\n",
       "0                @VirginAmerica What @dhepburn said.         NaN   \n",
       "1  @VirginAmerica plus you've added commercials t...         NaN   \n",
       "2  @VirginAmerica I didn't today... Must mean I n...         NaN   \n",
       "3  @VirginAmerica it's really aggressive to blast...         NaN   \n",
       "4  @VirginAmerica and it's a really big bad thing...         NaN   \n",
       "5  @VirginAmerica seriously would pay $30 a fligh...         NaN   \n",
       "6  @VirginAmerica yes, nearly every time I fly VX...         NaN   \n",
       "7  @VirginAmerica Really missed a prime opportuni...         NaN   \n",
       "8    @virginamerica Well, I didn't…but NOW I DO! :-D         NaN   \n",
       "9  @VirginAmerica it was amazing, and arrived an ...         NaN   \n",
       "\n",
       "      tweet_created    tweet_location               user_timezone  \n",
       "0  24-02-2015 11.35               NaN  Eastern Time (US & Canada)  \n",
       "1  24-02-2015 11.15               NaN  Pacific Time (US & Canada)  \n",
       "2  24-02-2015 11.15         Lets Play  Central Time (US & Canada)  \n",
       "3  24-02-2015 11.15               NaN  Pacific Time (US & Canada)  \n",
       "4  24-02-2015 11.14               NaN  Pacific Time (US & Canada)  \n",
       "5  24-02-2015 11.14               NaN  Pacific Time (US & Canada)  \n",
       "6  24-02-2015 11.13  San Francisco CA  Pacific Time (US & Canada)  \n",
       "7  24-02-2015 11.12       Los Angeles  Pacific Time (US & Canada)  \n",
       "8  24-02-2015 11.11         San Diego  Pacific Time (US & Canada)  \n",
       "9  24-02-2015 10.53       Los Angeles  Eastern Time (US & Canada)  "
      ]
     },
     "execution_count": 3,
     "metadata": {},
     "output_type": "execute_result"
    }
   ],
   "source": [
    "import pandas as pd\n",
    "df = pd.read_csv('Tweets.csv')\n",
    "df.head(10)"
   ]
  },
  {
   "cell_type": "markdown",
   "metadata": {},
   "source": [
    "# Understand the data EDA (Exploratory Data Analysis)"
   ]
  },
  {
   "cell_type": "code",
   "execution_count": 4,
   "metadata": {},
   "outputs": [
    {
     "name": "stdout",
     "output_type": "stream",
     "text": [
      "df Shape:  (14640, 15)\n",
      "<class 'pandas.core.frame.DataFrame'>\n",
      "RangeIndex: 14640 entries, 0 to 14639\n",
      "Data columns (total 15 columns):\n",
      " #   Column                        Non-Null Count  Dtype  \n",
      "---  ------                        --------------  -----  \n",
      " 0   tweet_id                      14640 non-null  float64\n",
      " 1   airline_sentiment             14640 non-null  object \n",
      " 2   airline_sentiment_confidence  14640 non-null  float64\n",
      " 3   negativereason                9178 non-null   object \n",
      " 4   negativereason_confidence     10522 non-null  float64\n",
      " 5   airline                       14640 non-null  object \n",
      " 6   airline_sentiment_gold        40 non-null     object \n",
      " 7   name                          14640 non-null  object \n",
      " 8   negativereason_gold           32 non-null     object \n",
      " 9   retweet_count                 14640 non-null  int64  \n",
      " 10  text                          14640 non-null  object \n",
      " 11  tweet_coord                   1019 non-null   object \n",
      " 12  tweet_created                 14640 non-null  object \n",
      " 13  tweet_location                9907 non-null   object \n",
      " 14  user_timezone                 9820 non-null   object \n",
      "dtypes: float64(3), int64(1), object(11)\n",
      "memory usage: 1.7+ MB\n",
      "None\n"
     ]
    }
   ],
   "source": [
    "print('df Shape: ', df.shape)\n",
    "print(df.info())"
   ]
  },
  {
   "cell_type": "code",
   "execution_count": 5,
   "metadata": {
    "scrolled": true
   },
   "outputs": [
    {
     "data": {
      "text/plain": [
       "tweet_id                        14640\n",
       "airline_sentiment               14640\n",
       "airline_sentiment_confidence    14640\n",
       "negativereason                   9178\n",
       "negativereason_confidence       10522\n",
       "airline                         14640\n",
       "airline_sentiment_gold             40\n",
       "name                            14640\n",
       "negativereason_gold                32\n",
       "retweet_count                   14640\n",
       "text                            14640\n",
       "tweet_coord                      1019\n",
       "tweet_created                   14640\n",
       "tweet_location                   9907\n",
       "user_timezone                    9820\n",
       "dtype: int64"
      ]
     },
     "execution_count": 5,
     "metadata": {},
     "output_type": "execute_result"
    }
   ],
   "source": [
    "df.notnull().sum()"
   ]
  },
  {
   "cell_type": "code",
   "execution_count": 6,
   "metadata": {
    "scrolled": false
   },
   "outputs": [
    {
     "data": {
      "text/plain": [
       "negative    0.626913\n",
       "neutral     0.211680\n",
       "positive    0.161407\n",
       "Name: airline_sentiment, dtype: float64"
      ]
     },
     "execution_count": 6,
     "metadata": {},
     "output_type": "execute_result"
    }
   ],
   "source": [
    "X = df[['text', 'airline_sentiment']]\n",
    "X.airline_sentiment.value_counts()/len(X)"
   ]
  },
  {
   "cell_type": "code",
   "execution_count": 7,
   "metadata": {},
   "outputs": [
    {
     "name": "stdout",
     "output_type": "stream",
     "text": [
      "(14640, 2)\n"
     ]
    },
    {
     "data": {
      "text/plain": [
       "text                 0\n",
       "airline_sentiment    0\n",
       "dtype: int64"
      ]
     },
     "execution_count": 7,
     "metadata": {},
     "output_type": "execute_result"
    }
   ],
   "source": [
    "print(X.shape)\n",
    "X.isnull().sum(axis=0)  "
   ]
  },
  {
   "cell_type": "code",
   "execution_count": 8,
   "metadata": {},
   "outputs": [
    {
     "name": "stdout",
     "output_type": "stream",
     "text": [
      "                                                                                                                             text  \\\n",
      "0                                                                                             @VirginAmerica What @dhepburn said.   \n",
      "1                                                        @VirginAmerica plus you've added commercials to the experience... tacky.   \n",
      "2                                                         @VirginAmerica I didn't today... Must mean I need to take another trip!   \n",
      "3  @VirginAmerica it's really aggressive to blast obnoxious \"entertainment\" in your guests' faces &amp; they have little recourse   \n",
      "4                                                                         @VirginAmerica and it's a really big bad thing about it   \n",
      "\n",
      "  airline_sentiment  \n",
      "0           neutral  \n",
      "1          positive  \n",
      "2           neutral  \n",
      "3          negative  \n",
      "4          negative  \n"
     ]
    }
   ],
   "source": [
    "pd.set_option('display.max_colwidth', None) # Display full dataframe information (Non-turncated Text column.)10\n",
    "print(X.head(5))"
   ]
  },
  {
   "cell_type": "markdown",
   "metadata": {},
   "source": [
    "## 2 - Text pre-processing: Data preparation"
   ]
  },
  {
   "cell_type": "code",
   "execution_count": 9,
   "metadata": {},
   "outputs": [],
   "source": [
    "sw = stopwords.words('english')\n",
    "\n",
    "customlist = ['not', \"couldn't\", 'didn', \"didn't\", 'doesn', \"doesn't\", 'hadn', \"hadn't\", 'hasn',\n",
    "        \"hasn't\", 'haven', \"haven't\", 'isn', \"isn't\", 'ma', 'mightn', \"mightn't\", 'mustn',\n",
    "        \"mustn't\", 'needn', \"needn't\", 'shan', \"shan't\", 'shouldn', \"shouldn't\", 'wasn',\n",
    "        \"wasn't\", 'weren', \"weren't\", 'won', \"won't\", 'wouldn', \"wouldn't\"]\n",
    "stopwords = list(set(sw) - set(customlist))\n",
    "lemmatizer = WordNetLemmatizer()"
   ]
  },
  {
   "cell_type": "code",
   "execution_count": 10,
   "metadata": {},
   "outputs": [
    {
     "name": "stderr",
     "output_type": "stream",
     "text": [
      "C:\\Users\\KIIT\\AppData\\Local\\Packages\\PythonSoftwareFoundation.Python.3.9_qbz5n2kfra8p0\\LocalCache\\local-packages\\Python39\\site-packages\\bs4\\__init__.py:435: MarkupResemblesLocatorWarning: The input looks more like a filename than markup. You may want to open this file and pass the filehandle into Beautiful Soup.\n",
      "  warnings.warn(\n",
      "C:\\Users\\KIIT\\AppData\\Local\\Temp\\ipykernel_9720\\861581151.py:4: SettingWithCopyWarning: \n",
      "A value is trying to be set on a copy of a slice from a DataFrame.\n",
      "Try using .loc[row_indexer,col_indexer] = value instead\n",
      "\n",
      "See the caveats in the documentation: https://pandas.pydata.org/pandas-docs/stable/user_guide/indexing.html#returning-a-view-versus-a-copy\n",
      "  X['text'] = X['text'].apply(lambda i: html(i))\n"
     ]
    },
    {
     "data": {
      "text/html": [
       "<div>\n",
       "<style scoped>\n",
       "    .dataframe tbody tr th:only-of-type {\n",
       "        vertical-align: middle;\n",
       "    }\n",
       "\n",
       "    .dataframe tbody tr th {\n",
       "        vertical-align: top;\n",
       "    }\n",
       "\n",
       "    .dataframe thead th {\n",
       "        text-align: right;\n",
       "    }\n",
       "</style>\n",
       "<table border=\"1\" class=\"dataframe\">\n",
       "  <thead>\n",
       "    <tr style=\"text-align: right;\">\n",
       "      <th></th>\n",
       "      <th>text</th>\n",
       "      <th>airline_sentiment</th>\n",
       "    </tr>\n",
       "  </thead>\n",
       "  <tbody>\n",
       "    <tr>\n",
       "      <th>0</th>\n",
       "      <td>@VirginAmerica What @dhepburn said.</td>\n",
       "      <td>neutral</td>\n",
       "    </tr>\n",
       "    <tr>\n",
       "      <th>1</th>\n",
       "      <td>@VirginAmerica plus you've added commercials to the experience... tacky.</td>\n",
       "      <td>positive</td>\n",
       "    </tr>\n",
       "    <tr>\n",
       "      <th>2</th>\n",
       "      <td>@VirginAmerica I didn't today... Must mean I need to take another trip!</td>\n",
       "      <td>neutral</td>\n",
       "    </tr>\n",
       "    <tr>\n",
       "      <th>3</th>\n",
       "      <td>@VirginAmerica it's really aggressive to blast obnoxious \"entertainment\" in your guests' faces &amp; they have little recourse</td>\n",
       "      <td>negative</td>\n",
       "    </tr>\n",
       "    <tr>\n",
       "      <th>4</th>\n",
       "      <td>@VirginAmerica and it's a really big bad thing about it</td>\n",
       "      <td>negative</td>\n",
       "    </tr>\n",
       "  </tbody>\n",
       "</table>\n",
       "</div>"
      ],
      "text/plain": [
       "                                                                                                                         text  \\\n",
       "0                                                                                         @VirginAmerica What @dhepburn said.   \n",
       "1                                                    @VirginAmerica plus you've added commercials to the experience... tacky.   \n",
       "2                                                     @VirginAmerica I didn't today... Must mean I need to take another trip!   \n",
       "3  @VirginAmerica it's really aggressive to blast obnoxious \"entertainment\" in your guests' faces & they have little recourse   \n",
       "4                                                                     @VirginAmerica and it's a really big bad thing about it   \n",
       "\n",
       "  airline_sentiment  \n",
       "0           neutral  \n",
       "1          positive  \n",
       "2           neutral  \n",
       "3          negative  \n",
       "4          negative  "
      ]
     },
     "execution_count": 10,
     "metadata": {},
     "output_type": "execute_result"
    }
   ],
   "source": [
    "# Html tag removal, function to remove HTML tags\n",
    "def html(textcpy):\n",
    "    return BeautifulSoup(textcpy, 'html.parser').get_text()\n",
    "X['text'] = X['text'].apply(lambda i: html(i))\n",
    "X.head()"
   ]
  },
  {
   "cell_type": "code",
   "execution_count": 11,
   "metadata": {},
   "outputs": [
    {
     "name": "stderr",
     "output_type": "stream",
     "text": [
      "C:\\Users\\KIIT\\AppData\\Local\\Temp\\ipykernel_9720\\1812310784.py:4: SettingWithCopyWarning: \n",
      "A value is trying to be set on a copy of a slice from a DataFrame.\n",
      "Try using .loc[row_indexer,col_indexer] = value instead\n",
      "\n",
      "See the caveats in the documentation: https://pandas.pydata.org/pandas-docs/stable/user_guide/indexing.html#returning-a-view-versus-a-copy\n",
      "  X['text'] = X['text'].apply(lambda i: underscore(i))\n"
     ]
    },
    {
     "data": {
      "text/html": [
       "<div>\n",
       "<style scoped>\n",
       "    .dataframe tbody tr th:only-of-type {\n",
       "        vertical-align: middle;\n",
       "    }\n",
       "\n",
       "    .dataframe tbody tr th {\n",
       "        vertical-align: top;\n",
       "    }\n",
       "\n",
       "    .dataframe thead th {\n",
       "        text-align: right;\n",
       "    }\n",
       "</style>\n",
       "<table border=\"1\" class=\"dataframe\">\n",
       "  <thead>\n",
       "    <tr style=\"text-align: right;\">\n",
       "      <th></th>\n",
       "      <th>text</th>\n",
       "      <th>airline_sentiment</th>\n",
       "    </tr>\n",
       "  </thead>\n",
       "  <tbody>\n",
       "    <tr>\n",
       "      <th>0</th>\n",
       "      <td>@VirginAmerica What @dhepburn said.</td>\n",
       "      <td>neutral</td>\n",
       "    </tr>\n",
       "    <tr>\n",
       "      <th>1</th>\n",
       "      <td>@VirginAmerica plus you've added commercials to the experience... tacky.</td>\n",
       "      <td>positive</td>\n",
       "    </tr>\n",
       "    <tr>\n",
       "      <th>2</th>\n",
       "      <td>@VirginAmerica I didn't today... Must mean I need to take another trip!</td>\n",
       "      <td>neutral</td>\n",
       "    </tr>\n",
       "    <tr>\n",
       "      <th>3</th>\n",
       "      <td>@VirginAmerica it's really aggressive to blast obnoxious \"entertainment\" in your guests' faces &amp; they have little recourse</td>\n",
       "      <td>negative</td>\n",
       "    </tr>\n",
       "    <tr>\n",
       "      <th>4</th>\n",
       "      <td>@VirginAmerica and it's a really big bad thing about it</td>\n",
       "      <td>negative</td>\n",
       "    </tr>\n",
       "  </tbody>\n",
       "</table>\n",
       "</div>"
      ],
      "text/plain": [
       "                                                                                                                         text  \\\n",
       "0                                                                                         @VirginAmerica What @dhepburn said.   \n",
       "1                                                    @VirginAmerica plus you've added commercials to the experience... tacky.   \n",
       "2                                                     @VirginAmerica I didn't today... Must mean I need to take another trip!   \n",
       "3  @VirginAmerica it's really aggressive to blast obnoxious \"entertainment\" in your guests' faces & they have little recourse   \n",
       "4                                                                     @VirginAmerica and it's a really big bad thing about it   \n",
       "\n",
       "  airline_sentiment  \n",
       "0           neutral  \n",
       "1          positive  \n",
       "2           neutral  \n",
       "3          negative  \n",
       "4          negative  "
      ]
     },
     "execution_count": 11,
     "metadata": {},
     "output_type": "execute_result"
    }
   ],
   "source": [
    "# Remove Underscore\n",
    "def underscore (textcpy):\n",
    "    return re.sub(r'_', '', textcpy)\n",
    "X['text'] = X['text'].apply(lambda i: underscore(i))\n",
    "X.head()"
   ]
  },
  {
   "cell_type": "code",
   "execution_count": 12,
   "metadata": {},
   "outputs": [
    {
     "name": "stderr",
     "output_type": "stream",
     "text": [
      "C:\\Users\\KIIT\\AppData\\Local\\Temp\\ipykernel_9720\\402971760.py:5: SettingWithCopyWarning: \n",
      "A value is trying to be set on a copy of a slice from a DataFrame.\n",
      "Try using .loc[row_indexer,col_indexer] = value instead\n",
      "\n",
      "See the caveats in the documentation: https://pandas.pydata.org/pandas-docs/stable/user_guide/indexing.html#returning-a-view-versus-a-copy\n",
      "  X['text'] = X['text'].apply(expand_contractions)\n"
     ]
    }
   ],
   "source": [
    "import contractions\n",
    "\n",
    "def expand_contractions(text):\n",
    "    return contractions.fix(text)\n",
    "X['text'] = X['text'].apply(expand_contractions)"
   ]
  },
  {
   "cell_type": "code",
   "execution_count": 13,
   "metadata": {},
   "outputs": [
    {
     "name": "stderr",
     "output_type": "stream",
     "text": [
      "C:\\Users\\KIIT\\AppData\\Local\\Temp\\ipykernel_9720\\2360402423.py:3: SettingWithCopyWarning: \n",
      "A value is trying to be set on a copy of a slice from a DataFrame.\n",
      "Try using .loc[row_indexer,col_indexer] = value instead\n",
      "\n",
      "See the caveats in the documentation: https://pandas.pydata.org/pandas-docs/stable/user_guide/indexing.html#returning-a-view-versus-a-copy\n",
      "  X['text'] = X['text'].apply(lambda i: numbers(i))\n"
     ]
    },
    {
     "data": {
      "text/html": [
       "<div>\n",
       "<style scoped>\n",
       "    .dataframe tbody tr th:only-of-type {\n",
       "        vertical-align: middle;\n",
       "    }\n",
       "\n",
       "    .dataframe tbody tr th {\n",
       "        vertical-align: top;\n",
       "    }\n",
       "\n",
       "    .dataframe thead th {\n",
       "        text-align: right;\n",
       "    }\n",
       "</style>\n",
       "<table border=\"1\" class=\"dataframe\">\n",
       "  <thead>\n",
       "    <tr style=\"text-align: right;\">\n",
       "      <th></th>\n",
       "      <th>text</th>\n",
       "      <th>airline_sentiment</th>\n",
       "    </tr>\n",
       "  </thead>\n",
       "  <tbody>\n",
       "    <tr>\n",
       "      <th>0</th>\n",
       "      <td>@VirginAmerica What @dhepburn said.</td>\n",
       "      <td>neutral</td>\n",
       "    </tr>\n",
       "    <tr>\n",
       "      <th>1</th>\n",
       "      <td>@VirginAmerica plus you have added commercials to the experience... tacky.</td>\n",
       "      <td>positive</td>\n",
       "    </tr>\n",
       "    <tr>\n",
       "      <th>2</th>\n",
       "      <td>@VirginAmerica I did not today... Must mean I need to take another trip!</td>\n",
       "      <td>neutral</td>\n",
       "    </tr>\n",
       "    <tr>\n",
       "      <th>3</th>\n",
       "      <td>@VirginAmerica it is really aggressive to blast obnoxious \"entertainment\" in your guests' faces &amp; they have little recourse</td>\n",
       "      <td>negative</td>\n",
       "    </tr>\n",
       "    <tr>\n",
       "      <th>4</th>\n",
       "      <td>@VirginAmerica and it is a really big bad thing about it</td>\n",
       "      <td>negative</td>\n",
       "    </tr>\n",
       "  </tbody>\n",
       "</table>\n",
       "</div>"
      ],
      "text/plain": [
       "                                                                                                                          text  \\\n",
       "0                                                                                          @VirginAmerica What @dhepburn said.   \n",
       "1                                                   @VirginAmerica plus you have added commercials to the experience... tacky.   \n",
       "2                                                     @VirginAmerica I did not today... Must mean I need to take another trip!   \n",
       "3  @VirginAmerica it is really aggressive to blast obnoxious \"entertainment\" in your guests' faces & they have little recourse   \n",
       "4                                                                     @VirginAmerica and it is a really big bad thing about it   \n",
       "\n",
       "  airline_sentiment  \n",
       "0           neutral  \n",
       "1          positive  \n",
       "2           neutral  \n",
       "3          negative  \n",
       "4          negative  "
      ]
     },
     "execution_count": 13,
     "metadata": {},
     "output_type": "execute_result"
    }
   ],
   "source": [
    "def numbers(textcpy):\n",
    "  return re.sub(r'\\d+', '', textcpy)\n",
    "X['text'] = X['text'].apply(lambda i: numbers(i))\n",
    "X.head()"
   ]
  },
  {
   "cell_type": "code",
   "execution_count": 14,
   "metadata": {},
   "outputs": [
    {
     "name": "stdout",
     "output_type": "stream",
     "text": [
      "                                                                                                                                                                                                                                                                                                                text  \\\n",
      "0                                                                                                                                                                                                          [@, v, i, r, g, i, n, a, m, e, r, i, c, a,  , w, h, a, t,  , @, d, h, e, p, b, u, r, n,  , s, a, i, d, .]   \n",
      "1                                                                                     [@, v, i, r, g, i, n, a, m, e, r, i, c, a,  , p, l, u, s,  , y, o, u,  , h, a, v, e,  , a, d, d, e, d,  , c, o, m, m, e, r, c, i, a, l, s,  , t, o,  , t, h, e,  , e, x, p, e, r, i, e, n, c, e, ., ., .,  , t, a, c, k, y, .]   \n",
      "2                                                                                           [@, v, i, r, g, i, n, a, m, e, r, i, c, a,  , i,  , d, i, d,  , n, o, t,  , t, o, d, a, y, ., ., .,  , m, u, s, t,  , m, e, a, n,  , i,  , n, e, e, d,  , t, o,  , t, a, k, e,  , a, n, o, t, h, e, r,  , t, r, i, p, !]   \n",
      "3  [@, v, i, r, g, i, n, a, m, e, r, i, c, a,  , i, t,  , i, s,  , r, e, a, l, l, y,  , a, g, g, r, e, s, s, i, v, e,  , t, o,  , b, l, a, s, t,  , o, b, n, o, x, i, o, u, s,  , \", e, n, t, e, r, t, a, i, n, m, e, n, t, \",  , i, n,  , y, o, u, r,  , g, u, e, s, t, s, ',  , f, a, c, e, s,  , &,  , t, h, ...]   \n",
      "4                                                                                                                                           [@, v, i, r, g, i, n, a, m, e, r, i, c, a,  , a, n, d,  , i, t,  , i, s,  , a,  , r, e, a, l, l, y,  , b, i, g,  , b, a, d,  , t, h, i, n, g,  , a, b, o, u, t,  , i, t]   \n",
      "\n",
      "  airline_sentiment  \n",
      "0           neutral  \n",
      "1          positive  \n",
      "2           neutral  \n",
      "3          negative  \n",
      "4          negative  \n"
     ]
    },
    {
     "name": "stderr",
     "output_type": "stream",
     "text": [
      "C:\\Users\\KIIT\\AppData\\Local\\Temp\\ipykernel_9720\\3686071092.py:7: SettingWithCopyWarning: \n",
      "A value is trying to be set on a copy of a slice from a DataFrame.\n",
      "Try using .loc[row_indexer,col_indexer] = value instead\n",
      "\n",
      "See the caveats in the documentation: https://pandas.pydata.org/pandas-docs/stable/user_guide/indexing.html#returning-a-view-versus-a-copy\n",
      "  X['text'] = X.apply(lambda row: lowercase(row['text']), axis=1)\n"
     ]
    }
   ],
   "source": [
    "def lowercase(words):\n",
    "    new_words = []\n",
    "    for word in words:\n",
    "        new_word = word.lower()\n",
    "        new_words.append(new_word)\n",
    "    return new_words\n",
    "X['text'] = X.apply(lambda row: lowercase(row['text']), axis=1)\n",
    "print(X.head())"
   ]
  },
  {
   "cell_type": "code",
   "execution_count": 15,
   "metadata": {},
   "outputs": [
    {
     "name": "stdout",
     "output_type": "stream",
     "text": [
      "                                                                                                                                                                                                                                                                                                                text  \\\n",
      "0                                                                                                                                                                                                          [@, v, i, r, g, i, n, a, m, e, r, i, c, a,  , w, h, a, t,  , @, d, h, e, p, b, u, r, n,  , s, a, i, d, .]   \n",
      "1                                                                                     [@, v, i, r, g, i, n, a, m, e, r, i, c, a,  , p, l, u, s,  , y, o, u,  , h, a, v, e,  , a, d, d, e, d,  , c, o, m, m, e, r, c, i, a, l, s,  , t, o,  , t, h, e,  , e, x, p, e, r, i, e, n, c, e, ., ., .,  , t, a, c, k, y, .]   \n",
      "2                                                                                           [@, v, i, r, g, i, n, a, m, e, r, i, c, a,  , i,  , d, i, d,  , n, o, t,  , t, o, d, a, y, ., ., .,  , m, u, s, t,  , m, e, a, n,  , i,  , n, e, e, d,  , t, o,  , t, a, k, e,  , a, n, o, t, h, e, r,  , t, r, i, p, !]   \n",
      "3  [@, v, i, r, g, i, n, a, m, e, r, i, c, a,  , i, t,  , i, s,  , r, e, a, l, l, y,  , a, g, g, r, e, s, s, i, v, e,  , t, o,  , b, l, a, s, t,  , o, b, n, o, x, i, o, u, s,  , \", e, n, t, e, r, t, a, i, n, m, e, n, t, \",  , i, n,  , y, o, u, r,  , g, u, e, s, t, s, ',  , f, a, c, e, s,  , &,  , t, h, ...]   \n",
      "4                                                                                                                                           [@, v, i, r, g, i, n, a, m, e, r, i, c, a,  , a, n, d,  , i, t,  , i, s,  , a,  , r, e, a, l, l, y,  , b, i, g,  , b, a, d,  , t, h, i, n, g,  , a, b, o, u, t,  , i, t]   \n",
      "\n",
      "  airline_sentiment  \n",
      "0           neutral  \n",
      "1          positive  \n",
      "2           neutral  \n",
      "3          negative  \n",
      "4          negative  \n"
     ]
    },
    {
     "name": "stderr",
     "output_type": "stream",
     "text": [
      "C:\\Users\\KIIT\\AppData\\Local\\Temp\\ipykernel_9720\\241153808.py:7: SettingWithCopyWarning: \n",
      "A value is trying to be set on a copy of a slice from a DataFrame.\n",
      "Try using .loc[row_indexer,col_indexer] = value instead\n",
      "\n",
      "See the caveats in the documentation: https://pandas.pydata.org/pandas-docs/stable/user_guide/indexing.html#returning-a-view-versus-a-copy\n",
      "  X['text'] = X.apply(lambda row: non_ascii(row['text']), axis=1)\n"
     ]
    }
   ],
   "source": [
    "def non_ascii(words):\n",
    "    new_words = []\n",
    "    for word in words:\n",
    "        new_word = unicodedata.normalize('NFKD', word).encode('ascii', 'ignore').decode('utf-8', 'ignore')\n",
    "        new_words.append(new_word)\n",
    "    return new_words\n",
    "X['text'] = X.apply(lambda row: non_ascii(row['text']), axis=1)\n",
    "print(X.head())"
   ]
  },
  {
   "cell_type": "code",
   "execution_count": 16,
   "metadata": {},
   "outputs": [
    {
     "name": "stdout",
     "output_type": "stream",
     "text": [
      "                                                                                                                                                                                                                                                                                                                text  \\\n",
      "0                                                                                                                                                                                                                   [v, i, r, g, i, n, a, m, e, r, i, c, a,  , w, h, a, t,  , d, h, e, p, b, u, r, n,  , s, a, i, d]   \n",
      "1                                                                                                    [v, i, r, g, i, n, a, m, e, r, i, c, a,  , p, l, u, s,  , y, o, u,  , h, a, v, e,  , a, d, d, e, d,  , c, o, m, m, e, r, c, i, a, l, s,  , t, o,  , t, h, e,  , e, x, p, e, r, i, e, n, c, e,  , t, a, c, k, y]   \n",
      "2                                                                                                          [v, i, r, g, i, n, a, m, e, r, i, c, a,  , i,  , d, i, d,  , n, o, t,  , t, o, d, a, y,  , m, u, s, t,  , m, e, a, n,  , i,  , n, e, e, d,  , t, o,  , t, a, k, e,  , a, n, o, t, h, e, r,  , t, r, i, p]   \n",
      "3  [v, i, r, g, i, n, a, m, e, r, i, c, a,  , i, t,  , i, s,  , r, e, a, l, l, y,  , a, g, g, r, e, s, s, i, v, e,  , t, o,  , b, l, a, s, t,  , o, b, n, o, x, i, o, u, s,  , e, n, t, e, r, t, a, i, n, m, e, n, t,  , i, n,  , y, o, u, r,  , g, u, e, s, t, s,  , f, a, c, e, s,  ,  , t, h, e, y,  , h, a, ...]   \n",
      "4                                                                                                                                              [v, i, r, g, i, n, a, m, e, r, i, c, a,  , a, n, d,  , i, t,  , i, s,  , a,  , r, e, a, l, l, y,  , b, i, g,  , b, a, d,  , t, h, i, n, g,  , a, b, o, u, t,  , i, t]   \n",
      "\n",
      "  airline_sentiment  \n",
      "0           neutral  \n",
      "1          positive  \n",
      "2           neutral  \n",
      "3          negative  \n",
      "4          negative  \n"
     ]
    },
    {
     "name": "stderr",
     "output_type": "stream",
     "text": [
      "C:\\Users\\KIIT\\AppData\\Local\\Temp\\ipykernel_9720\\1232759129.py:8: SettingWithCopyWarning: \n",
      "A value is trying to be set on a copy of a slice from a DataFrame.\n",
      "Try using .loc[row_indexer,col_indexer] = value instead\n",
      "\n",
      "See the caveats in the documentation: https://pandas.pydata.org/pandas-docs/stable/user_guide/indexing.html#returning-a-view-versus-a-copy\n",
      "  X['text'] = X.apply(lambda row: punctuation(row['text']), axis=1)\n"
     ]
    }
   ],
   "source": [
    "def punctuation(words):\n",
    "    new_words = []\n",
    "    for word in words:\n",
    "        new_word = re.sub(r'[^\\w\\s]', '', word)\n",
    "        if new_word != '':\n",
    "            new_words.append(new_word)\n",
    "    return new_words\n",
    "X['text'] = X.apply(lambda row: punctuation(row['text']), axis=1)\n",
    "print(X.head())"
   ]
  },
  {
   "cell_type": "code",
   "execution_count": 22,
   "metadata": {},
   "outputs": [],
   "source": [
    "def lemmatize_list(words):\n",
    "    new_words = []\n",
    "    for word in words:\n",
    "      new_words.append(lemmatizer.lemmatize(word, pos='v'))\n",
    "    return new_words"
   ]
  },
  {
   "cell_type": "code",
   "execution_count": 23,
   "metadata": {},
   "outputs": [
    {
     "name": "stderr",
     "output_type": "stream",
     "text": [
      "C:\\Users\\KIIT\\AppData\\Local\\Temp\\ipykernel_9720\\3365882411.py:3: SettingWithCopyWarning: \n",
      "A value is trying to be set on a copy of a slice from a DataFrame.\n",
      "Try using .loc[row_indexer,col_indexer] = value instead\n",
      "\n",
      "See the caveats in the documentation: https://pandas.pydata.org/pandas-docs/stable/user_guide/indexing.html#returning-a-view-versus-a-copy\n",
      "  X['text'] = X.apply(lambda row: join_words(row['text']), axis=1)\n"
     ]
    }
   ],
   "source": [
    "def join_words(words):          \n",
    "    return ' '.join(map(str, words))\n",
    "X['text'] = X.apply(lambda row: join_words(row['text']), axis=1)"
   ]
  },
  {
   "cell_type": "markdown",
   "metadata": {},
   "source": [
    "Tokenize data"
   ]
  },
  {
   "cell_type": "code",
   "execution_count": 24,
   "metadata": {},
   "outputs": [
    {
     "name": "stdout",
     "output_type": "stream",
     "text": [
      "                                                                                                                                                                                                                                                                                                                text  \\\n",
      "0                                                                                                                                                                                                                            [v, i, r, g, i, n, a, m, e, r, i, c, a, w, h, a, t, d, h, e, p, b, u, r, n, s, a, i, d]   \n",
      "1                                                                                                                               [v, i, r, g, i, n, a, m, e, r, i, c, a, p, l, u, s, y, o, u, h, a, v, e, a, d, d, e, d, c, o, m, m, e, r, c, i, a, l, s, t, o, t, h, e, e, x, p, e, r, i, e, n, c, e, t, a, c, k, y]   \n",
      "2                                                                                                                                              [v, i, r, g, i, n, a, m, e, r, i, c, a, i, d, i, d, n, o, t, t, o, d, a, y, m, u, s, t, m, e, a, n, i, n, e, e, d, t, o, t, a, k, e, a, n, o, t, h, e, r, t, r, i, p]   \n",
      "3  [v, i, r, g, i, n, a, m, e, r, i, c, a, i, t, i, s, r, e, a, l, l, y, a, g, g, r, e, s, s, i, v, e, t, o, b, l, a, s, t, o, b, n, o, x, i, o, u, s, e, n, t, e, r, t, a, i, n, m, e, n, t, i, n, y, o, u, r, g, u, e, s, t, s, f, a, c, e, s, t, h, e, y, h, a, v, e, l, i, t, t, l, e, r, e, c, o, u, r, s, ...]   \n",
      "4                                                                                                                                                                            [v, i, r, g, i, n, a, m, e, r, i, c, a, a, n, d, i, t, i, s, a, r, e, a, l, l, y, b, i, g, b, a, d, t, h, i, n, g, a, b, o, u, t, i, t]   \n",
      "\n",
      "  airline_sentiment  \n",
      "0           neutral  \n",
      "1          positive  \n",
      "2           neutral  \n",
      "3          negative  \n",
      "4          negative  \n"
     ]
    },
    {
     "name": "stderr",
     "output_type": "stream",
     "text": [
      "C:\\Users\\KIIT\\AppData\\Local\\Temp\\ipykernel_9720\\746372205.py:1: SettingWithCopyWarning: \n",
      "A value is trying to be set on a copy of a slice from a DataFrame.\n",
      "Try using .loc[row_indexer,col_indexer] = value instead\n",
      "\n",
      "See the caveats in the documentation: https://pandas.pydata.org/pandas-docs/stable/user_guide/indexing.html#returning-a-view-versus-a-copy\n",
      "  X['text'] = X.apply(lambda row: nltk.word_tokenize(row['text']), axis=1) # Tokenization of data\n"
     ]
    }
   ],
   "source": [
    "X['text'] = X.apply(lambda row: nltk.word_tokenize(row['text']), axis=1) # Tokenization of data\n",
    "print(X.head())"
   ]
  },
  {
   "cell_type": "code",
   "execution_count": 25,
   "metadata": {},
   "outputs": [
    {
     "name": "stderr",
     "output_type": "stream",
     "text": [
      "C:\\Users\\KIIT\\AppData\\Local\\Temp\\ipykernel_9720\\1820641012.py:1: SettingWithCopyWarning: \n",
      "A value is trying to be set on a copy of a slice from a DataFrame.\n",
      "Try using .loc[row_indexer,col_indexer] = value instead\n",
      "\n",
      "See the caveats in the documentation: https://pandas.pydata.org/pandas-docs/stable/user_guide/indexing.html#returning-a-view-versus-a-copy\n",
      "  X['text'] = X.apply(lambda row: join_words(row['text']), axis=1)\n"
     ]
    }
   ],
   "source": [
    "X['text'] = X.apply(lambda row: join_words(row['text']), axis=1)"
   ]
  },
  {
   "cell_type": "markdown",
   "metadata": {},
   "source": [
    "Print first 5 rows of data after pre-processing."
   ]
  },
  {
   "cell_type": "code",
   "execution_count": 26,
   "metadata": {},
   "outputs": [
    {
     "name": "stdout",
     "output_type": "stream",
     "text": [
      "                                                                                                                                                                                                        text  \\\n",
      "0                                                                                                                                                  v i r g i n a m e r i c a w h a t d h e p b u r n s a i d   \n",
      "1                                                                                    v i r g i n a m e r i c a p l u s y o u h a v e a d d e d c o m m e r c i a l s t o t h e e x p e r i e n c e t a c k y   \n",
      "2                                                                                              v i r g i n a m e r i c a i d i d n o t t o d a y m u s t m e a n i n e e d t o t a k e a n o t h e r t r i p   \n",
      "3  v i r g i n a m e r i c a i t i s r e a l l y a g g r e s s i v e t o b l a s t o b n o x i o u s e n t e r t a i n m e n t i n y o u r g u e s t s f a c e s t h e y h a v e l i t t l e r e c o u r s e   \n",
      "4                                                                                                                  v i r g i n a m e r i c a a n d i t i s a r e a l l y b i g b a d t h i n g a b o u t i t   \n",
      "\n",
      "  airline_sentiment  \n",
      "0           neutral  \n",
      "1          positive  \n",
      "2           neutral  \n",
      "3          negative  \n",
      "4          negative  \n"
     ]
    }
   ],
   "source": [
    "print(X.head(5))"
   ]
  },
  {
   "cell_type": "markdown",
   "metadata": {},
   "source": [
    "Save the current X values if needed for future use or recovery."
   ]
  },
  {
   "cell_type": "code",
   "execution_count": 27,
   "metadata": {},
   "outputs": [
    {
     "name": "stdout",
     "output_type": "stream",
     "text": [
      "(14640, 2)\n",
      "<class 'pandas.core.frame.DataFrame'>\n",
      "RangeIndex: 14640 entries, 0 to 14639\n",
      "Data columns (total 2 columns):\n",
      " #   Column             Non-Null Count  Dtype \n",
      "---  ------             --------------  ----- \n",
      " 0   text               14640 non-null  object\n",
      " 1   airline_sentiment  14640 non-null  object\n",
      "dtypes: object(2)\n",
      "memory usage: 228.9+ KB\n",
      "None\n"
     ]
    }
   ],
   "source": [
    "X_old = X\n",
    "print(X_old.shape)\n",
    "print(X_old.info())"
   ]
  },
  {
   "cell_type": "markdown",
   "metadata": {},
   "source": [
    "# Vectorization"
   ]
  },
  {
   "cell_type": "code",
   "execution_count": 29,
   "metadata": {},
   "outputs": [
    {
     "ename": "NameError",
     "evalue": "name 'X_features' is not defined",
     "output_type": "error",
     "traceback": [
      "\u001B[1;31m---------------------------------------------------------------------------\u001B[0m",
      "\u001B[1;31mNameError\u001B[0m                                 Traceback (most recent call last)",
      "Input \u001B[1;32mIn [29]\u001B[0m, in \u001B[0;36m<cell line: 2>\u001B[1;34m()\u001B[0m\n\u001B[0;32m      1\u001B[0m \u001B[38;5;66;03m# Checking the shape of the feature matrix\u001B[39;00m\n\u001B[1;32m----> 2\u001B[0m \u001B[38;5;28mprint\u001B[39m(\u001B[38;5;124m\"\u001B[39m\u001B[38;5;124mShape of the feature matrix:\u001B[39m\u001B[38;5;124m\"\u001B[39m, \u001B[43mX_features\u001B[49m\u001B[38;5;241m.\u001B[39mshape)\n\u001B[0;32m      4\u001B[0m \u001B[38;5;66;03m# Checking the first 10 feature names\u001B[39;00m\n\u001B[0;32m      5\u001B[0m \u001B[38;5;28mprint\u001B[39m(\u001B[38;5;124m\"\u001B[39m\u001B[38;5;124mFirst 10 feature names:\u001B[39m\u001B[38;5;130;01m\\n\u001B[39;00m\u001B[38;5;124m\"\u001B[39m, feature_names[:\u001B[38;5;241m10\u001B[39m])\n",
      "\u001B[1;31mNameError\u001B[0m: name 'X_features' is not defined"
     ]
    }
   ],
   "source": [
    "# Checking the shape of the feature matrix\n",
    "print(\"Shape of the feature matrix:\", X_features.shape)\n",
    "\n",
    "# Checking the first 10 feature names\n",
    "print(\"First 10 feature names:\\n\", feature_names[:10])"
   ]
  },
  {
   "cell_type": "markdown",
   "metadata": {},
   "source": [
    "Observation: X_features is a sparse matrix, that is most of the values are 0."
   ]
  },
  {
   "cell_type": "code",
   "execution_count": 33,
   "metadata": {},
   "outputs": [
    {
     "data": {
      "text/plain": [
       "(14640, 13734)"
      ]
     },
     "execution_count": 33,
     "metadata": {},
     "output_type": "execute_result"
    }
   ],
   "source": [
    "X_features.shape"
   ]
  },
  {
   "cell_type": "markdown",
   "metadata": {},
   "source": [
    "Observation: features contain 12,052 words. No limit was placed on the number of features."
   ]
  },
  {
   "cell_type": "code",
   "execution_count": 34,
   "metadata": {},
   "outputs": [
    {
     "data": {
      "text/plain": [
       "<4x4 sparse matrix of type '<class 'numpy.int64'>'\n",
       "\twith 0 stored elements in Compressed Sparse Row format>"
      ]
     },
     "execution_count": 34,
     "metadata": {},
     "output_type": "execute_result"
    }
   ],
   "source": [
    "X_features[1:5, 1:5]"
   ]
  },
  {
   "cell_type": "code",
   "execution_count": 35,
   "metadata": {},
   "outputs": [
    {
     "name": "stdout",
     "output_type": "stream",
     "text": [
      "[1 2 1 ... 1 0 1]\n",
      "(14640,)\n",
      "int32\n"
     ]
    }
   ],
   "source": [
    "# Convert airline_sentiment to integer encoded labels\n",
    "from numpy import array\n",
    "from sklearn.preprocessing import LabelEncoder\n",
    "from sklearn.preprocessing import OneHotEncoder\n",
    "values = array(X.airline_sentiment)\n",
    "label_encoder = LabelEncoder()\n",
    "integer_encoded_labels = label_encoder.fit_transform(values)\n",
    "print(integer_encoded_labels)\n",
    "print(integer_encoded_labels.shape)\n",
    "print(integer_encoded_labels.dtype)"
   ]
  },
  {
   "cell_type": "code",
   "execution_count": 36,
   "metadata": {},
   "outputs": [
    {
     "name": "stdout",
     "output_type": "stream",
     "text": [
      "(14640, 3)\n",
      "[[0 1 0]\n",
      " [0 0 1]\n",
      " [0 1 0]\n",
      " ...\n",
      " [0 1 0]\n",
      " [1 0 0]\n",
      " [0 1 0]]\n"
     ]
    },
    {
     "name": "stderr",
     "output_type": "stream",
     "text": [
      "D:\\Python\\Project\\lib\\site-packages\\sklearn\\preprocessing\\_encoders.py:868: FutureWarning: `sparse` was renamed to `sparse_output` in version 1.2 and will be removed in 1.4. `sparse_output` is ignored unless you leave `sparse` to its default value.\n",
      "  warnings.warn(\n"
     ]
    }
   ],
   "source": [
    "# Convert airline_sentiment to onehot encoded labels\n",
    "onehot_encoder = OneHotEncoder(sparse=False)\n",
    "integer_encoded_labels = integer_encoded_labels.reshape(len(integer_encoded_labels), 1)\n",
    "onehot_encoded = onehot_encoder.fit_transform(integer_encoded_labels)\n",
    "labels = onehot_encoded\n",
    "labels = labels.astype('int')\n",
    "print(labels.shape)\n",
    "print(labels)"
   ]
  },
  {
   "cell_type": "markdown",
   "metadata": {},
   "source": [
    "Fit and evaluate model using both type of vectorization."
   ]
  },
  {
   "cell_type": "code",
   "execution_count": 37,
   "metadata": {},
   "outputs": [],
   "source": [
    "import time\n",
    "algo= []\n",
    "tr = []\n",
    "te = []\n",
    "recall = []\n",
    "precision = []\n",
    "elapsed = []\n",
    "target_names = {'negative' : 1, 'neutral' : 2, 'positive' : 3}"
   ]
  },
  {
   "cell_type": "markdown",
   "metadata": {},
   "source": [
    "## 3 - Models\n",
    "Using Logistic Regression to build model for the classification of reviews."
   ]
  },
  {
   "cell_type": "code",
   "execution_count": 38,
   "metadata": {},
   "outputs": [
    {
     "name": "stdout",
     "output_type": "stream",
     "text": [
      "Train Score:  0.944672131147541\n",
      "Test Score:  0.7930327868852459\n",
      "Elapsed Time: 0.703125\n"
     ]
    }
   ],
   "source": [
    "t = time.process_time()\n",
    "from sklearn.linear_model import LogisticRegression\n",
    "from sklearn.metrics import recall_score, precision_score, accuracy_score\n",
    "X_train, X_test, y_train, y_test = train_test_split(X_features, integer_encoded_labels, test_size=0.3, random_state=7)\n",
    "\n",
    "lrc = LogisticRegression(random_state=7, max_iter=1000, solver='saga', n_jobs=4, multi_class='auto')\n",
    "lrc.fit(X_train, np.ravel(y_train,order='C'))\n",
    "\n",
    "print('Train Score: ', lrc.score(X_train, y_train))\n",
    "print('Test Score: ', lrc.score(X_test, y_test)) \n",
    "elapsed_time = time.process_time() - t\n",
    "print('Elapsed Time:', elapsed_time)"
   ]
  },
  {
   "cell_type": "code",
   "execution_count": 39,
   "metadata": {},
   "outputs": [],
   "source": [
    "result_lrc = lrc.predict(X_test)\n",
    "algo = ['Logistic Regression']\n",
    "elapsed = [elapsed_time]\n",
    "tr = [lrc.score(X_train, y_train)]\n",
    "te = [lrc.score(X_test, y_test)]\n",
    "recall = [recall_score(y_test, result_lrc, average='micro')]\n",
    "precision = [precision_score(y_test, result_lrc, average='micro')]"
   ]
  },
  {
   "cell_type": "code",
   "execution_count": 42,
   "metadata": {},
   "outputs": [
    {
     "name": "stdout",
     "output_type": "stream",
     "text": [
      "              precision    recall  f1-score      support\n",
      "negative       0.857931  0.893678  0.875440  2784.000000\n",
      "neutral        0.628707  0.569892  0.597857   930.000000\n",
      "positive       0.716487  0.685841  0.700829   678.000000\n",
      "accuracy       0.793033  0.793033  0.793033     0.793033\n",
      "macro avg      0.734375  0.716470  0.724709  4392.000000\n",
      "weighted avg   0.787558  0.793033  0.789707  4392.000000\n",
      "[[2488  208   88]\n",
      " [ 304  530   96]\n",
      " [ 108  105  465]]\n"
     ]
    },
    {
     "data": {
      "text/plain": [
       "<Axes: >"
      ]
     },
     "execution_count": 42,
     "metadata": {},
     "output_type": "execute_result"
    },
    {
     "data": {
      "image/png": "[encoded data removed]",
      "text/plain": [
       "<Figure size 1000x700 with 2 Axes>"
      ]
     },
     "metadata": {},
     "output_type": "display_data"
    }
   ],
   "source": [
    "# Confusion Matrix, Classification report, \n",
    "from sklearn.metrics import classification_report\n",
    "from sklearn.metrics import confusion_matrix\n",
    "\n",
    "results_log = classification_report(y_test, result_lrc, target_names=target_names, output_dict=True)\n",
    "results_df_log = pd.DataFrame(results_log).transpose()\n",
    "print(results_df_log)\n",
    "\n",
    "conf_mat = confusion_matrix(y_test, result_lrc)\n",
    "print(conf_mat)\n",
    "\n",
    "df_cm = pd.DataFrame(conf_mat, index = [i for i in target_names],\n",
    "                  columns = [i for i in target_names])\n",
    "plt.figure(figsize = (10,7))\n",
    "sns.heatmap(df_cm, annot=True, fmt='g')"
   ]
  },
  {
   "cell_type": "code",
   "execution_count": 43,
   "metadata": {},
   "outputs": [
    {
     "name": "stdout",
     "output_type": "stream",
     "text": [
      "\n",
      " CountVectorizer Comparsion Classification Results \n",
      "\n",
      "                     TrainScore  TestScore    Recall  Precision  ElapsedTime\n",
      "Model                                                                       \n",
      "Logistic Regression    0.944672   0.793033  0.793033   0.793033     0.703125\n"
     ]
    }
   ],
   "source": [
    "# DataFrame to compare results.\n",
    "print('\\n CountVectorizer Comparsion Classification Results \\n')\n",
    "results_vec = pd.DataFrame()\n",
    "results_vec['Model'] = algo\n",
    "results_vec['TrainScore'] = tr\n",
    "results_vec['TestScore'] = te\n",
    "results_vec['Recall'] = recall\n",
    "results_vec['Precision'] = precision\n",
    "results_vec['ElapsedTime'] = elapsed\n",
    "results_vec = results_vec.set_index('Model')\n",
    "print(results_vec)"
   ]
  },
  {
   "cell_type": "markdown",
   "metadata": {},
   "source": [
    "Use TfidfVectorizer."
   ]
  },
  {
   "cell_type": "code",
   "execution_count": 44,
   "metadata": {},
   "outputs": [
    {
     "name": "stdout",
     "output_type": "stream",
     "text": [
      "['aa', 'aaaand', 'aaadvantage', 'aaalwayslate', 'aaba', 'aacom', 'aacustomerservice', 'aadavantage', 'aadelay', 'aadfw']\n"
     ]
    }
   ],
   "source": [
    "vectorizer = TfidfVectorizer(max_features=15000, ngram_range=(1, 1))\n",
    "X_features = vectorizer.fit_transform(X['text'])\n",
    "# print the first 10 feature names\n",
    "print(list(feature_names)[:10]) \n",
    "X_features = X_features.toarray()"
   ]
  },
  {
   "cell_type": "code",
   "execution_count": 45,
   "metadata": {},
   "outputs": [
    {
     "data": {
      "text/plain": [
       "array([[0., 0., 0., 0., 0., 0., 0., 0., 0., 0.],\n",
       "       [0., 0., 0., 0., 0., 0., 0., 0., 0., 0.],\n",
       "       [0., 0., 0., 0., 0., 0., 0., 0., 0., 0.],\n",
       "       [0., 0., 0., 0., 0., 0., 0., 0., 0., 0.],\n",
       "       [0., 0., 0., 0., 0., 0., 0., 0., 0., 0.],\n",
       "       [0., 0., 0., 0., 0., 0., 0., 0., 0., 0.],\n",
       "       [0., 0., 0., 0., 0., 0., 0., 0., 0., 0.],\n",
       "       [0., 0., 0., 0., 0., 0., 0., 0., 0., 0.],\n",
       "       [0., 0., 0., 0., 0., 0., 0., 0., 0., 0.],\n",
       "       [0., 0., 0., 0., 0., 0., 0., 0., 0., 0.]])"
      ]
     },
     "execution_count": 45,
     "metadata": {},
     "output_type": "execute_result"
    }
   ],
   "source": [
    "#  Command was used to look at different rows and column values\n",
    "X_features[20:30,80:90]"
   ]
  },
  {
   "cell_type": "markdown",
   "metadata": {},
   "source": [
    "Fit and evaluate models using TfidfVectorizer."
   ]
  },
  {
   "cell_type": "code",
   "execution_count": 46,
   "metadata": {},
   "outputs": [],
   "source": [
    "algo= []\n",
    "tr = []\n",
    "te = []\n",
    "recall = []\n",
    "precision = []\n",
    "elapsed = []"
   ]
  },
  {
   "cell_type": "markdown",
   "metadata": {},
   "source": [
    "Using Logistic Regression to build model for the classification of reviews"
   ]
  },
  {
   "cell_type": "code",
   "execution_count": 47,
   "metadata": {},
   "outputs": [
    {
     "name": "stdout",
     "output_type": "stream",
     "text": [
      "Train Score:  0.8795862607338018\n",
      "Test Score:  0.785063752276867\n",
      "Elapsed Time: 36.421875\n",
      "              precision    recall  f1-score      support\n",
      "negative       0.810627  0.942529  0.871616  2784.000000\n",
      "neutral        0.660550  0.464516  0.545455   930.000000\n",
      "positive       0.782435  0.578171  0.664970   678.000000\n",
      "accuracy       0.785064  0.785064  0.785064     0.785064\n",
      "macro avg      0.751204  0.661739  0.694014  4392.000000\n",
      "weighted avg   0.774497  0.785064  0.770652  4392.000000\n",
      "[[2624  123   37]\n",
      " [ 426  432   72]\n",
      " [ 187   99  392]]\n"
     ]
    },
    {
     "data": {
      "text/plain": [
       "<Axes: >"
      ]
     },
     "execution_count": 47,
     "metadata": {},
     "output_type": "execute_result"
    },
    {
     "data": {
      "image/png": "[encoded data removed]",
      "text/plain": [
       "<Figure size 1000x700 with 2 Axes>"
      ]
     },
     "metadata": {},
     "output_type": "display_data"
    }
   ],
   "source": [
    "t = time.process_time()\n",
    "from sklearn.linear_model import LogisticRegression\n",
    "from sklearn.metrics import recall_score, precision_score, roc_auc_score, accuracy_score\n",
    "X_train, X_test, y_train, y_test = train_test_split(X_features, integer_encoded_labels, test_size=0.3, random_state=7)\n",
    "\n",
    "lrc = LogisticRegression(random_state=7, max_iter=1000, solver='saga', n_jobs=4, multi_class='auto')\n",
    "lrc.fit(X_train, np.ravel(y_train,order='C'))\n",
    "\n",
    "print('Train Score: ', lrc.score(X_train, y_train))\n",
    "print('Test Score: ', lrc.score(X_test, y_test)) \n",
    "elapsed_time = time.process_time() - t\n",
    "print('Elapsed Time:', elapsed_time)\n",
    "\n",
    "result_lrc = lrc.predict(X_test)\n",
    "algo = ['Logistic Regression']\n",
    "elapsed = [elapsed_time]\n",
    "tr = [lrc.score(X_train, y_train)]\n",
    "te = [lrc.score(X_test, y_test)]\n",
    "recall = [recall_score(y_test, result_lrc, average='micro')]\n",
    "precision = [precision_score(y_test, result_lrc, average='micro')]\n",
    "\n",
    "# Confusion Matrix, Classification report, \n",
    "from sklearn.metrics import classification_report\n",
    "results_log = classification_report(y_test, result_lrc, target_names=target_names, output_dict=True)\n",
    "results_df_log = pd.DataFrame(results_log).transpose()\n",
    "print(results_df_log)\n",
    "\n",
    "conf_mat = confusion_matrix(y_test, result_lrc)\n",
    "print(conf_mat)\n",
    "\n",
    "df_cm = pd.DataFrame(conf_mat, index = [i for i in target_names],\n",
    "                  columns = [i for i in target_names])\n",
    "plt.figure(figsize = (10,7))\n",
    "sns.heatmap(df_cm, annot=True, fmt='g')"
   ]
  },
  {
   "cell_type": "markdown",
   "metadata": {},
   "source": [
    "## 4 - Saving the model\n",
    "Save the DS best model in the Jupyter notebook `model.ipynb` in one of the following formats:\n",
    "\n",
    "- `network.save('model.h5')` #keras\n",
    "- `joblib.dump(model, \"model.pkl\")` # optional\n",
    "- `torch.save(model.state_dict(), './model.pt')` #pytorch\n",
    "- `model.save('path/to/model')`\n",
    "\n",
    "End of document."
   ]
  },
  {
   "cell_type": "code",
   "execution_count": 50,
   "metadata": {},
   "outputs": [],
   "source": [
    "import h5py\n",
    "# Save the model to disk\n",
    "with h5py.File('model.h5', 'w') as f:\n",
    "    f.create_dataset('coef', data=lrc.coef_)\n",
    "    f.create_dataset('intercept', data=lrc.intercept_)"
   ]
  }
 ],
 "metadata": {
  "kernelspec": {
   "display_name": "Python 3 (ipykernel)",
   "language": "python",
   "name": "python3"
  },
  "language_info": {
   "codemirror_mode": {
    "name": "ipython",
    "version": 3
   },
   "file_extension": ".py",
   "mimetype": "text/x-python",
   "name": "python",
   "nbconvert_exporter": "python",
   "pygments_lexer": "ipython3",
   "version": "3.9.12"
  }
 },
 "nbformat": 4,
 "nbformat_minor": 1
}
