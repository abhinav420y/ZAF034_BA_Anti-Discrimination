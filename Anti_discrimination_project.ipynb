{
  "nbformat": 4,
  "nbformat_minor": 0,
  "metadata": {
    "colab": {
      "provenance": []
    },
    "kernelspec": {
      "name": "python3",
      "display_name": "Python 3"
    },
    "language_info": {
      "name": "python"
    }
  },
  "cells": [
    {
      "cell_type": "markdown",
      "source": [
        "# **`Anti Discrimination Project`**\n",
        "*Done By Paramesh E*\n",
        "#### Background:\n",
        "Anti-discrimination behavioral analysis in airlines involves analyzing staff interactions with passengers to detect potential discriminatory behavior based on body language, tone of voice, and facial expressions. Monitoring complaints and feedback from passengers can also help identify patterns of discrimination and alert management for corrective action, ultimately promoting a more inclusive environment and improving the overall passenger experience.\n",
        "\n"
      ],
      "metadata": {
        "id": "ht3gGuMZy-rq"
      }
    },
    {
      "cell_type": "code",
      "source": [
        "# Connecting drive\n",
        "from google.colab import drive\n",
        "drive.mount('/content/drive/')"
      ],
      "metadata": {
        "colab": {
          "base_uri": "https://localhost:8080/"
        },
        "id": "sBG2ysMV0RBB",
        "outputId": "bc21a985-61d5-46c0-a797-38e3d49effd2"
      },
      "execution_count": 294,
      "outputs": [
        {
          "output_type": "stream",
          "name": "stdout",
          "text": [
            "Drive already mounted at /content/drive/; to attempt to forcibly remount, call drive.mount(\"/content/drive/\", force_remount=True).\n"
          ]
        }
      ]
    },
    {
      "cell_type": "markdown",
      "source": [
        "## **Data Reading and Understanding**"
      ],
      "metadata": {
        "id": "6liB8PEYCNMT"
      }
    },
    {
      "cell_type": "markdown",
      "source": [
        "### **Importing libraries**"
      ],
      "metadata": {
        "id": "zOGRi81f1QZW"
      }
    },
    {
      "cell_type": "code",
      "source": [
        "import pandas as pd\n",
        "import numpy as np\n",
        "\n",
        "import seaborn as sns\n",
        "import matplotlib.pyplot as plt\n",
        "%matplotlib inline\n",
        "\n",
        "import pickle\n",
        "import pandas as pd\n",
        "# for PREPROCESSING\n",
        "import re    # RegEx for removing non-letter characters\n",
        "import nltk  # natural language tool kit\n",
        "nltk.download(\"stopwords\")\n",
        "from nltk.corpus import stopwords\n",
        "from nltk.stem.porter import *\n",
        "from keras.preprocessing.text import Tokenizer\n"
      ],
      "metadata": {
        "id": "NG0NiQXl0Q-5",
        "colab": {
          "base_uri": "https://localhost:8080/"
        },
        "outputId": "1b1b0714-ff20-4c41-c21a-d822976eb8dd"
      },
      "execution_count": 295,
      "outputs": [
        {
          "output_type": "stream",
          "name": "stderr",
          "text": [
            "[nltk_data] Downloading package stopwords to /root/nltk_data...\n",
            "[nltk_data]   Package stopwords is already up-to-date!\n"
          ]
        }
      ]
    },
    {
      "cell_type": "code",
      "source": [
        "from tensorflow.keras.preprocessing.sequence import pad_sequences"
      ],
      "metadata": {
        "id": "_TfRz_mDvn1Q"
      },
      "execution_count": 296,
      "outputs": []
    },
    {
      "cell_type": "code",
      "source": [
        "pip install emoji --upgrade"
      ],
      "metadata": {
        "colab": {
          "base_uri": "https://localhost:8080/"
        },
        "id": "ezGnPrAX85kU",
        "outputId": "b293b924-a15c-4cce-fe8e-58ea1b2314ca"
      },
      "execution_count": 297,
      "outputs": [
        {
          "output_type": "stream",
          "name": "stdout",
          "text": [
            "Looking in indexes: https://pypi.org/simple, https://us-python.pkg.dev/colab-wheels/public/simple/\n",
            "Requirement already satisfied: emoji in /usr/local/lib/python3.10/dist-packages (2.2.0)\n"
          ]
        }
      ]
    },
    {
      "cell_type": "code",
      "source": [
        "pip install emoji"
      ],
      "metadata": {
        "colab": {
          "base_uri": "https://localhost:8080/"
        },
        "id": "oG75L33WxdhJ",
        "outputId": "c85a2452-cb4c-40e1-ae1a-f300cccfe0eb"
      },
      "execution_count": 298,
      "outputs": [
        {
          "output_type": "stream",
          "name": "stdout",
          "text": [
            "Looking in indexes: https://pypi.org/simple, https://us-python.pkg.dev/colab-wheels/public/simple/\n",
            "Requirement already satisfied: emoji in /usr/local/lib/python3.10/dist-packages (2.2.0)\n"
          ]
        }
      ]
    },
    {
      "cell_type": "code",
      "source": [
        "import emoji"
      ],
      "metadata": {
        "id": "hcnk41_P89QR"
      },
      "execution_count": 299,
      "outputs": []
    },
    {
      "cell_type": "code",
      "source": [
        "# Load the dataset\n",
        "tweet_data = pd.read_csv('/content/drive/MyDrive/Tweets.csv')"
      ],
      "metadata": {
        "id": "S7Eg_3yc0Q8G"
      },
      "execution_count": 300,
      "outputs": []
    },
    {
      "cell_type": "code",
      "source": [
        "tweet_data.head()"
      ],
      "metadata": {
        "colab": {
          "base_uri": "https://localhost:8080/",
          "height": 652
        },
        "id": "UJCai6m00Q5e",
        "outputId": "b75049f1-9255-4e3a-af8d-046beac52b4c"
      },
      "execution_count": 301,
      "outputs": [
        {
          "output_type": "execute_result",
          "data": {
            "text/plain": [
              "             tweet_id airline_sentiment  airline_sentiment_confidence  \\\n",
              "0  570306133677760513           neutral                        1.0000   \n",
              "1  570301130888122368          positive                        0.3486   \n",
              "2  570301083672813571           neutral                        0.6837   \n",
              "3  570301031407624196          negative                        1.0000   \n",
              "4  570300817074462722          negative                        1.0000   \n",
              "\n",
              "  negativereason  negativereason_confidence         airline  \\\n",
              "0            NaN                        NaN  Virgin America   \n",
              "1            NaN                     0.0000  Virgin America   \n",
              "2            NaN                        NaN  Virgin America   \n",
              "3     Bad Flight                     0.7033  Virgin America   \n",
              "4     Can't Tell                     1.0000  Virgin America   \n",
              "\n",
              "  airline_sentiment_gold        name negativereason_gold  retweet_count  \\\n",
              "0                    NaN     cairdin                 NaN              0   \n",
              "1                    NaN    jnardino                 NaN              0   \n",
              "2                    NaN  yvonnalynn                 NaN              0   \n",
              "3                    NaN    jnardino                 NaN              0   \n",
              "4                    NaN    jnardino                 NaN              0   \n",
              "\n",
              "                                                                                                  text  \\\n",
              "0                                                                  @VirginAmerica What @dhepburn said.   \n",
              "1                             @VirginAmerica plus you've added commercials to the experience... tacky.   \n",
              "2                              @VirginAmerica I didn't today... Must mean I need to take another trip!   \n",
              "3  @VirginAmerica it's really aggressive to blast obnoxious \"entertainment\" in your guests' faces &...   \n",
              "4                                              @VirginAmerica and it's a really big bad thing about it   \n",
              "\n",
              "  tweet_coord              tweet_created tweet_location  \\\n",
              "0         NaN  2015-02-24 11:35:52 -0800            NaN   \n",
              "1         NaN  2015-02-24 11:15:59 -0800            NaN   \n",
              "2         NaN  2015-02-24 11:15:48 -0800      Lets Play   \n",
              "3         NaN  2015-02-24 11:15:36 -0800            NaN   \n",
              "4         NaN  2015-02-24 11:14:45 -0800            NaN   \n",
              "\n",
              "                user_timezone  \n",
              "0  Eastern Time (US & Canada)  \n",
              "1  Pacific Time (US & Canada)  \n",
              "2  Central Time (US & Canada)  \n",
              "3  Pacific Time (US & Canada)  \n",
              "4  Pacific Time (US & Canada)  "
            ],
            "text/html": [
              "\n",
              "  <div id=\"df-ccbe5eea-3647-4219-af87-46cff798d707\">\n",
              "    <div class=\"colab-df-container\">\n",
              "      <div>\n",
              "<style scoped>\n",
              "    .dataframe tbody tr th:only-of-type {\n",
              "        vertical-align: middle;\n",
              "    }\n",
              "\n",
              "    .dataframe tbody tr th {\n",
              "        vertical-align: top;\n",
              "    }\n",
              "\n",
              "    .dataframe thead th {\n",
              "        text-align: right;\n",
              "    }\n",
              "</style>\n",
              "<table border=\"1\" class=\"dataframe\">\n",
              "  <thead>\n",
              "    <tr style=\"text-align: right;\">\n",
              "      <th></th>\n",
              "      <th>tweet_id</th>\n",
              "      <th>airline_sentiment</th>\n",
              "      <th>airline_sentiment_confidence</th>\n",
              "      <th>negativereason</th>\n",
              "      <th>negativereason_confidence</th>\n",
              "      <th>airline</th>\n",
              "      <th>airline_sentiment_gold</th>\n",
              "      <th>name</th>\n",
              "      <th>negativereason_gold</th>\n",
              "      <th>retweet_count</th>\n",
              "      <th>text</th>\n",
              "      <th>tweet_coord</th>\n",
              "      <th>tweet_created</th>\n",
              "      <th>tweet_location</th>\n",
              "      <th>user_timezone</th>\n",
              "    </tr>\n",
              "  </thead>\n",
              "  <tbody>\n",
              "    <tr>\n",
              "      <th>0</th>\n",
              "      <td>570306133677760513</td>\n",
              "      <td>neutral</td>\n",
              "      <td>1.0000</td>\n",
              "      <td>NaN</td>\n",
              "      <td>NaN</td>\n",
              "      <td>Virgin America</td>\n",
              "      <td>NaN</td>\n",
              "      <td>cairdin</td>\n",
              "      <td>NaN</td>\n",
              "      <td>0</td>\n",
              "      <td>@VirginAmerica What @dhepburn said.</td>\n",
              "      <td>NaN</td>\n",
              "      <td>2015-02-24 11:35:52 -0800</td>\n",
              "      <td>NaN</td>\n",
              "      <td>Eastern Time (US &amp; Canada)</td>\n",
              "    </tr>\n",
              "    <tr>\n",
              "      <th>1</th>\n",
              "      <td>570301130888122368</td>\n",
              "      <td>positive</td>\n",
              "      <td>0.3486</td>\n",
              "      <td>NaN</td>\n",
              "      <td>0.0000</td>\n",
              "      <td>Virgin America</td>\n",
              "      <td>NaN</td>\n",
              "      <td>jnardino</td>\n",
              "      <td>NaN</td>\n",
              "      <td>0</td>\n",
              "      <td>@VirginAmerica plus you've added commercials to the experience... tacky.</td>\n",
              "      <td>NaN</td>\n",
              "      <td>2015-02-24 11:15:59 -0800</td>\n",
              "      <td>NaN</td>\n",
              "      <td>Pacific Time (US &amp; Canada)</td>\n",
              "    </tr>\n",
              "    <tr>\n",
              "      <th>2</th>\n",
              "      <td>570301083672813571</td>\n",
              "      <td>neutral</td>\n",
              "      <td>0.6837</td>\n",
              "      <td>NaN</td>\n",
              "      <td>NaN</td>\n",
              "      <td>Virgin America</td>\n",
              "      <td>NaN</td>\n",
              "      <td>yvonnalynn</td>\n",
              "      <td>NaN</td>\n",
              "      <td>0</td>\n",
              "      <td>@VirginAmerica I didn't today... Must mean I need to take another trip!</td>\n",
              "      <td>NaN</td>\n",
              "      <td>2015-02-24 11:15:48 -0800</td>\n",
              "      <td>Lets Play</td>\n",
              "      <td>Central Time (US &amp; Canada)</td>\n",
              "    </tr>\n",
              "    <tr>\n",
              "      <th>3</th>\n",
              "      <td>570301031407624196</td>\n",
              "      <td>negative</td>\n",
              "      <td>1.0000</td>\n",
              "      <td>Bad Flight</td>\n",
              "      <td>0.7033</td>\n",
              "      <td>Virgin America</td>\n",
              "      <td>NaN</td>\n",
              "      <td>jnardino</td>\n",
              "      <td>NaN</td>\n",
              "      <td>0</td>\n",
              "      <td>@VirginAmerica it's really aggressive to blast obnoxious \"entertainment\" in your guests' faces &amp;...</td>\n",
              "      <td>NaN</td>\n",
              "      <td>2015-02-24 11:15:36 -0800</td>\n",
              "      <td>NaN</td>\n",
              "      <td>Pacific Time (US &amp; Canada)</td>\n",
              "    </tr>\n",
              "    <tr>\n",
              "      <th>4</th>\n",
              "      <td>570300817074462722</td>\n",
              "      <td>negative</td>\n",
              "      <td>1.0000</td>\n",
              "      <td>Can't Tell</td>\n",
              "      <td>1.0000</td>\n",
              "      <td>Virgin America</td>\n",
              "      <td>NaN</td>\n",
              "      <td>jnardino</td>\n",
              "      <td>NaN</td>\n",
              "      <td>0</td>\n",
              "      <td>@VirginAmerica and it's a really big bad thing about it</td>\n",
              "      <td>NaN</td>\n",
              "      <td>2015-02-24 11:14:45 -0800</td>\n",
              "      <td>NaN</td>\n",
              "      <td>Pacific Time (US &amp; Canada)</td>\n",
              "    </tr>\n",
              "  </tbody>\n",
              "</table>\n",
              "</div>\n",
              "      <button class=\"colab-df-convert\" onclick=\"convertToInteractive('df-ccbe5eea-3647-4219-af87-46cff798d707')\"\n",
              "              title=\"Convert this dataframe to an interactive table.\"\n",
              "              style=\"display:none;\">\n",
              "        \n",
              "  <svg xmlns=\"http://www.w3.org/2000/svg\" height=\"24px\"viewBox=\"0 0 24 24\"\n",
              "       width=\"24px\">\n",
              "    <path d=\"M0 0h24v24H0V0z\" fill=\"none\"/>\n",
              "    <path d=\"M18.56 5.44l.94 2.06.94-2.06 2.06-.94-2.06-.94-.94-2.06-.94 2.06-2.06.94zm-11 1L8.5 8.5l.94-2.06 2.06-.94-2.06-.94L8.5 2.5l-.94 2.06-2.06.94zm10 10l.94 2.06.94-2.06 2.06-.94-2.06-.94-.94-2.06-.94 2.06-2.06.94z\"/><path d=\"M17.41 7.96l-1.37-1.37c-.4-.4-.92-.59-1.43-.59-.52 0-1.04.2-1.43.59L10.3 9.45l-7.72 7.72c-.78.78-.78 2.05 0 2.83L4 21.41c.39.39.9.59 1.41.59.51 0 1.02-.2 1.41-.59l7.78-7.78 2.81-2.81c.8-.78.8-2.07 0-2.86zM5.41 20L4 18.59l7.72-7.72 1.47 1.35L5.41 20z\"/>\n",
              "  </svg>\n",
              "      </button>\n",
              "      \n",
              "  <style>\n",
              "    .colab-df-container {\n",
              "      display:flex;\n",
              "      flex-wrap:wrap;\n",
              "      gap: 12px;\n",
              "    }\n",
              "\n",
              "    .colab-df-convert {\n",
              "      background-color: #E8F0FE;\n",
              "      border: none;\n",
              "      border-radius: 50%;\n",
              "      cursor: pointer;\n",
              "      display: none;\n",
              "      fill: #1967D2;\n",
              "      height: 32px;\n",
              "      padding: 0 0 0 0;\n",
              "      width: 32px;\n",
              "    }\n",
              "\n",
              "    .colab-df-convert:hover {\n",
              "      background-color: #E2EBFA;\n",
              "      box-shadow: 0px 1px 2px rgba(60, 64, 67, 0.3), 0px 1px 3px 1px rgba(60, 64, 67, 0.15);\n",
              "      fill: #174EA6;\n",
              "    }\n",
              "\n",
              "    [theme=dark] .colab-df-convert {\n",
              "      background-color: #3B4455;\n",
              "      fill: #D2E3FC;\n",
              "    }\n",
              "\n",
              "    [theme=dark] .colab-df-convert:hover {\n",
              "      background-color: #434B5C;\n",
              "      box-shadow: 0px 1px 3px 1px rgba(0, 0, 0, 0.15);\n",
              "      filter: drop-shadow(0px 1px 2px rgba(0, 0, 0, 0.3));\n",
              "      fill: #FFFFFF;\n",
              "    }\n",
              "  </style>\n",
              "\n",
              "      <script>\n",
              "        const buttonEl =\n",
              "          document.querySelector('#df-ccbe5eea-3647-4219-af87-46cff798d707 button.colab-df-convert');\n",
              "        buttonEl.style.display =\n",
              "          google.colab.kernel.accessAllowed ? 'block' : 'none';\n",
              "\n",
              "        async function convertToInteractive(key) {\n",
              "          const element = document.querySelector('#df-ccbe5eea-3647-4219-af87-46cff798d707');\n",
              "          const dataTable =\n",
              "            await google.colab.kernel.invokeFunction('convertToInteractive',\n",
              "                                                     [key], {});\n",
              "          if (!dataTable) return;\n",
              "\n",
              "          const docLinkHtml = 'Like what you see? Visit the ' +\n",
              "            '<a target=\"_blank\" href=https://colab.research.google.com/notebooks/data_table.ipynb>data table notebook</a>'\n",
              "            + ' to learn more about interactive tables.';\n",
              "          element.innerHTML = '';\n",
              "          dataTable['output_type'] = 'display_data';\n",
              "          await google.colab.output.renderOutput(dataTable, element);\n",
              "          const docLink = document.createElement('div');\n",
              "          docLink.innerHTML = docLinkHtml;\n",
              "          element.appendChild(docLink);\n",
              "        }\n",
              "      </script>\n",
              "    </div>\n",
              "  </div>\n",
              "  "
            ]
          },
          "metadata": {},
          "execution_count": 301
        }
      ]
    },
    {
      "metadata": {
        "id": "srJY-G2vB-Yx",
        "outputId": "75460a80-3a9a-4f39-a689-607f74da0111",
        "trusted": true,
        "colab": {
          "base_uri": "https://localhost:8080/"
        }
      },
      "cell_type": "code",
      "source": [
        "print(tweet_data.shape)"
      ],
      "execution_count": 302,
      "outputs": [
        {
          "output_type": "stream",
          "name": "stdout",
          "text": [
            "(14640, 15)\n"
          ]
        }
      ]
    },
    {
      "metadata": {
        "id": "eQnP0nI_CGH4",
        "outputId": "8ff77c73-e259-42ed-806e-b6121f8b1e93",
        "trusted": true,
        "colab": {
          "base_uri": "https://localhost:8080/"
        }
      },
      "cell_type": "code",
      "source": [
        "tweet_data.info()"
      ],
      "execution_count": 303,
      "outputs": [
        {
          "output_type": "stream",
          "name": "stdout",
          "text": [
            "<class 'pandas.core.frame.DataFrame'>\n",
            "RangeIndex: 14640 entries, 0 to 14639\n",
            "Data columns (total 15 columns):\n",
            " #   Column                        Non-Null Count  Dtype  \n",
            "---  ------                        --------------  -----  \n",
            " 0   tweet_id                      14640 non-null  int64  \n",
            " 1   airline_sentiment             14640 non-null  object \n",
            " 2   airline_sentiment_confidence  14640 non-null  float64\n",
            " 3   negativereason                9178 non-null   object \n",
            " 4   negativereason_confidence     10522 non-null  float64\n",
            " 5   airline                       14640 non-null  object \n",
            " 6   airline_sentiment_gold        40 non-null     object \n",
            " 7   name                          14640 non-null  object \n",
            " 8   negativereason_gold           32 non-null     object \n",
            " 9   retweet_count                 14640 non-null  int64  \n",
            " 10  text                          14640 non-null  object \n",
            " 11  tweet_coord                   1019 non-null   object \n",
            " 12  tweet_created                 14640 non-null  object \n",
            " 13  tweet_location                9907 non-null   object \n",
            " 14  user_timezone                 9820 non-null   object \n",
            "dtypes: float64(2), int64(2), object(11)\n",
            "memory usage: 1.7+ MB\n"
          ]
        }
      ]
    },
    {
      "metadata": {
        "id": "ZmiO35pYCrRk",
        "outputId": "e98c922f-8797-4bc6-e530-a18909ca4e86",
        "trusted": true,
        "colab": {
          "base_uri": "https://localhost:8080/"
        }
      },
      "cell_type": "code",
      "source": [
        "tweet_data.dtypes"
      ],
      "execution_count": 304,
      "outputs": [
        {
          "output_type": "execute_result",
          "data": {
            "text/plain": [
              "tweet_id                          int64\n",
              "airline_sentiment                object\n",
              "airline_sentiment_confidence    float64\n",
              "negativereason                   object\n",
              "negativereason_confidence       float64\n",
              "airline                          object\n",
              "airline_sentiment_gold           object\n",
              "name                             object\n",
              "negativereason_gold              object\n",
              "retweet_count                     int64\n",
              "text                             object\n",
              "tweet_coord                      object\n",
              "tweet_created                    object\n",
              "tweet_location                   object\n",
              "user_timezone                    object\n",
              "dtype: object"
            ]
          },
          "metadata": {},
          "execution_count": 304
        }
      ]
    },
    {
      "cell_type": "code",
      "source": [
        "tweet_data.duplicated().sum()"
      ],
      "metadata": {
        "colab": {
          "base_uri": "https://localhost:8080/"
        },
        "id": "4yElbw420Q0p",
        "outputId": "703f6913-1775-44c3-903b-d12e4e052125"
      },
      "execution_count": 305,
      "outputs": [
        {
          "output_type": "execute_result",
          "data": {
            "text/plain": [
              "36"
            ]
          },
          "metadata": {},
          "execution_count": 305
        }
      ]
    },
    {
      "cell_type": "code",
      "source": [
        "# There are 36 duplicate rows\n",
        "# Drop the duplicate rows\n",
        "tweet_data.drop_duplicates(keep=False,inplace=True)"
      ],
      "metadata": {
        "id": "K0rZhUpW0QyR"
      },
      "execution_count": 306,
      "outputs": []
    },
    {
      "cell_type": "code",
      "source": [
        "print(tweet_data.shape)"
      ],
      "metadata": {
        "colab": {
          "base_uri": "https://localhost:8080/"
        },
        "id": "Elm41_xs0QtF",
        "outputId": "13aa84eb-5963-4b6f-aef7-aec4f47dc535"
      },
      "execution_count": 307,
      "outputs": [
        {
          "output_type": "stream",
          "name": "stdout",
          "text": [
            "(14568, 15)\n"
          ]
        }
      ]
    },
    {
      "cell_type": "code",
      "source": [
        "tweet_data.describe()"
      ],
      "metadata": {
        "colab": {
          "base_uri": "https://localhost:8080/",
          "height": 300
        },
        "id": "wHkX3O3hA5pi",
        "outputId": "a1e6e1c9-babd-4624-ae6a-52ad466630bd"
      },
      "execution_count": 308,
      "outputs": [
        {
          "output_type": "execute_result",
          "data": {
            "text/plain": [
              "           tweet_id  airline_sentiment_confidence  negativereason_confidence  \\\n",
              "count  1.456800e+04                  14568.000000               10484.000000   \n",
              "mean   5.692131e+17                      0.899675                   0.636987   \n",
              "std    7.773880e+14                      0.163080                   0.330318   \n",
              "min    5.675883e+17                      0.335000                   0.000000   \n",
              "25%    5.685551e+17                      0.691975                   0.360300   \n",
              "50%    5.694655e+17                      1.000000                   0.670400   \n",
              "75%    5.698859e+17                      1.000000                   1.000000   \n",
              "max    5.703106e+17                      1.000000                   1.000000   \n",
              "\n",
              "       retweet_count  \n",
              "count   14568.000000  \n",
              "mean        0.082921  \n",
              "std         0.747520  \n",
              "min         0.000000  \n",
              "25%         0.000000  \n",
              "50%         0.000000  \n",
              "75%         0.000000  \n",
              "max        44.000000  "
            ],
            "text/html": [
              "\n",
              "  <div id=\"df-06a8409f-184e-465d-b5c1-0709b9f3adf5\">\n",
              "    <div class=\"colab-df-container\">\n",
              "      <div>\n",
              "<style scoped>\n",
              "    .dataframe tbody tr th:only-of-type {\n",
              "        vertical-align: middle;\n",
              "    }\n",
              "\n",
              "    .dataframe tbody tr th {\n",
              "        vertical-align: top;\n",
              "    }\n",
              "\n",
              "    .dataframe thead th {\n",
              "        text-align: right;\n",
              "    }\n",
              "</style>\n",
              "<table border=\"1\" class=\"dataframe\">\n",
              "  <thead>\n",
              "    <tr style=\"text-align: right;\">\n",
              "      <th></th>\n",
              "      <th>tweet_id</th>\n",
              "      <th>airline_sentiment_confidence</th>\n",
              "      <th>negativereason_confidence</th>\n",
              "      <th>retweet_count</th>\n",
              "    </tr>\n",
              "  </thead>\n",
              "  <tbody>\n",
              "    <tr>\n",
              "      <th>count</th>\n",
              "      <td>1.456800e+04</td>\n",
              "      <td>14568.000000</td>\n",
              "      <td>10484.000000</td>\n",
              "      <td>14568.000000</td>\n",
              "    </tr>\n",
              "    <tr>\n",
              "      <th>mean</th>\n",
              "      <td>5.692131e+17</td>\n",
              "      <td>0.899675</td>\n",
              "      <td>0.636987</td>\n",
              "      <td>0.082921</td>\n",
              "    </tr>\n",
              "    <tr>\n",
              "      <th>std</th>\n",
              "      <td>7.773880e+14</td>\n",
              "      <td>0.163080</td>\n",
              "      <td>0.330318</td>\n",
              "      <td>0.747520</td>\n",
              "    </tr>\n",
              "    <tr>\n",
              "      <th>min</th>\n",
              "      <td>5.675883e+17</td>\n",
              "      <td>0.335000</td>\n",
              "      <td>0.000000</td>\n",
              "      <td>0.000000</td>\n",
              "    </tr>\n",
              "    <tr>\n",
              "      <th>25%</th>\n",
              "      <td>5.685551e+17</td>\n",
              "      <td>0.691975</td>\n",
              "      <td>0.360300</td>\n",
              "      <td>0.000000</td>\n",
              "    </tr>\n",
              "    <tr>\n",
              "      <th>50%</th>\n",
              "      <td>5.694655e+17</td>\n",
              "      <td>1.000000</td>\n",
              "      <td>0.670400</td>\n",
              "      <td>0.000000</td>\n",
              "    </tr>\n",
              "    <tr>\n",
              "      <th>75%</th>\n",
              "      <td>5.698859e+17</td>\n",
              "      <td>1.000000</td>\n",
              "      <td>1.000000</td>\n",
              "      <td>0.000000</td>\n",
              "    </tr>\n",
              "    <tr>\n",
              "      <th>max</th>\n",
              "      <td>5.703106e+17</td>\n",
              "      <td>1.000000</td>\n",
              "      <td>1.000000</td>\n",
              "      <td>44.000000</td>\n",
              "    </tr>\n",
              "  </tbody>\n",
              "</table>\n",
              "</div>\n",
              "      <button class=\"colab-df-convert\" onclick=\"convertToInteractive('df-06a8409f-184e-465d-b5c1-0709b9f3adf5')\"\n",
              "              title=\"Convert this dataframe to an interactive table.\"\n",
              "              style=\"display:none;\">\n",
              "        \n",
              "  <svg xmlns=\"http://www.w3.org/2000/svg\" height=\"24px\"viewBox=\"0 0 24 24\"\n",
              "       width=\"24px\">\n",
              "    <path d=\"M0 0h24v24H0V0z\" fill=\"none\"/>\n",
              "    <path d=\"M18.56 5.44l.94 2.06.94-2.06 2.06-.94-2.06-.94-.94-2.06-.94 2.06-2.06.94zm-11 1L8.5 8.5l.94-2.06 2.06-.94-2.06-.94L8.5 2.5l-.94 2.06-2.06.94zm10 10l.94 2.06.94-2.06 2.06-.94-2.06-.94-.94-2.06-.94 2.06-2.06.94z\"/><path d=\"M17.41 7.96l-1.37-1.37c-.4-.4-.92-.59-1.43-.59-.52 0-1.04.2-1.43.59L10.3 9.45l-7.72 7.72c-.78.78-.78 2.05 0 2.83L4 21.41c.39.39.9.59 1.41.59.51 0 1.02-.2 1.41-.59l7.78-7.78 2.81-2.81c.8-.78.8-2.07 0-2.86zM5.41 20L4 18.59l7.72-7.72 1.47 1.35L5.41 20z\"/>\n",
              "  </svg>\n",
              "      </button>\n",
              "      \n",
              "  <style>\n",
              "    .colab-df-container {\n",
              "      display:flex;\n",
              "      flex-wrap:wrap;\n",
              "      gap: 12px;\n",
              "    }\n",
              "\n",
              "    .colab-df-convert {\n",
              "      background-color: #E8F0FE;\n",
              "      border: none;\n",
              "      border-radius: 50%;\n",
              "      cursor: pointer;\n",
              "      display: none;\n",
              "      fill: #1967D2;\n",
              "      height: 32px;\n",
              "      padding: 0 0 0 0;\n",
              "      width: 32px;\n",
              "    }\n",
              "\n",
              "    .colab-df-convert:hover {\n",
              "      background-color: #E2EBFA;\n",
              "      box-shadow: 0px 1px 2px rgba(60, 64, 67, 0.3), 0px 1px 3px 1px rgba(60, 64, 67, 0.15);\n",
              "      fill: #174EA6;\n",
              "    }\n",
              "\n",
              "    [theme=dark] .colab-df-convert {\n",
              "      background-color: #3B4455;\n",
              "      fill: #D2E3FC;\n",
              "    }\n",
              "\n",
              "    [theme=dark] .colab-df-convert:hover {\n",
              "      background-color: #434B5C;\n",
              "      box-shadow: 0px 1px 3px 1px rgba(0, 0, 0, 0.15);\n",
              "      filter: drop-shadow(0px 1px 2px rgba(0, 0, 0, 0.3));\n",
              "      fill: #FFFFFF;\n",
              "    }\n",
              "  </style>\n",
              "\n",
              "      <script>\n",
              "        const buttonEl =\n",
              "          document.querySelector('#df-06a8409f-184e-465d-b5c1-0709b9f3adf5 button.colab-df-convert');\n",
              "        buttonEl.style.display =\n",
              "          google.colab.kernel.accessAllowed ? 'block' : 'none';\n",
              "\n",
              "        async function convertToInteractive(key) {\n",
              "          const element = document.querySelector('#df-06a8409f-184e-465d-b5c1-0709b9f3adf5');\n",
              "          const dataTable =\n",
              "            await google.colab.kernel.invokeFunction('convertToInteractive',\n",
              "                                                     [key], {});\n",
              "          if (!dataTable) return;\n",
              "\n",
              "          const docLinkHtml = 'Like what you see? Visit the ' +\n",
              "            '<a target=\"_blank\" href=https://colab.research.google.com/notebooks/data_table.ipynb>data table notebook</a>'\n",
              "            + ' to learn more about interactive tables.';\n",
              "          element.innerHTML = '';\n",
              "          dataTable['output_type'] = 'display_data';\n",
              "          await google.colab.output.renderOutput(dataTable, element);\n",
              "          const docLink = document.createElement('div');\n",
              "          docLink.innerHTML = docLinkHtml;\n",
              "          element.appendChild(docLink);\n",
              "        }\n",
              "      </script>\n",
              "    </div>\n",
              "  </div>\n",
              "  "
            ]
          },
          "metadata": {},
          "execution_count": 308
        }
      ]
    },
    {
      "metadata": {
        "id": "ty88Uksoelbl",
        "outputId": "9adf694b-664d-4087-9548-3cdd5a07dd50",
        "trusted": true,
        "colab": {
          "base_uri": "https://localhost:8080/"
        }
      },
      "cell_type": "code",
      "source": [
        "# Check the most common negative reason \n",
        "counts = tweet_data['negativereason'].value_counts().reset_index()\n",
        "counts_df = pd.DataFrame(counts)\n",
        "print(counts_df)"
      ],
      "execution_count": 309,
      "outputs": [
        {
          "output_type": "stream",
          "name": "stdout",
          "text": [
            "                         index  negativereason\n",
            "0       Customer Service Issue            2898\n",
            "1                  Late Flight            1655\n",
            "2                   Can't Tell            1190\n",
            "3             Cancelled Flight             839\n",
            "4                 Lost Luggage             718\n",
            "5                   Bad Flight             580\n",
            "6      Flight Booking Problems             529\n",
            "7  Flight Attendant Complaints             479\n",
            "8                    longlines             178\n",
            "9              Damaged Luggage              74\n"
          ]
        }
      ]
    },
    {
      "cell_type": "code",
      "source": [
        "counts_df.info()"
      ],
      "metadata": {
        "colab": {
          "base_uri": "https://localhost:8080/"
        },
        "id": "gcS6gFbga6Ff",
        "outputId": "357b8500-e68b-4ebb-bf88-c432c6745857"
      },
      "execution_count": 310,
      "outputs": [
        {
          "output_type": "stream",
          "name": "stdout",
          "text": [
            "<class 'pandas.core.frame.DataFrame'>\n",
            "RangeIndex: 10 entries, 0 to 9\n",
            "Data columns (total 2 columns):\n",
            " #   Column          Non-Null Count  Dtype \n",
            "---  ------          --------------  ----- \n",
            " 0   index           10 non-null     object\n",
            " 1   negativereason  10 non-null     int64 \n",
            "dtypes: int64(1), object(1)\n",
            "memory usage: 288.0+ bytes\n"
          ]
        }
      ]
    },
    {
      "cell_type": "code",
      "source": [
        "plt.figure(figsize=(25,5)) \n",
        "plt.bar(counts['index'], counts['negativereason'], color = 'black' )"
      ],
      "metadata": {
        "colab": {
          "base_uri": "https://localhost:8080/",
          "height": 377
        },
        "id": "HiNqQFKJWwQP",
        "outputId": "2beefef6-5736-4ad2-ea22-ea87b78e784e"
      },
      "execution_count": 311,
      "outputs": [
        {
          "output_type": "execute_result",
          "data": {
            "text/plain": [
              "<BarContainer object of 10 artists>"
            ]
          },
          "metadata": {},
          "execution_count": 311
        },
        {
          "output_type": "display_data",
          "data": {
            "text/plain": [
              "<Figure size 2500x500 with 1 Axes>"
            ],
            "image/png": "[encoded data removed]"
          },
          "metadata": {}
        }
      ]
    },
    {
      "metadata": {
        "id": "C9MstcY7dHJA",
        "outputId": "77e8cb4c-f9a3-49bc-fce6-79ea36fcab8d",
        "trusted": true,
        "colab": {
          "base_uri": "https://localhost:8080/",
          "height": 384
        }
      },
      "cell_type": "code",
      "source": [
        "g = sns.FacetGrid(tweet_data, col=\"airline\", height=5, aspect =0.7)\n",
        "g = g.map(sns.countplot, \"airline_sentiment\", order =tweet_data.airline_sentiment.value_counts().index, palette='viridis' )\n",
        "plt.show()\n",
        "# Here we can see that United Airlines, US Airways, American Airlines has the most number of negative review\n",
        "# Virgin America has the least number of negative reviews"
      ],
      "execution_count": 312,
      "outputs": [
        {
          "output_type": "display_data",
          "data": {
            "text/plain": [
              "<Figure size 2100x500 with 6 Axes>"
            ],
            "image/png": "[encoded data removed]"
          },
          "metadata": {}
        }
      ]
    },
    {
      "metadata": {
        "id": "Cweu1R65SiEG"
      },
      "cell_type": "markdown",
      "source": [
        "**Most Common negative review reasons**\n",
        "*   There are 14640 rows and 15 columns in the tweet data\n",
        "*   There are 36 duplicate records in the data set\n",
        "*   Here we can see that United Airlines, US Airways, American Airlines has the most number of negative review\n",
        "*   Virgin America has the least number of negative reviews\n",
        "*   Customer service and Late flight seems to be the main reason why customers are giving bad feedback\n",
        "\n"
      ]
    },
    {
      "cell_type": "markdown",
      "source": [
        "###**Data Cleaning**"
      ],
      "metadata": {
        "id": "GADsazP9-yDA"
      }
    },
    {
      "metadata": {
        "id": "_b3hZKDwHj_V"
      },
      "cell_type": "markdown",
      "source": [
        "**Understand of data-columns:**\n",
        "\n",
        "a. Drop all other columns except “text” and “airline_sentiment”. \n",
        "\n",
        "b. Check the shape of data. \n",
        "\n",
        "c. Print first 5 rows of data. "
      ]
    },
    {
      "metadata": {
        "id": "f4MetitLKJuh"
      },
      "cell_type": "markdown",
      "source": [
        "**Drop Irrelevant columns**"
      ]
    },
    {
      "metadata": {
        "id": "TS14Msc2Hwzf",
        "trusted": true
      },
      "cell_type": "code",
      "source": [
        "# Let us now remove irrelevant columns\n",
        "df_tweets_air = tweet_data[[\"text\", \"airline_sentiment\"]]"
      ],
      "execution_count": 313,
      "outputs": []
    },
    {
      "metadata": {
        "id": "xwuNeijiKOVe"
      },
      "cell_type": "markdown",
      "source": [
        "**Shape of Data**"
      ]
    },
    {
      "metadata": {
        "id": "UZVHXl1tIky8",
        "outputId": "c4b55845-6f72-454f-eb0e-b5f6de366c55",
        "trusted": true,
        "colab": {
          "base_uri": "https://localhost:8080/"
        }
      },
      "cell_type": "code",
      "source": [
        "# There are 14568 rows and 2 columns (This is result of keeping relevant rows and duplicate data cleanup)\n",
        "df_tweets_air.shape"
      ],
      "execution_count": 314,
      "outputs": [
        {
          "output_type": "execute_result",
          "data": {
            "text/plain": [
              "(14568, 2)"
            ]
          },
          "metadata": {},
          "execution_count": 314
        }
      ]
    },
    {
      "cell_type": "code",
      "source": [
        "df_tweets_air = df_tweets_air.rename(columns = {\"text\": \"text\", \"airline_sentiment\": \"category\"})"
      ],
      "metadata": {
        "id": "Xlt7dEHzvRVE"
      },
      "execution_count": 315,
      "outputs": []
    },
    {
      "cell_type": "code",
      "source": [
        "df_tweets_air[\"category\"] = df_tweets_air[\"category\"].map({\"negative\": -1.0, \"neutral\": 0.0, \"positive\": 1.0})"
      ],
      "metadata": {
        "id": "KR_Bo07gvRSn"
      },
      "execution_count": 316,
      "outputs": []
    },
    {
      "cell_type": "code",
      "source": [
        "df_tweets_air.head()"
      ],
      "metadata": {
        "colab": {
          "base_uri": "https://localhost:8080/",
          "height": 206
        },
        "id": "_GBdJW_ZvRQC",
        "outputId": "bdaf3010-4bb1-4715-c2d9-4df312c77e93"
      },
      "execution_count": 317,
      "outputs": [
        {
          "output_type": "execute_result",
          "data": {
            "text/plain": [
              "                                                                                                  text  \\\n",
              "0                                                                  @VirginAmerica What @dhepburn said.   \n",
              "1                             @VirginAmerica plus you've added commercials to the experience... tacky.   \n",
              "2                              @VirginAmerica I didn't today... Must mean I need to take another trip!   \n",
              "3  @VirginAmerica it's really aggressive to blast obnoxious \"entertainment\" in your guests' faces &...   \n",
              "4                                              @VirginAmerica and it's a really big bad thing about it   \n",
              "\n",
              "   category  \n",
              "0       0.0  \n",
              "1       1.0  \n",
              "2       0.0  \n",
              "3      -1.0  \n",
              "4      -1.0  "
            ],
            "text/html": [
              "\n",
              "  <div id=\"df-f3f56ded-c57b-4279-a004-63a4f7c4a731\">\n",
              "    <div class=\"colab-df-container\">\n",
              "      <div>\n",
              "<style scoped>\n",
              "    .dataframe tbody tr th:only-of-type {\n",
              "        vertical-align: middle;\n",
              "    }\n",
              "\n",
              "    .dataframe tbody tr th {\n",
              "        vertical-align: top;\n",
              "    }\n",
              "\n",
              "    .dataframe thead th {\n",
              "        text-align: right;\n",
              "    }\n",
              "</style>\n",
              "<table border=\"1\" class=\"dataframe\">\n",
              "  <thead>\n",
              "    <tr style=\"text-align: right;\">\n",
              "      <th></th>\n",
              "      <th>text</th>\n",
              "      <th>category</th>\n",
              "    </tr>\n",
              "  </thead>\n",
              "  <tbody>\n",
              "    <tr>\n",
              "      <th>0</th>\n",
              "      <td>@VirginAmerica What @dhepburn said.</td>\n",
              "      <td>0.0</td>\n",
              "    </tr>\n",
              "    <tr>\n",
              "      <th>1</th>\n",
              "      <td>@VirginAmerica plus you've added commercials to the experience... tacky.</td>\n",
              "      <td>1.0</td>\n",
              "    </tr>\n",
              "    <tr>\n",
              "      <th>2</th>\n",
              "      <td>@VirginAmerica I didn't today... Must mean I need to take another trip!</td>\n",
              "      <td>0.0</td>\n",
              "    </tr>\n",
              "    <tr>\n",
              "      <th>3</th>\n",
              "      <td>@VirginAmerica it's really aggressive to blast obnoxious \"entertainment\" in your guests' faces &amp;...</td>\n",
              "      <td>-1.0</td>\n",
              "    </tr>\n",
              "    <tr>\n",
              "      <th>4</th>\n",
              "      <td>@VirginAmerica and it's a really big bad thing about it</td>\n",
              "      <td>-1.0</td>\n",
              "    </tr>\n",
              "  </tbody>\n",
              "</table>\n",
              "</div>\n",
              "      <button class=\"colab-df-convert\" onclick=\"convertToInteractive('df-f3f56ded-c57b-4279-a004-63a4f7c4a731')\"\n",
              "              title=\"Convert this dataframe to an interactive table.\"\n",
              "              style=\"display:none;\">\n",
              "        \n",
              "  <svg xmlns=\"http://www.w3.org/2000/svg\" height=\"24px\"viewBox=\"0 0 24 24\"\n",
              "       width=\"24px\">\n",
              "    <path d=\"M0 0h24v24H0V0z\" fill=\"none\"/>\n",
              "    <path d=\"M18.56 5.44l.94 2.06.94-2.06 2.06-.94-2.06-.94-.94-2.06-.94 2.06-2.06.94zm-11 1L8.5 8.5l.94-2.06 2.06-.94-2.06-.94L8.5 2.5l-.94 2.06-2.06.94zm10 10l.94 2.06.94-2.06 2.06-.94-2.06-.94-.94-2.06-.94 2.06-2.06.94z\"/><path d=\"M17.41 7.96l-1.37-1.37c-.4-.4-.92-.59-1.43-.59-.52 0-1.04.2-1.43.59L10.3 9.45l-7.72 7.72c-.78.78-.78 2.05 0 2.83L4 21.41c.39.39.9.59 1.41.59.51 0 1.02-.2 1.41-.59l7.78-7.78 2.81-2.81c.8-.78.8-2.07 0-2.86zM5.41 20L4 18.59l7.72-7.72 1.47 1.35L5.41 20z\"/>\n",
              "  </svg>\n",
              "      </button>\n",
              "      \n",
              "  <style>\n",
              "    .colab-df-container {\n",
              "      display:flex;\n",
              "      flex-wrap:wrap;\n",
              "      gap: 12px;\n",
              "    }\n",
              "\n",
              "    .colab-df-convert {\n",
              "      background-color: #E8F0FE;\n",
              "      border: none;\n",
              "      border-radius: 50%;\n",
              "      cursor: pointer;\n",
              "      display: none;\n",
              "      fill: #1967D2;\n",
              "      height: 32px;\n",
              "      padding: 0 0 0 0;\n",
              "      width: 32px;\n",
              "    }\n",
              "\n",
              "    .colab-df-convert:hover {\n",
              "      background-color: #E2EBFA;\n",
              "      box-shadow: 0px 1px 2px rgba(60, 64, 67, 0.3), 0px 1px 3px 1px rgba(60, 64, 67, 0.15);\n",
              "      fill: #174EA6;\n",
              "    }\n",
              "\n",
              "    [theme=dark] .colab-df-convert {\n",
              "      background-color: #3B4455;\n",
              "      fill: #D2E3FC;\n",
              "    }\n",
              "\n",
              "    [theme=dark] .colab-df-convert:hover {\n",
              "      background-color: #434B5C;\n",
              "      box-shadow: 0px 1px 3px 1px rgba(0, 0, 0, 0.15);\n",
              "      filter: drop-shadow(0px 1px 2px rgba(0, 0, 0, 0.3));\n",
              "      fill: #FFFFFF;\n",
              "    }\n",
              "  </style>\n",
              "\n",
              "      <script>\n",
              "        const buttonEl =\n",
              "          document.querySelector('#df-f3f56ded-c57b-4279-a004-63a4f7c4a731 button.colab-df-convert');\n",
              "        buttonEl.style.display =\n",
              "          google.colab.kernel.accessAllowed ? 'block' : 'none';\n",
              "\n",
              "        async function convertToInteractive(key) {\n",
              "          const element = document.querySelector('#df-f3f56ded-c57b-4279-a004-63a4f7c4a731');\n",
              "          const dataTable =\n",
              "            await google.colab.kernel.invokeFunction('convertToInteractive',\n",
              "                                                     [key], {});\n",
              "          if (!dataTable) return;\n",
              "\n",
              "          const docLinkHtml = 'Like what you see? Visit the ' +\n",
              "            '<a target=\"_blank\" href=https://colab.research.google.com/notebooks/data_table.ipynb>data table notebook</a>'\n",
              "            + ' to learn more about interactive tables.';\n",
              "          element.innerHTML = '';\n",
              "          dataTable['output_type'] = 'display_data';\n",
              "          await google.colab.output.renderOutput(dataTable, element);\n",
              "          const docLink = document.createElement('div');\n",
              "          docLink.innerHTML = docLinkHtml;\n",
              "          element.appendChild(docLink);\n",
              "        }\n",
              "      </script>\n",
              "    </div>\n",
              "  </div>\n",
              "  "
            ]
          },
          "metadata": {},
          "execution_count": 317
        }
      ]
    },
    {
      "cell_type": "code",
      "source": [
        "df_tweets_air.isnull().sum()"
      ],
      "metadata": {
        "colab": {
          "base_uri": "https://localhost:8080/"
        },
        "id": "t_baKyYkvRNX",
        "outputId": "6aa5ae38-9214-4866-b5a0-6765e96a8f85"
      },
      "execution_count": 318,
      "outputs": [
        {
          "output_type": "execute_result",
          "data": {
            "text/plain": [
              "text        0\n",
              "category    0\n",
              "dtype: int64"
            ]
          },
          "metadata": {},
          "execution_count": 318
        }
      ]
    },
    {
      "cell_type": "code",
      "source": [
        "def remove_emojis(text_import):\n",
        "    regex_pattern = re.compile(pattern=\"[\"\n",
        "                                        u\"\\U0001F600-\\U0001F64F\"  # emoticons\n",
        "                                        u\"\\U0001F300-\\U0001F5FF\"  # symbols & pictographs\n",
        "                                        u\"\\U0001F680-\\U0001F6FF\"  # transport & map symbols\n",
        "                                        u\"\\U0001F1E0-\\U0001F1FF\"  # flags (iOS)\n",
        "                                        u\"\\U00002702-\\U000027B0\"\n",
        "                                        u\"\\U00002702-\\U000027B0\"\n",
        "                                        u\"\\U000024C2-\\U0001F251\"\n",
        "                                        u\"\\U0001f926-\\U0001f937\"\n",
        "                                        u\"\\U00010000-\\U0010ffff\"\n",
        "                                        u\"\\u2640-\\u2642\"\n",
        "                                        u\"\\u2600-\\u2B55\"\n",
        "                                        u\"\\u200d\"\n",
        "                                        u\"\\u23cf\"\n",
        "                                        u\"\\u23e9\"\n",
        "                                        u\"\\u231a\"\n",
        "                                        u\"\\ufe0f\"  # dingbats\n",
        "                                        u\"\\u3030\"\n",
        "                                        \"]+\", flags=re.UNICODE)\n",
        "    return regex_pattern.sub(\" \", text_import)"
      ],
      "metadata": {
        "id": "CzVkn44H6779"
      },
      "execution_count": 319,
      "outputs": []
    },
    {
      "cell_type": "code",
      "source": [
        "# Define regular expression to match emojis\n",
        "emoji_pattern = re.compile(\"[\"\n",
        "        u\"\\U0001F600-\\U0001F64F\"  # emoticons\n",
        "        u\"\\U0001F300-\\U0001F5FF\"  # symbols & pictographs\n",
        "        u\"\\U0001F680-\\U0001F6FF\"  # transport & map symbols\n",
        "        u\"\\U0001F1E0-\\U0001F1FF\"  # flags (iOS)\n",
        "                           \"]+\", flags=re.UNICODE)\n",
        "\n",
        "# Remove emojis from 'text' column\n",
        "df_tweets_air['text'] = df_tweets_air['text'].apply(lambda x: emoji_pattern.sub(r'', x))"
      ],
      "metadata": {
        "id": "OjrfsRw10Czu"
      },
      "execution_count": 320,
      "outputs": []
    },
    {
      "cell_type": "code",
      "execution_count": 321,
      "metadata": {
        "id": "9VB4DOI-6R2b"
      },
      "outputs": [],
      "source": [
        "# importing libraries\n",
        "from nltk import FreqDist\n",
        "from nltk.stem.porter import PorterStemmer\n",
        "from nltk.tokenize import word_tokenize\n",
        "from nltk.stem import WordNetLemmatizer\n",
        "import string\n",
        "import re\n",
        "pd.set_option('max_colwidth', 100)\n",
        "from sklearn.feature_extraction.text import TfidfVectorizer"
      ]
    },
    {
      "cell_type": "code",
      "execution_count": 322,
      "metadata": {
        "colab": {
          "base_uri": "https://localhost:8080/"
        },
        "id": "iCo_4_S8iO09",
        "outputId": "a873c7f1-be35-4da2-aff2-62fd70429d05"
      },
      "outputs": [
        {
          "output_type": "stream",
          "name": "stderr",
          "text": [
            "[nltk_data] Downloading package punkt to /root/nltk_data...\n",
            "[nltk_data]   Package punkt is already up-to-date!\n"
          ]
        },
        {
          "output_type": "execute_result",
          "data": {
            "text/plain": [
              "True"
            ]
          },
          "metadata": {},
          "execution_count": 322
        }
      ],
      "source": [
        "# intialsing package punkt\n",
        "import nltk \n",
        "nltk.download('punkt')\n"
      ]
    },
    {
      "cell_type": "code",
      "execution_count": 323,
      "metadata": {
        "colab": {
          "base_uri": "https://localhost:8080/"
        },
        "id": "1EMgQZEX6dzk",
        "outputId": "523263c6-950e-4c00-8198-0d2941520106"
      },
      "outputs": [
        {
          "output_type": "stream",
          "name": "stderr",
          "text": [
            "[nltk_data] Downloading package wordnet to /root/nltk_data...\n",
            "[nltk_data]   Package wordnet is already up-to-date!\n"
          ]
        },
        {
          "output_type": "execute_result",
          "data": {
            "text/plain": [
              "True"
            ]
          },
          "metadata": {},
          "execution_count": 323
        }
      ],
      "source": [
        "# intialsing package wordnet\n",
        "import nltk\n",
        "nltk.download('wordnet')"
      ]
    },
    {
      "cell_type": "code",
      "execution_count": 324,
      "metadata": {
        "colab": {
          "base_uri": "https://localhost:8080/"
        },
        "id": "jZCKmWiBIW7d",
        "outputId": "28d2b50e-e503-4b5e-8f35-b7e372e53e22"
      },
      "outputs": [
        {
          "output_type": "stream",
          "name": "stderr",
          "text": [
            "[nltk_data] Downloading package omw-1.4 to /root/nltk_data...\n",
            "[nltk_data]   Package omw-1.4 is already up-to-date!\n"
          ]
        },
        {
          "output_type": "execute_result",
          "data": {
            "text/plain": [
              "True"
            ]
          },
          "metadata": {},
          "execution_count": 324
        }
      ],
      "source": [
        "# intialsing package Open Multilingual Wordnet\n",
        "import nltk\n",
        "nltk.download('omw-1.4')"
      ]
    },
    {
      "cell_type": "code",
      "source": [
        "# Intialising stopwords\n",
        "import nltk\n",
        "from nltk.corpus import stopwords\n",
        "\n",
        "stop_words = stopwords.words('english')\n",
        "print(stop_words)"
      ],
      "metadata": {
        "colab": {
          "base_uri": "https://localhost:8080/"
        },
        "id": "sxgxsacs7LCU",
        "outputId": "8b3af080-357c-456a-be66-e17989bf4a77"
      },
      "execution_count": 325,
      "outputs": [
        {
          "output_type": "stream",
          "name": "stdout",
          "text": [
            "['i', 'me', 'my', 'myself', 'we', 'our', 'ours', 'ourselves', 'you', \"you're\", \"you've\", \"you'll\", \"you'd\", 'your', 'yours', 'yourself', 'yourselves', 'he', 'him', 'his', 'himself', 'she', \"she's\", 'her', 'hers', 'herself', 'it', \"it's\", 'its', 'itself', 'they', 'them', 'their', 'theirs', 'themselves', 'what', 'which', 'who', 'whom', 'this', 'that', \"that'll\", 'these', 'those', 'am', 'is', 'are', 'was', 'were', 'be', 'been', 'being', 'have', 'has', 'had', 'having', 'do', 'does', 'did', 'doing', 'a', 'an', 'the', 'and', 'but', 'if', 'or', 'because', 'as', 'until', 'while', 'of', 'at', 'by', 'for', 'with', 'about', 'against', 'between', 'into', 'through', 'during', 'before', 'after', 'above', 'below', 'to', 'from', 'up', 'down', 'in', 'out', 'on', 'off', 'over', 'under', 'again', 'further', 'then', 'once', 'here', 'there', 'when', 'where', 'why', 'how', 'all', 'any', 'both', 'each', 'few', 'more', 'most', 'other', 'some', 'such', 'no', 'nor', 'not', 'only', 'own', 'same', 'so', 'than', 'too', 'very', 's', 't', 'can', 'will', 'just', 'don', \"don't\", 'should', \"should've\", 'now', 'd', 'll', 'm', 'o', 're', 've', 'y', 'ain', 'aren', \"aren't\", 'couldn', \"couldn't\", 'didn', \"didn't\", 'doesn', \"doesn't\", 'hadn', \"hadn't\", 'hasn', \"hasn't\", 'haven', \"haven't\", 'isn', \"isn't\", 'ma', 'mightn', \"mightn't\", 'mustn', \"mustn't\", 'needn', \"needn't\", 'shan', \"shan't\", 'shouldn', \"shouldn't\", 'wasn', \"wasn't\", 'weren', \"weren't\", 'won', \"won't\", 'wouldn', \"wouldn't\"]\n"
          ]
        }
      ]
    },
    {
      "cell_type": "code",
      "execution_count": 326,
      "metadata": {
        "id": "F-nbVMzA6h6o"
      },
      "outputs": [],
      "source": [
        "# Defining preprocess function\n",
        "stemmer = PorterStemmer()\n",
        "wordnet_lemmatizer = WordNetLemmatizer()\n",
        "def preprocess(document):\n",
        "    \n",
        "    # change sentence to lower case\n",
        "    document = document.lower()\n",
        "\n",
        "       \n",
        "    # tokenize into words\n",
        "    words = word_tokenize(document)\n",
        "\n",
        "    # remove stop words\n",
        "    words = [word for word in words if word not in stop_words]\n",
        "    \n",
        "    \n",
        "    # take only thos words whose length is greater than 2\n",
        "    words=[w for w in words if len(w)>2]\n",
        "    \n",
        "    # join words to make sentence\n",
        "    document = \" \".join(words)\n",
        "    \n",
        "    return document"
      ]
    },
    {
      "cell_type": "code",
      "execution_count": 327,
      "metadata": {
        "id": "X3hrtOEl6jN1"
      },
      "outputs": [],
      "source": [
        "# Defining remove_words function\n",
        "def remove_words(document):\n",
        "   # tokenize into words\n",
        "    words = word_tokenize(document)\n",
        "\n",
        "    # remove positive/negative words\n",
        "    words = [word for word in words if word not in positive_words]\n",
        "    words = [word for word in words if word not in negative_words]\n",
        "    \n",
        "    document = \" \".join(words)\n",
        "    \n",
        "    return document"
      ]
    },
    {
      "cell_type": "code",
      "execution_count": 328,
      "metadata": {
        "id": "EXSbmpw86kfn"
      },
      "outputs": [],
      "source": [
        "# defining remove_punctuations function\n",
        "def remove_punctuations(text):\n",
        "    text = re.sub('[^A-Za-z]+', ' ', text)\n",
        "    \n",
        "    return text"
      ]
    },
    {
      "cell_type": "code",
      "execution_count": 329,
      "metadata": {
        "id": "YpBn6Bj96lRh"
      },
      "outputs": [],
      "source": [
        "# defining apply_lemmatization function\n",
        "stemmer = PorterStemmer()\n",
        "wordnet_lemmatizer = WordNetLemmatizer()\n",
        "def apply_lemmatization(document):\n",
        "     # tokenize into words\n",
        "         # change sentence to lower case\n",
        "    document = document.lower()\n",
        "    words = word_tokenize(document)\n",
        "\n",
        "    # remove stop words\n",
        "    words = [word for word in words if word not in stop_words]\n",
        "    \n",
        "    #apply lemmatization\n",
        "    words = [wordnet_lemmatizer.lemmatize(word, pos='v') for word in words]\n",
        "\n",
        "    words=[w for w in words if len(w)>2]\n",
        "    \n",
        "    # join words to make sentence\n",
        "    document = \" \".join(words)\n",
        "    \n",
        "    return document"
      ]
    },
    {
      "cell_type": "code",
      "execution_count": 330,
      "metadata": {
        "id": "XFj7Qlup6sfB"
      },
      "outputs": [],
      "source": [
        "# Preprocessing reviewText column\n",
        "df_sentiment[\"review_text_nostop\"]=[preprocess(x) for x in df_sentiment[\"text\"]]"
      ]
    },
    {
      "cell_type": "code",
      "execution_count": 331,
      "metadata": {
        "id": "jn-fQdTW6r_Z"
      },
      "outputs": [],
      "source": [
        "# removing punctuations from the review_text_nostop column\n",
        "df_sentiment[\"review_text_nostop\"] = df_sentiment['review_text_nostop'].apply(remove_punctuations)"
      ]
    },
    {
      "cell_type": "code",
      "execution_count": 332,
      "metadata": {
        "id": "y6EpAEzi6r3X"
      },
      "outputs": [],
      "source": [
        "# after removing punctuation marks still there are some stop words so running above function to remove remaining stopwords and do lemmatization.\n",
        "df_sentiment[\"review_text_nostop\"]=[apply_lemmatization(x) for x in df_sentiment[\"review_text_nostop\"]]\n"
      ]
    },
    {
      "cell_type": "markdown",
      "metadata": {
        "id": "EjsDF6oFkv3u"
      },
      "source": [
        "# `Building an engine for sentiment classification based on the sentiment of the text`\n",
        "*   **Model building**\n",
        "*   **evaluating**"
      ]
    },
    {
      "cell_type": "code",
      "execution_count": 333,
      "metadata": {
        "id": "H-waYyYrkv34"
      },
      "outputs": [],
      "source": [
        "# importing libraries\n",
        "import pandas as pd\n",
        "import numpy as np\n",
        "import re\n",
        "from sklearn.feature_extraction.text import TfidfVectorizer\n",
        "from nltk import FreqDist\n",
        "from nltk.stem.porter import PorterStemmer\n",
        "from nltk.tokenize import word_tokenize\n",
        "from nltk.stem import WordNetLemmatizer\n",
        "import seaborn as sns\n",
        "import matplotlib.pyplot as plt\n",
        "sns.set(style=\"whitegrid\")\n",
        "%matplotlib inline\n",
        "from sklearn.metrics import accuracy_score,confusion_matrix,classification_report \n",
        "from mlxtend.plotting import plot_confusion_matrix\n",
        "\n",
        "# setting output options\n",
        "pd.set_option('display.max_rows', None)\n",
        "pd.set_option('display.max_columns', None)\n",
        "pd.set_option('display.width', None)\n",
        "\n",
        "# filter warnings\n",
        "import warnings\n",
        "warnings.filterwarnings('ignore')"
      ]
    },
    {
      "cell_type": "code",
      "execution_count": 334,
      "metadata": {
        "colab": {
          "base_uri": "https://localhost:8080/",
          "height": 206
        },
        "id": "OA0oJ8s-kv4B",
        "outputId": "e98335c4-7944-4f7e-e4c0-81df34625a2f"
      },
      "outputs": [
        {
          "output_type": "execute_result",
          "data": {
            "text/plain": [
              "                                                                                                  text  \\\n",
              "0                                                                  @VirginAmerica What @dhepburn said.   \n",
              "1                             @VirginAmerica plus you've added commercials to the experience... tacky.   \n",
              "2                              @VirginAmerica I didn't today... Must mean I need to take another trip!   \n",
              "3  @VirginAmerica it's really aggressive to blast obnoxious \"entertainment\" in your guests' faces &...   \n",
              "4                                              @VirginAmerica and it's a really big bad thing about it   \n",
              "\n",
              "   category  \\\n",
              "0       0.0   \n",
              "1       1.0   \n",
              "2       0.0   \n",
              "3      -1.0   \n",
              "4      -1.0   \n",
              "\n",
              "                                                                              review_text_nostop  \n",
              "0                                                                     virginamerica dhepburn say  \n",
              "1                                            virginamerica plus add commercials experience tacky  \n",
              "2                                           virginamerica today must mean need take another trip  \n",
              "3  virginamerica really aggressive blast obnoxious entertainment guests face amp little recourse  \n",
              "4                                                             virginamerica really big bad thing  "
            ],
            "text/html": [
              "\n",
              "  <div id=\"df-fe0c3c9e-ccdf-44d9-ab2e-577703ef5857\">\n",
              "    <div class=\"colab-df-container\">\n",
              "      <div>\n",
              "<style scoped>\n",
              "    .dataframe tbody tr th:only-of-type {\n",
              "        vertical-align: middle;\n",
              "    }\n",
              "\n",
              "    .dataframe tbody tr th {\n",
              "        vertical-align: top;\n",
              "    }\n",
              "\n",
              "    .dataframe thead th {\n",
              "        text-align: right;\n",
              "    }\n",
              "</style>\n",
              "<table border=\"1\" class=\"dataframe\">\n",
              "  <thead>\n",
              "    <tr style=\"text-align: right;\">\n",
              "      <th></th>\n",
              "      <th>text</th>\n",
              "      <th>category</th>\n",
              "      <th>review_text_nostop</th>\n",
              "    </tr>\n",
              "  </thead>\n",
              "  <tbody>\n",
              "    <tr>\n",
              "      <th>0</th>\n",
              "      <td>@VirginAmerica What @dhepburn said.</td>\n",
              "      <td>0.0</td>\n",
              "      <td>virginamerica dhepburn say</td>\n",
              "    </tr>\n",
              "    <tr>\n",
              "      <th>1</th>\n",
              "      <td>@VirginAmerica plus you've added commercials to the experience... tacky.</td>\n",
              "      <td>1.0</td>\n",
              "      <td>virginamerica plus add commercials experience tacky</td>\n",
              "    </tr>\n",
              "    <tr>\n",
              "      <th>2</th>\n",
              "      <td>@VirginAmerica I didn't today... Must mean I need to take another trip!</td>\n",
              "      <td>0.0</td>\n",
              "      <td>virginamerica today must mean need take another trip</td>\n",
              "    </tr>\n",
              "    <tr>\n",
              "      <th>3</th>\n",
              "      <td>@VirginAmerica it's really aggressive to blast obnoxious \"entertainment\" in your guests' faces &amp;...</td>\n",
              "      <td>-1.0</td>\n",
              "      <td>virginamerica really aggressive blast obnoxious entertainment guests face amp little recourse</td>\n",
              "    </tr>\n",
              "    <tr>\n",
              "      <th>4</th>\n",
              "      <td>@VirginAmerica and it's a really big bad thing about it</td>\n",
              "      <td>-1.0</td>\n",
              "      <td>virginamerica really big bad thing</td>\n",
              "    </tr>\n",
              "  </tbody>\n",
              "</table>\n",
              "</div>\n",
              "      <button class=\"colab-df-convert\" onclick=\"convertToInteractive('df-fe0c3c9e-ccdf-44d9-ab2e-577703ef5857')\"\n",
              "              title=\"Convert this dataframe to an interactive table.\"\n",
              "              style=\"display:none;\">\n",
              "        \n",
              "  <svg xmlns=\"http://www.w3.org/2000/svg\" height=\"24px\"viewBox=\"0 0 24 24\"\n",
              "       width=\"24px\">\n",
              "    <path d=\"M0 0h24v24H0V0z\" fill=\"none\"/>\n",
              "    <path d=\"M18.56 5.44l.94 2.06.94-2.06 2.06-.94-2.06-.94-.94-2.06-.94 2.06-2.06.94zm-11 1L8.5 8.5l.94-2.06 2.06-.94-2.06-.94L8.5 2.5l-.94 2.06-2.06.94zm10 10l.94 2.06.94-2.06 2.06-.94-2.06-.94-.94-2.06-.94 2.06-2.06.94z\"/><path d=\"M17.41 7.96l-1.37-1.37c-.4-.4-.92-.59-1.43-.59-.52 0-1.04.2-1.43.59L10.3 9.45l-7.72 7.72c-.78.78-.78 2.05 0 2.83L4 21.41c.39.39.9.59 1.41.59.51 0 1.02-.2 1.41-.59l7.78-7.78 2.81-2.81c.8-.78.8-2.07 0-2.86zM5.41 20L4 18.59l7.72-7.72 1.47 1.35L5.41 20z\"/>\n",
              "  </svg>\n",
              "      </button>\n",
              "      \n",
              "  <style>\n",
              "    .colab-df-container {\n",
              "      display:flex;\n",
              "      flex-wrap:wrap;\n",
              "      gap: 12px;\n",
              "    }\n",
              "\n",
              "    .colab-df-convert {\n",
              "      background-color: #E8F0FE;\n",
              "      border: none;\n",
              "      border-radius: 50%;\n",
              "      cursor: pointer;\n",
              "      display: none;\n",
              "      fill: #1967D2;\n",
              "      height: 32px;\n",
              "      padding: 0 0 0 0;\n",
              "      width: 32px;\n",
              "    }\n",
              "\n",
              "    .colab-df-convert:hover {\n",
              "      background-color: #E2EBFA;\n",
              "      box-shadow: 0px 1px 2px rgba(60, 64, 67, 0.3), 0px 1px 3px 1px rgba(60, 64, 67, 0.15);\n",
              "      fill: #174EA6;\n",
              "    }\n",
              "\n",
              "    [theme=dark] .colab-df-convert {\n",
              "      background-color: #3B4455;\n",
              "      fill: #D2E3FC;\n",
              "    }\n",
              "\n",
              "    [theme=dark] .colab-df-convert:hover {\n",
              "      background-color: #434B5C;\n",
              "      box-shadow: 0px 1px 3px 1px rgba(0, 0, 0, 0.15);\n",
              "      filter: drop-shadow(0px 1px 2px rgba(0, 0, 0, 0.3));\n",
              "      fill: #FFFFFF;\n",
              "    }\n",
              "  </style>\n",
              "\n",
              "      <script>\n",
              "        const buttonEl =\n",
              "          document.querySelector('#df-fe0c3c9e-ccdf-44d9-ab2e-577703ef5857 button.colab-df-convert');\n",
              "        buttonEl.style.display =\n",
              "          google.colab.kernel.accessAllowed ? 'block' : 'none';\n",
              "\n",
              "        async function convertToInteractive(key) {\n",
              "          const element = document.querySelector('#df-fe0c3c9e-ccdf-44d9-ab2e-577703ef5857');\n",
              "          const dataTable =\n",
              "            await google.colab.kernel.invokeFunction('convertToInteractive',\n",
              "                                                     [key], {});\n",
              "          if (!dataTable) return;\n",
              "\n",
              "          const docLinkHtml = 'Like what you see? Visit the ' +\n",
              "            '<a target=\"_blank\" href=https://colab.research.google.com/notebooks/data_table.ipynb>data table notebook</a>'\n",
              "            + ' to learn more about interactive tables.';\n",
              "          element.innerHTML = '';\n",
              "          dataTable['output_type'] = 'display_data';\n",
              "          await google.colab.output.renderOutput(dataTable, element);\n",
              "          const docLink = document.createElement('div');\n",
              "          docLink.innerHTML = docLinkHtml;\n",
              "          element.appendChild(docLink);\n",
              "        }\n",
              "      </script>\n",
              "    </div>\n",
              "  </div>\n",
              "  "
            ]
          },
          "metadata": {},
          "execution_count": 334
        }
      ],
      "source": [
        "df_sentiment.head()"
      ]
    },
    {
      "cell_type": "code",
      "execution_count": 335,
      "metadata": {
        "id": "wbnA4BGHkv4C"
      },
      "outputs": [],
      "source": [
        "# Extracting columns\n",
        "reviews_frame = df_sentiment[[\"review_text_nostop\",\"category\"]]"
      ]
    },
    {
      "cell_type": "code",
      "source": [
        "reviews_frame = reviews_frame.rename(columns={'review_text_nostop': 'reviewText', 'category': 'review_sentiment'})"
      ],
      "metadata": {
        "id": "NCDBL-TvKK9z"
      },
      "execution_count": 336,
      "outputs": []
    },
    {
      "cell_type": "code",
      "execution_count": 337,
      "metadata": {
        "colab": {
          "base_uri": "https://localhost:8080/",
          "height": 206
        },
        "id": "yjUj2-gkkv4C",
        "outputId": "fd01ce6c-aa16-488e-d7f4-f70447acfb30"
      },
      "outputs": [
        {
          "output_type": "execute_result",
          "data": {
            "text/plain": [
              "                                                                                      reviewText  \\\n",
              "0                                                                     virginamerica dhepburn say   \n",
              "1                                            virginamerica plus add commercials experience tacky   \n",
              "2                                           virginamerica today must mean need take another trip   \n",
              "3  virginamerica really aggressive blast obnoxious entertainment guests face amp little recourse   \n",
              "4                                                             virginamerica really big bad thing   \n",
              "\n",
              "   review_sentiment  \n",
              "0               0.0  \n",
              "1               1.0  \n",
              "2               0.0  \n",
              "3              -1.0  \n",
              "4              -1.0  "
            ],
            "text/html": [
              "\n",
              "  <div id=\"df-6a25ac4e-0df3-47e0-baaa-6fd676d82f1d\">\n",
              "    <div class=\"colab-df-container\">\n",
              "      <div>\n",
              "<style scoped>\n",
              "    .dataframe tbody tr th:only-of-type {\n",
              "        vertical-align: middle;\n",
              "    }\n",
              "\n",
              "    .dataframe tbody tr th {\n",
              "        vertical-align: top;\n",
              "    }\n",
              "\n",
              "    .dataframe thead th {\n",
              "        text-align: right;\n",
              "    }\n",
              "</style>\n",
              "<table border=\"1\" class=\"dataframe\">\n",
              "  <thead>\n",
              "    <tr style=\"text-align: right;\">\n",
              "      <th></th>\n",
              "      <th>reviewText</th>\n",
              "      <th>review_sentiment</th>\n",
              "    </tr>\n",
              "  </thead>\n",
              "  <tbody>\n",
              "    <tr>\n",
              "      <th>0</th>\n",
              "      <td>virginamerica dhepburn say</td>\n",
              "      <td>0.0</td>\n",
              "    </tr>\n",
              "    <tr>\n",
              "      <th>1</th>\n",
              "      <td>virginamerica plus add commercials experience tacky</td>\n",
              "      <td>1.0</td>\n",
              "    </tr>\n",
              "    <tr>\n",
              "      <th>2</th>\n",
              "      <td>virginamerica today must mean need take another trip</td>\n",
              "      <td>0.0</td>\n",
              "    </tr>\n",
              "    <tr>\n",
              "      <th>3</th>\n",
              "      <td>virginamerica really aggressive blast obnoxious entertainment guests face amp little recourse</td>\n",
              "      <td>-1.0</td>\n",
              "    </tr>\n",
              "    <tr>\n",
              "      <th>4</th>\n",
              "      <td>virginamerica really big bad thing</td>\n",
              "      <td>-1.0</td>\n",
              "    </tr>\n",
              "  </tbody>\n",
              "</table>\n",
              "</div>\n",
              "      <button class=\"colab-df-convert\" onclick=\"convertToInteractive('df-6a25ac4e-0df3-47e0-baaa-6fd676d82f1d')\"\n",
              "              title=\"Convert this dataframe to an interactive table.\"\n",
              "              style=\"display:none;\">\n",
              "        \n",
              "  <svg xmlns=\"http://www.w3.org/2000/svg\" height=\"24px\"viewBox=\"0 0 24 24\"\n",
              "       width=\"24px\">\n",
              "    <path d=\"M0 0h24v24H0V0z\" fill=\"none\"/>\n",
              "    <path d=\"M18.56 5.44l.94 2.06.94-2.06 2.06-.94-2.06-.94-.94-2.06-.94 2.06-2.06.94zm-11 1L8.5 8.5l.94-2.06 2.06-.94-2.06-.94L8.5 2.5l-.94 2.06-2.06.94zm10 10l.94 2.06.94-2.06 2.06-.94-2.06-.94-.94-2.06-.94 2.06-2.06.94z\"/><path d=\"M17.41 7.96l-1.37-1.37c-.4-.4-.92-.59-1.43-.59-.52 0-1.04.2-1.43.59L10.3 9.45l-7.72 7.72c-.78.78-.78 2.05 0 2.83L4 21.41c.39.39.9.59 1.41.59.51 0 1.02-.2 1.41-.59l7.78-7.78 2.81-2.81c.8-.78.8-2.07 0-2.86zM5.41 20L4 18.59l7.72-7.72 1.47 1.35L5.41 20z\"/>\n",
              "  </svg>\n",
              "      </button>\n",
              "      \n",
              "  <style>\n",
              "    .colab-df-container {\n",
              "      display:flex;\n",
              "      flex-wrap:wrap;\n",
              "      gap: 12px;\n",
              "    }\n",
              "\n",
              "    .colab-df-convert {\n",
              "      background-color: #E8F0FE;\n",
              "      border: none;\n",
              "      border-radius: 50%;\n",
              "      cursor: pointer;\n",
              "      display: none;\n",
              "      fill: #1967D2;\n",
              "      height: 32px;\n",
              "      padding: 0 0 0 0;\n",
              "      width: 32px;\n",
              "    }\n",
              "\n",
              "    .colab-df-convert:hover {\n",
              "      background-color: #E2EBFA;\n",
              "      box-shadow: 0px 1px 2px rgba(60, 64, 67, 0.3), 0px 1px 3px 1px rgba(60, 64, 67, 0.15);\n",
              "      fill: #174EA6;\n",
              "    }\n",
              "\n",
              "    [theme=dark] .colab-df-convert {\n",
              "      background-color: #3B4455;\n",
              "      fill: #D2E3FC;\n",
              "    }\n",
              "\n",
              "    [theme=dark] .colab-df-convert:hover {\n",
              "      background-color: #434B5C;\n",
              "      box-shadow: 0px 1px 3px 1px rgba(0, 0, 0, 0.15);\n",
              "      filter: drop-shadow(0px 1px 2px rgba(0, 0, 0, 0.3));\n",
              "      fill: #FFFFFF;\n",
              "    }\n",
              "  </style>\n",
              "\n",
              "      <script>\n",
              "        const buttonEl =\n",
              "          document.querySelector('#df-6a25ac4e-0df3-47e0-baaa-6fd676d82f1d button.colab-df-convert');\n",
              "        buttonEl.style.display =\n",
              "          google.colab.kernel.accessAllowed ? 'block' : 'none';\n",
              "\n",
              "        async function convertToInteractive(key) {\n",
              "          const element = document.querySelector('#df-6a25ac4e-0df3-47e0-baaa-6fd676d82f1d');\n",
              "          const dataTable =\n",
              "            await google.colab.kernel.invokeFunction('convertToInteractive',\n",
              "                                                     [key], {});\n",
              "          if (!dataTable) return;\n",
              "\n",
              "          const docLinkHtml = 'Like what you see? Visit the ' +\n",
              "            '<a target=\"_blank\" href=https://colab.research.google.com/notebooks/data_table.ipynb>data table notebook</a>'\n",
              "            + ' to learn more about interactive tables.';\n",
              "          element.innerHTML = '';\n",
              "          dataTable['output_type'] = 'display_data';\n",
              "          await google.colab.output.renderOutput(dataTable, element);\n",
              "          const docLink = document.createElement('div');\n",
              "          docLink.innerHTML = docLinkHtml;\n",
              "          element.appendChild(docLink);\n",
              "        }\n",
              "      </script>\n",
              "    </div>\n",
              "  </div>\n",
              "  "
            ]
          },
          "metadata": {},
          "execution_count": 337
        }
      ],
      "source": [
        "reviews_frame.head()"
      ]
    },
    {
      "cell_type": "markdown",
      "metadata": {
        "id": "EQ71DV4wkv4D"
      },
      "source": [
        "#### Preprocess the text"
      ]
    },
    {
      "cell_type": "code",
      "execution_count": 338,
      "metadata": {
        "id": "YiYrwWZWkv4E"
      },
      "outputs": [],
      "source": [
        "# remove contraction and make it as normal string \n",
        "contractionsMain = {\"ain't\": \"is not\", \"aren't\": \"are not\",\"can't\": \"can not\", \"'cause\": \"because\", \"could've\": \"could have\", \"couldn't\": \"could not\", \"didn't\": \"did not\",  \"doesn't\": \"does not\", \"don't\": \"do not\", \"hadn't\": \"had not\", \"hasn't\": \"has not\", \"haven't\": \"have not\", \"he'd\": \"he would\",\"he'll\": \"he will\", \"he's\": \"he is\", \"how'd\": \"how did\", \"how'd'y\": \"how do you\", \"how'll\": \"how will\", \"how's\": \"how is\",  \"I'd\": \"I would\", \"I'd've\": \"I would have\", \"I'll\": \"I will\", \"I'll've\": \"I will have\",\"I'm\": \"I am\", \"I've\": \"I have\", \"i'd\": \"i would\", \"i'd've\": \"i would have\", \"i'll\": \"i will\",  \"i'll've\": \"i will have\",\"i'm\": \"i am\", \"i've\": \"i have\", \"isn't\": \"is not\", \"it'd\": \"it would\", \"it'd've\": \"it would have\", \"it'll\": \"it will\", \"it'll've\": \"it will have\",\"it's\": \"it is\", \"let's\": \"let us\", \"ma'am\": \"madam\", \"mayn't\": \"may not\", \"might've\": \"might have\",\"mightn't\": \"might not\",\"mightn't've\": \"might not have\", \"must've\": \"must have\", \"mustn't\": \"must not\", \"mustn't've\": \"must not have\", \"needn't\": \"need not\", \"needn't've\": \"need not have\",\"o'clock\": \"of the clock\", \"oughtn't\": \"ought not\", \"oughtn't've\": \"ought not have\", \"shan't\": \"shall not\", \"sha'n't\": \"shall not\", \"shan't've\": \"shall not have\", \"she'd\": \"she would\", \"she'd've\": \"she would have\", \"she'll\": \"she will\", \"she'll've\": \"she will have\", \"she's\": \"she is\", \"should've\": \"should have\", \"shouldn't\": \"should not\", \"shouldn't've\": \"should not have\", \"so've\": \"so have\",\"so's\": \"so as\", \"this's\": \"this is\",\"that'd\": \"that would\", \"that'd've\": \"that would have\", \"that's\": \"that is\", \"there'd\": \"there would\", \"there'd've\": \"there would have\", \"there's\": \"there is\", \"here's\": \"here is\",\"they'd\": \"they would\", \"they'd've\": \"they would have\", \"they'll\": \"they will\", \"they'll've\": \"they will have\", \"they're\": \"they are\", \"they've\": \"they have\", \"to've\": \"to have\", \"wasn't\": \"was not\", \"we'd\": \"we would\", \"we'd've\": \"we would have\", \"we'll\": \"we will\", \"we'll've\": \"we will have\", \"we're\": \"we are\", \"we've\": \"we have\", \"weren't\": \"were not\", \"what'll\": \"what will\", \"what'll've\": \"what will have\", \"what're\": \"what are\",  \"what's\": \"what is\", \"what've\": \"what have\", \"when's\": \"when is\", \"when've\": \"when have\", \"where'd\": \"where did\", \"where's\": \"where is\", \"where've\": \"where have\", \"who'll\": \"who will\", \"who'll've\": \"who will have\", \"who's\": \"who is\", \"who've\": \"who have\", \"why's\": \"why is\", \"why've\": \"why have\", \"will've\": \"will have\", \"won't\": \"will not\", \"won't've\": \"will not have\", \"would've\": \"would have\", \"wouldn't\": \"would not\", \"wouldn't've\": \"would not have\", \"y'all\": \"you all\", \"y'all'd\": \"you all would\",\"y'all'd've\": \"you all would have\",\"y'all're\": \"you all are\",\"y'all've\": \"you all have\",\"you'd\": \"you would\", \"you'd've\": \"you would have\", \"you'll\": \"you will\", \"you'll've\": \"you will have\", \"you're\": \"you are\", \"you've\": \"you have\"}\n",
        "\n",
        "def getcontractions(contractionsMain):\n",
        "    contraction_key = re.compile('(%s)' % '|'.join(contractionsMain.keys()))\n",
        "    return contractionsMain, contraction_key\n",
        "\n",
        "contractions, contraction_key = getcontractions(contractionsMain)\n",
        "def replacecontractions(text):\n",
        "    def replace(match):\n",
        "        return contractions[match.group(0)]\n",
        "    return contraction_key.sub(replace, text)"
      ]
    },
    {
      "cell_type": "code",
      "execution_count": 339,
      "metadata": {
        "id": "jozop1Alkv4G"
      },
      "outputs": [],
      "source": [
        "# function to remove punctuations\n",
        "def text_purifier(text):\n",
        "    text = re.sub('[^A-Za-z]+', ' ', text)\n",
        "    text = text.lower()                             # convert text lower case\n",
        "    text = re.sub(r\"http\\S+\", \"\", text)             # text remove hyperlinks\n",
        "    text = re.sub(r\"#\", \"\", text)                   # text remove hashtag symbol\n",
        "    text = re.sub(r\"@\\S+\", \"\", text)                # text remove @mentions\n",
        "    text = ''.join((char for char in text\n",
        "                    if not char.isdigit()))         # remove all numbers\n",
        "    text = re.sub(r\"'\", \"\", text)                   # remove apostrophes\n",
        "    text = re.sub(r\"[^a-zA-Z0-9]\", \" \", text)       # remove non letters\n",
        "    text = re.sub(r\"^RT[\\s]+\", \"\", text)            # remove retweet text \"RT\"\n",
        "\n",
        "    \n",
        "    return text"
      ]
    },
    {
      "cell_type": "code",
      "execution_count": 340,
      "metadata": {
        "id": "JfARiFoYkv4G"
      },
      "outputs": [],
      "source": [
        "#function to remove numbers and punctuation marks\n",
        "puncts_list=['!','@','#','$','%','^','&','*','(',')','-','_','+','=','{','}','[',']',':',';','?','/','\\\\','|','.','<','>']\n",
        "def removepuctuationmarks(x):\n",
        "    x = str(x)\n",
        "    for punct in puncts_list:\n",
        "        if punct in x:\n",
        "            x = x.replace(punct, '')\n",
        "    return x\n"
      ]
    },
    {
      "cell_type": "code",
      "execution_count": 341,
      "metadata": {
        "id": "qWj7zy-Nkv4I"
      },
      "outputs": [],
      "source": [
        "# replace charachter appearing for more than twice in any word to single character \n",
        "def replace_multiple_characters(text):\n",
        "        #repeat_pattern = re.compile(r'(\\w)\\1*')\n",
        "        repeat_pattern = re.compile(r'(\\w)\\1{2,}')\n",
        "        match_substitution = r'\\1\\1' \n",
        "        new_word = repeat_pattern.sub(match_substitution,text) \n",
        "        repeat_pattern1 = re.compile(r'(\\w)\\1{1,}$')\n",
        "        match_substitution1 = r'\\1' \n",
        "        new_word = repeat_pattern1.sub(match_substitution1,new_word) \n",
        "        return new_word\n",
        "   "
      ]
    },
    {
      "cell_type": "code",
      "execution_count": 342,
      "metadata": {
        "id": "i2Cn3_L1kv4I"
      },
      "outputs": [],
      "source": [
        "stemmer = PorterStemmer()\n",
        "wordnet_lemmatizer = WordNetLemmatizer()\n",
        "def preprocessText(document):\n",
        "     # tokenize into idioms\n",
        "         # change sentence to lower case\n",
        "    document = document.lower()\n",
        "    idioms = word_tokenize(document)\n",
        "    # remove contractions\n",
        "    idioms = [ replacecontractions(word) for word in idioms ]\n",
        "    \n",
        "    # remove stop idioms\n",
        "    idioms = [word for word in idioms if word not in stop_words]\n",
        "    \n",
        "    # remove punctuation marks\n",
        "    \n",
        "    idioms=[text_purifier(word) for word in idioms]\n",
        "    \n",
        "    idioms=[replace_multiple_characters(word) for word in idioms]\n",
        "    \n",
        "    # remove stop idioms\n",
        "    idioms = [word for word in idioms if word not in stop_words]\n",
        "    \n",
        "    #apply lemmatization\n",
        "    idioms = [wordnet_lemmatizer.lemmatize(word, pos='v') for word in idioms]\n",
        "\n",
        "    idioms=[word for word in idioms if len(word)>2]\n",
        "    # join idioms to make sentence\n",
        "    document = \" \".join(idioms)\n",
        "    \n",
        "    return document"
      ]
    },
    {
      "cell_type": "code",
      "execution_count": 343,
      "metadata": {
        "id": "FJ6EIrx2kv4J"
      },
      "outputs": [],
      "source": [
        "reviews_frame[\"reviewText\"]=[preprocessText(str(x)) for x in reviews_frame[\"reviewText\"]]"
      ]
    },
    {
      "cell_type": "code",
      "execution_count": 344,
      "metadata": {
        "colab": {
          "base_uri": "https://localhost:8080/"
        },
        "id": "z-2PELBXkv4J",
        "outputId": "b371ba33-7e81-47ae-b6f7-8bca75830553"
      },
      "outputs": [
        {
          "output_type": "stream",
          "name": "stdout",
          "text": [
            "(14568,)\n",
            "(14568,)\n"
          ]
        }
      ],
      "source": [
        "# convert to X and y\n",
        "X = reviews_frame.reviewText\n",
        "y = reviews_frame.review_sentiment\n",
        "print(X.shape)\n",
        "print(y.shape)"
      ]
    },
    {
      "cell_type": "code",
      "execution_count": 345,
      "metadata": {
        "id": "N-q9SnDJkv4K"
      },
      "outputs": [],
      "source": [
        "# splitting into test and train\n",
        "from sklearn.model_selection  import train_test_split\n",
        "X_train, X_test, y_train, y_test = train_test_split(X, y, random_state=1)"
      ]
    },
    {
      "cell_type": "code",
      "execution_count": 346,
      "metadata": {
        "colab": {
          "base_uri": "https://localhost:8080/"
        },
        "id": "tYI_gpvskv4K",
        "outputId": "fe1837c4-fd13-4a28-f8e2-2fcab5af796a"
      },
      "outputs": [
        {
          "output_type": "execute_result",
          "data": {
            "text/plain": [
              "14487    americanair also reservations team fault bad top decision feel bad reservations social media team\n",
              "2005                                                           unite weight restriction try get many plane\n",
              "9588                                                                                       usairways thank\n",
              "11960                             americanair worst company ever please fly repeat please fly credit delay\n",
              "3709                                                unite patient let string tweet show people bad busines\n",
              "Name: reviewText, dtype: object"
            ]
          },
          "metadata": {},
          "execution_count": 346
        }
      ],
      "source": [
        "X_train.head()"
      ]
    },
    {
      "cell_type": "code",
      "execution_count": 347,
      "metadata": {
        "colab": {
          "base_uri": "https://localhost:8080/"
        },
        "id": "gSnBBZNSkv4K",
        "outputId": "fb3ad4a4-6e40-4931-ce4e-eba5bdc06329"
      },
      "outputs": [
        {
          "output_type": "execute_result",
          "data": {
            "text/plain": [
              "14487   -1.0\n",
              "2005    -1.0\n",
              "9588     1.0\n",
              "11960   -1.0\n",
              "3709    -1.0\n",
              "Name: review_sentiment, dtype: float64"
            ]
          },
          "metadata": {},
          "execution_count": 347
        }
      ],
      "source": [
        "y_train.head()"
      ]
    },
    {
      "cell_type": "code",
      "execution_count": 348,
      "metadata": {
        "id": "qLxkO7j6kv4L"
      },
      "outputs": [],
      "source": [
        "# vectorizing the sentences\n",
        "from sklearn.feature_extraction.text import CountVectorizer\n",
        "vect = CountVectorizer()"
      ]
    },
    {
      "cell_type": "code",
      "execution_count": 349,
      "metadata": {
        "colab": {
          "base_uri": "https://localhost:8080/",
          "height": 74
        },
        "id": "9rYSs2ECkv4L",
        "outputId": "0065d233-990b-490f-c12d-3cb977e6df89"
      },
      "outputs": [
        {
          "output_type": "execute_result",
          "data": {
            "text/plain": [
              "CountVectorizer()"
            ],
            "text/html": [
              "<style>#sk-container-id-3 {color: black;background-color: white;}#sk-container-id-3 pre{padding: 0;}#sk-container-id-3 div.sk-toggleable {background-color: white;}#sk-container-id-3 label.sk-toggleable__label {cursor: pointer;display: block;width: 100%;margin-bottom: 0;padding: 0.3em;box-sizing: border-box;text-align: center;}#sk-container-id-3 label.sk-toggleable__label-arrow:before {content: \"▸\";float: left;margin-right: 0.25em;color: #696969;}#sk-container-id-3 label.sk-toggleable__label-arrow:hover:before {color: black;}#sk-container-id-3 div.sk-estimator:hover label.sk-toggleable__label-arrow:before {color: black;}#sk-container-id-3 div.sk-toggleable__content {max-height: 0;max-width: 0;overflow: hidden;text-align: left;background-color: #f0f8ff;}#sk-container-id-3 div.sk-toggleable__content pre {margin: 0.2em;color: black;border-radius: 0.25em;background-color: #f0f8ff;}#sk-container-id-3 input.sk-toggleable__control:checked~div.sk-toggleable__content {max-height: 200px;max-width: 100%;overflow: auto;}#sk-container-id-3 input.sk-toggleable__control:checked~label.sk-toggleable__label-arrow:before {content: \"▾\";}#sk-container-id-3 div.sk-estimator input.sk-toggleable__control:checked~label.sk-toggleable__label {background-color: #d4ebff;}#sk-container-id-3 div.sk-label input.sk-toggleable__control:checked~label.sk-toggleable__label {background-color: #d4ebff;}#sk-container-id-3 input.sk-hidden--visually {border: 0;clip: rect(1px 1px 1px 1px);clip: rect(1px, 1px, 1px, 1px);height: 1px;margin: -1px;overflow: hidden;padding: 0;position: absolute;width: 1px;}#sk-container-id-3 div.sk-estimator {font-family: monospace;background-color: #f0f8ff;border: 1px dotted black;border-radius: 0.25em;box-sizing: border-box;margin-bottom: 0.5em;}#sk-container-id-3 div.sk-estimator:hover {background-color: #d4ebff;}#sk-container-id-3 div.sk-parallel-item::after {content: \"\";width: 100%;border-bottom: 1px solid gray;flex-grow: 1;}#sk-container-id-3 div.sk-label:hover label.sk-toggleable__label {background-color: #d4ebff;}#sk-container-id-3 div.sk-serial::before {content: \"\";position: absolute;border-left: 1px solid gray;box-sizing: border-box;top: 0;bottom: 0;left: 50%;z-index: 0;}#sk-container-id-3 div.sk-serial {display: flex;flex-direction: column;align-items: center;background-color: white;padding-right: 0.2em;padding-left: 0.2em;position: relative;}#sk-container-id-3 div.sk-item {position: relative;z-index: 1;}#sk-container-id-3 div.sk-parallel {display: flex;align-items: stretch;justify-content: center;background-color: white;position: relative;}#sk-container-id-3 div.sk-item::before, #sk-container-id-3 div.sk-parallel-item::before {content: \"\";position: absolute;border-left: 1px solid gray;box-sizing: border-box;top: 0;bottom: 0;left: 50%;z-index: -1;}#sk-container-id-3 div.sk-parallel-item {display: flex;flex-direction: column;z-index: 1;position: relative;background-color: white;}#sk-container-id-3 div.sk-parallel-item:first-child::after {align-self: flex-end;width: 50%;}#sk-container-id-3 div.sk-parallel-item:last-child::after {align-self: flex-start;width: 50%;}#sk-container-id-3 div.sk-parallel-item:only-child::after {width: 0;}#sk-container-id-3 div.sk-dashed-wrapped {border: 1px dashed gray;margin: 0 0.4em 0.5em 0.4em;box-sizing: border-box;padding-bottom: 0.4em;background-color: white;}#sk-container-id-3 div.sk-label label {font-family: monospace;font-weight: bold;display: inline-block;line-height: 1.2em;}#sk-container-id-3 div.sk-label-container {text-align: center;}#sk-container-id-3 div.sk-container {/* jupyter's `normalize.less` sets `[hidden] { display: none; }` but bootstrap.min.css set `[hidden] { display: none !important; }` so we also need the `!important` here to be able to override the default hidden behavior on the sphinx rendered scikit-learn.org. See: https://github.com/scikit-learn/scikit-learn/issues/21755 */display: inline-block !important;position: relative;}#sk-container-id-3 div.sk-text-repr-fallback {display: none;}</style><div id=\"sk-container-id-3\" class=\"sk-top-container\"><div class=\"sk-text-repr-fallback\"><pre>CountVectorizer()</pre><b>In a Jupyter environment, please rerun this cell to show the HTML representation or trust the notebook. <br />On GitHub, the HTML representation is unable to render, please try loading this page with nbviewer.org.</b></div><div class=\"sk-container\" hidden><div class=\"sk-item\"><div class=\"sk-estimator sk-toggleable\"><input class=\"sk-toggleable__control sk-hidden--visually\" id=\"sk-estimator-id-3\" type=\"checkbox\" checked><label for=\"sk-estimator-id-3\" class=\"sk-toggleable__label sk-toggleable__label-arrow\">CountVectorizer</label><div class=\"sk-toggleable__content\"><pre>CountVectorizer()</pre></div></div></div></div></div>"
            ]
          },
          "metadata": {},
          "execution_count": 349
        }
      ],
      "source": [
        "vect.fit(X_train)"
      ]
    },
    {
      "cell_type": "code",
      "execution_count": 350,
      "metadata": {
        "colab": {
          "base_uri": "https://localhost:8080/"
        },
        "id": "rQCn_CcIkv4M",
        "outputId": "a77de503-bbe0-4e10-bb71-d5b99c488528"
      },
      "outputs": [
        {
          "output_type": "execute_result",
          "data": {
            "text/plain": [
              "{'americanair': 290,\n",
              " 'also': 262,\n",
              " 'reservations': 6861,\n",
              " 'team': 8031,\n",
              " 'fault': 2855,\n",
              " 'bad': 637,\n",
              " 'top': 8305,\n",
              " 'decision': 1993,\n",
              " 'feel': 2882,\n",
              " 'social': 7554,\n",
              " 'media': 5104,\n",
              " 'unite': 8608,\n",
              " 'weight': 9010,\n",
              " 'restriction': 6887,\n",
              " 'try': 8425,\n",
              " 'get': 3306,\n",
              " 'many': 5007,\n",
              " 'plane': 6222,\n",
              " 'usairways': 8713,\n",
              " 'thank': 8100,\n",
              " 'worst': 9191,\n",
              " 'company': 1577,\n",
              " 'ever': 2699,\n",
              " 'please': 6244,\n",
              " 'fly': 3027,\n",
              " 'repeat': 6822,\n",
              " 'credit': 1807,\n",
              " 'delay': 2027,\n",
              " 'patient': 6054,\n",
              " 'let': 4698,\n",
              " 'string': 7794,\n",
              " 'tweet': 8467,\n",
              " 'show': 7376,\n",
              " 'people': 6108,\n",
              " 'busines': 1086,\n",
              " 'check': 1336,\n",
              " 'everyone': 2704,\n",
              " 'board': 903,\n",
              " 'pis': 6201,\n",
              " 'always': 272,\n",
              " 'good': 3401,\n",
              " 'follow': 3071,\n",
              " 'hope': 3766,\n",
              " 'last': 4614,\n",
              " 'speak': 7624,\n",
              " 'baggage': 654,\n",
              " 'sure': 7884,\n",
              " 'city': 1417,\n",
              " 'bag': 651,\n",
              " 'southwestair': 7603,\n",
              " 'twitter': 8474,\n",
              " 'say': 7165,\n",
              " 'someone': 7571,\n",
              " 'unles': 8632,\n",
              " 'jetblue': 4307,\n",
              " 'april': 426,\n",
              " 'anything': 380,\n",
              " 'specific': 7630,\n",
              " 'know': 4537,\n",
              " 'first': 2951,\n",
              " 'flight': 2989,\n",
              " 'cal': 1129,\n",
              " 'days': 1957,\n",
              " 'thru': 8190,\n",
              " 'secret': 7246,\n",
              " 'method': 5161,\n",
              " 'use': 8728,\n",
              " 'result': 6893,\n",
              " 'hang': 3562,\n",
              " 'customer': 1873,\n",
              " 'service': 7289,\n",
              " 'terrible': 8071,\n",
              " 'find': 2933,\n",
              " 'imagine': 3945,\n",
              " 'dragons': 2357,\n",
              " 'contest': 1686,\n",
              " 'cun': 1853,\n",
              " 'tomorrow': 8291,\n",
              " 'den': 2051,\n",
              " 'change': 1302,\n",
              " 'due': 2401,\n",
              " 'travel': 8364,\n",
              " 'advisory': 125,\n",
              " 'nashville': 5447,\n",
              " 'look': 4834,\n",
              " 'smf': 7512,\n",
              " 'jfk': 4332,\n",
              " 'one': 5833,\n",
              " 'plan': 6220,\n",
              " 'take': 7984,\n",
              " 'arizona': 450,\n",
              " 'http': 3830,\n",
              " 'finq': 2944,\n",
              " 'guest': 3512,\n",
              " 'need': 5487,\n",
              " 'reservation': 6860,\n",
              " 'happen': 3570,\n",
              " 'help': 3652,\n",
              " 'entire': 2602,\n",
              " 'crew': 1808,\n",
              " 'bos': 940,\n",
              " 'phl': 6165,\n",
              " 'wonderful': 9170,\n",
              " 'job': 4366,\n",
              " 'make': 4972,\n",
              " 'experience': 2768,\n",
              " 'totally': 8317,\n",
              " 'suck': 7834,\n",
              " 'time': 8224,\n",
              " 'cancel': 1152,\n",
              " 'flightled': 3000,\n",
              " 'hold': 3727,\n",
              " 'hours': 3806,\n",
              " 'book': 926,\n",
              " 'stl': 7753,\n",
              " 'today': 8274,\n",
              " 'online': 5845,\n",
              " 'resched': 6851,\n",
              " 'form': 3092,\n",
              " 'give': 3346,\n",
              " 'error': 2646,\n",
              " 'past': 6044,\n",
              " 'min': 5220,\n",
              " 'terribleservice': 8073,\n",
              " 'wonder': 9169,\n",
              " 'lowest': 4876,\n",
              " 'rat': 6647,\n",
              " 'airline': 181,\n",
              " 'america': 288,\n",
              " 'shameful': 7324,\n",
              " 'minutes': 5235,\n",
              " 'want': 8950,\n",
              " 'stil': 7745,\n",
              " 'queue': 6591,\n",
              " 'marvinatorsb': 5036,\n",
              " 'thnk': 8166,\n",
              " 'response': 6875,\n",
              " 'ful': 3206,\n",
              " 'could': 1751,\n",
              " 'tmrw': 8263,\n",
              " 'respond': 6874,\n",
              " 'info': 4055,\n",
              " 'different': 2150,\n",
              " 'line': 4755,\n",
              " 'tel': 8048,\n",
              " 'tough': 8321,\n",
              " 'break': 979,\n",
              " 'unacceptable': 8532,\n",
              " 'even': 2690,\n",
              " 'think': 8157,\n",
              " 'rough': 7026,\n",
              " 'moment': 5302,\n",
              " 'passenger': 6037,\n",
              " 'earlier': 2436,\n",
              " 'things': 8154,\n",
              " 'considerably': 1656,\n",
              " 'better': 802,\n",
              " 'hour': 3804,\n",
              " 'double': 2330,\n",
              " 'seat': 7235,\n",
              " 'nit': 5580,\n",
              " 'park': 6018,\n",
              " 'wrong': 9222,\n",
              " 'gate': 3265,\n",
              " 'incompetence': 4004,\n",
              " 'finest': 2938,\n",
              " 'wait': 8922,\n",
              " 'humor': 3847,\n",
              " 'aside': 481,\n",
              " 'stick': 7742,\n",
              " 'two': 8477,\n",
              " 'load': 4791,\n",
              " 'correctly': 1734,\n",
              " 'charge': 1312,\n",
              " 'end': 2574,\n",
              " 'continue': 1693,\n",
              " 'amaze': 280,\n",
              " 'swa': 7912,\n",
              " 'daughters': 1947,\n",
              " 'party': 6031,\n",
              " 'proj': 6466,\n",
              " 'weather': 8991,\n",
              " 'cond': 1620,\n",
              " 'promise': 6471,\n",
              " 'assist': 498,\n",
              " 'flts': 3022,\n",
              " 'cmh': 1482,\n",
              " 'absolute': 29,\n",
              " 'women': 9168,\n",
              " 'inconvenience': 4011,\n",
              " 'maintenance': 4967,\n",
              " 'issue': 4203,\n",
              " 'care': 1182,\n",
              " 'mis': 5240,\n",
              " 'goodbye': 3402,\n",
              " 'friend': 3159,\n",
              " 'cause': 1230,\n",
              " 'crappy': 1796,\n",
              " 'swear': 7923,\n",
              " 'never': 5516,\n",
              " 'hear': 3628,\n",
              " 'americanairlines': 292,\n",
              " 'best': 789,\n",
              " 'flyfi': 3035,\n",
              " 'ondemand': 5832,\n",
              " 'leatherseats': 4668,\n",
              " 'hipunis': 3706,\n",
              " 'legroom': 4683,\n",
              " 'daughter': 1946,\n",
              " 'college': 1524,\n",
              " 'game': 3254,\n",
              " 'denver': 2055,\n",
              " 'set': 7293,\n",
              " 'parent': 6014,\n",
              " 'reps': 6837,\n",
              " 'poor': 6287,\n",
              " 'communications': 1571,\n",
              " 'sit': 7434,\n",
              " 'philly': 6161,\n",
              " 'train': 8344,\n",
              " 'staf': 7686,\n",
              " 'phone': 6171,\n",
              " 'send': 7269,\n",
              " 'maybe': 5060,\n",
              " 'bank': 681,\n",
              " 'misplace': 5255,\n",
              " 'another': 360,\n",
              " 'back': 628,\n",
              " 'cant': 1160,\n",
              " 'anyone': 378,\n",
              " 'award': 599,\n",
              " 'purchase': 6531,\n",
              " 'extra': 2785,\n",
              " 'miles': 5212,\n",
              " 'late': 4621,\n",
              " 'flightr': 3007,\n",
              " 'raise': 6627,\n",
              " 'unable': 8531,\n",
              " 'dca': 1967,\n",
              " 'reschedule': 6852,\n",
              " 'update': 8686,\n",
              " 'lose': 4843,\n",
              " 'voucher': 8893,\n",
              " 'miami': 5181,\n",
              " 'aeroport': 127,\n",
              " 'jan': 4258,\n",
              " 'pamgrout': 6001,\n",
              " 'positive': 6309,\n",
              " 'thoughts': 8173,\n",
              " 'cool': 1718,\n",
              " 'etc': 2673,\n",
              " 'lie': 4727,\n",
              " 'deceive': 1987,\n",
              " 'passengers': 6039,\n",
              " 'keep': 4462,\n",
              " 'reprehensible': 6833,\n",
              " 'yousuck': 9361,\n",
              " 'virginamerica': 8863,\n",
              " 'fail': 2812,\n",
              " 'customers': 1876,\n",
              " 'proces': 6450,\n",
              " 'link': 4757,\n",
              " 'tsa': 8430,\n",
              " 'pre': 6351,\n",
              " 'believe': 767,\n",
              " 'cae': 1122,\n",
              " 'reflight': 6750,\n",
              " 'problems': 6444,\n",
              " 'next': 5546,\n",
              " 'possibly': 6316,\n",
              " 'dal': 1917,\n",
              " 'status': 7720,\n",
              " 'weeks': 9007,\n",
              " 'amp': 311,\n",
              " 'dickheads': 2141,\n",
              " 'contact': 1675,\n",
              " 'carryon': 1204,\n",
              " 'offer': 5785,\n",
              " 'pay': 6070,\n",
              " 'real': 6680,\n",
              " 'food': 3074,\n",
              " 'american': 289,\n",
              " 'club': 1474,\n",
              " 'like': 4742,\n",
              " 'heathrow': 3634,\n",
              " 'consolation': 1662,\n",
              " 'somewhere': 7576,\n",
              " 'else': 2530,\n",
              " 'impediment': 3960,\n",
              " 'vacation': 8762,\n",
              " 'tuesday': 8447,\n",
              " 'ask': 482,\n",
              " 'houston': 3808,\n",
              " 'instead': 4094,\n",
              " 'austin': 566,\n",
              " 'dig': 2154,\n",
              " 'new': 5528,\n",
              " 'mileage': 5208,\n",
              " 'earn': 2441,\n",
              " 'would': 9206,\n",
              " 'ticket': 8205,\n",
              " 'price': 6411,\n",
              " 'quick': 6593,\n",
              " 'runway': 7069,\n",
              " 'clockwork': 1459,\n",
              " 'scareways': 7179,\n",
              " 'neverfails': 5519,\n",
              " 'aumilo': 558,\n",
              " 'yesterday': 9333,\n",
              " 'point': 6271,\n",
              " 'destination': 2097,\n",
              " 'itinerary': 4218,\n",
              " 'request': 6843,\n",
              " 'red': 6729,\n",
              " 'mean': 5089,\n",
              " 'mobile': 5290,\n",
              " 'apps': 423,\n",
              " 'construction': 1667,\n",
              " 'grind': 3481,\n",
              " 'category': 1220,\n",
              " 'expensive': 2766,\n",
              " 'right': 6948,\n",
              " 'roundtrip': 7028,\n",
              " 'begin': 758,\n",
              " 'hey': 3675,\n",
              " 'tonight': 8297,\n",
              " 'mia': 5180,\n",
              " 'ewr': 2718,\n",
              " 'great': 3461,\n",
              " 'clarence': 1425,\n",
              " 'frank': 3120,\n",
              " 'guy': 3526,\n",
              " 'hoot': 3764,\n",
              " 'complete': 1600,\n",
              " 'horror': 3785,\n",
              " 'bump': 1066,\n",
              " 'thre': 8178,\n",
              " 'noon': 5646,\n",
              " 'run': 7064,\n",
              " 'cantblametheweather': 1161,\n",
              " 'stop': 7763,\n",
              " 'wel': 9012,\n",
              " 'deserve': 2080,\n",
              " 'flt': 3021,\n",
              " 'wife': 9103,\n",
              " 'old': 5817,\n",
              " 'catch': 1219,\n",
              " 'aircanada': 175,\n",
              " 'yyz': 9391,\n",
              " 'customerservice': 1877,\n",
              " 'dead': 1973,\n",
              " 'remember': 6802,\n",
              " 'doubtful': 2333,\n",
              " 'hopeful': 3767,\n",
              " 'black': 851,\n",
              " 'hole': 3733,\n",
              " 'system': 7962,\n",
              " 'dfw': 2123,\n",
              " 'agent': 146,\n",
              " 'connections': 1648,\n",
              " 'stahp': 7693,\n",
              " 'fleet': 2979,\n",
              " 'fleek': 2978,\n",
              " 'unraoni': 8652,\n",
              " 'yes': 9330,\n",
              " 'dale': 1918,\n",
              " 'office': 5786,\n",
              " 'page': 5991,\n",
              " 'airlines': 187,\n",
              " 'erickofiejones': 2641,\n",
              " 'long': 4828,\n",
              " 'bil': 825,\n",
              " 'cycle': 1903,\n",
              " 'love': 4861,\n",
              " 'home': 3742,\n",
              " 'pvd': 6538,\n",
              " 'weekend': 9004,\n",
              " 'nmjymgh': 5592,\n",
              " 'far': 2839,\n",
              " 'longer': 4832,\n",
              " 'abcnetwork': 16,\n",
              " 'oscars': 5912,\n",
              " 'coverage': 1774,\n",
              " 'whatcustomerservice': 9049,\n",
              " 'repair': 6820,\n",
              " 'water': 8973,\n",
              " 'potable': 6321,\n",
              " 'soon': 7582,\n",
              " 'mci': 5074,\n",
              " 'faithful': 2823,\n",
              " 'upon': 8694,\n",
              " 'sale': 7109,\n",
              " 'include': 3999,\n",
              " 'btv': 1037,\n",
              " 'usual': 8737,\n",
              " 'jetbluehatesbtv': 4315,\n",
              " 'bwi': 1104,\n",
              " 'sjd': 7445,\n",
              " 'seasonal': 7234,\n",
              " 'part': 6020,\n",
              " 'extension': 2781,\n",
              " 'intl': 4140,\n",
              " 'desk': 2087,\n",
              " 'sept': 7279,\n",
              " 'saw': 7163,\n",
              " 'useles': 8731,\n",
              " 'agents': 147,\n",
              " 'inspect': 4086,\n",
              " 'shoe': 7358,\n",
              " 'kind': 4505,\n",
              " 'screw': 7215,\n",
              " 'day': 1953,\n",
              " 'least': 4665,\n",
              " 'outbound': 5928,\n",
              " 'save': 7155,\n",
              " 'strand': 7775,\n",
              " 'renhotels': 6811,\n",
              " 'marriottrewards': 5030,\n",
              " 'brother': 1021,\n",
              " 'family': 2832,\n",
              " 'clt': 1471,\n",
              " 'drive': 2372,\n",
              " 'talk': 7993,\n",
              " 'prepare': 6387,\n",
              " 'situations': 7440,\n",
              " 'mad': 4945,\n",
              " 'pas': 6032,\n",
              " 'disappear': 2181,\n",
              " 'stand': 7696,\n",
              " 'second': 7243,\n",
              " 'week': 9003,\n",
              " 'rock': 7008,\n",
              " 'reply': 6828,\n",
              " 'rebooked': 6699,\n",
              " 'nightmare': 5573,\n",
              " 'platinum': 6231,\n",
              " 'member': 5134,\n",
              " 'worthles': 9204,\n",
              " 'bagage': 652,\n",
              " 'cabin': 1117,\n",
              " 'dont': 2312,\n",
              " 'correct': 1733,\n",
              " 'appreciate': 413,\n",
              " 'trouble': 8405,\n",
              " 'lack': 4584,\n",
              " 'personal': 6132,\n",
              " 'whole': 9084,\n",
              " 'hop': 3765,\n",
              " 'luck': 4902,\n",
              " 'return': 6910,\n",
              " 'sunday': 7855,\n",
              " 'little': 4767,\n",
              " 'ago': 154,\n",
              " 'ignore': 3921,\n",
              " 'cantlogoutofunitedwifi': 1162,\n",
              " 'evennotified': 2694,\n",
              " 'theflight': 8123,\n",
              " 'isdelayed': 4190,\n",
              " 'via': 8834,\n",
              " 'email': 2533,\n",
              " 'text': 8083,\n",
              " 'wererunning': 9025,\n",
              " 'unreliable': 8656,\n",
              " 'suppose': 7876,\n",
              " 'fresno': 3150,\n",
              " 'pittsburgh': 6207,\n",
              " 'since': 7419,\n",
              " 'flgt': 2984,\n",
              " 'msy': 5378,\n",
              " 'mins': 5230,\n",
              " 'disappoint': 2182,\n",
              " 'kindnes': 4510,\n",
              " 'toward': 8327,\n",
              " 'person': 6130,\n",
              " 'counterparts': 1755,\n",
              " 'tarmac': 8006,\n",
              " 'ohare': 5795,\n",
              " 'ride': 6944,\n",
              " 'flypdx': 3047,\n",
              " 'helpimstuck': 3657,\n",
              " 'cincinnati': 1404,\n",
              " 'though': 8171,\n",
              " 'exactly': 2723,\n",
              " 'row': 7034,\n",
              " 'neither': 5502,\n",
              " 'explain': 2771,\n",
              " 'thing': 8152,\n",
              " 'apology': 393,\n",
              " 'deliver': 2039,\n",
              " 'nyc': 5740,\n",
              " 'night': 5572,\n",
              " 'thurs': 8196,\n",
              " 'yet': 9334,\n",
              " 'cut': 1888,\n",
              " 'put': 6536,\n",
              " 'champagne': 1299,\n",
              " 'ord': 5887,\n",
              " 'nrt': 5713,\n",
              " 'celebrate': 1261,\n",
              " 'tokyomarathon': 8285,\n",
              " 'finish': 2941,\n",
              " 'tkx': 8255,\n",
              " 'folks': 3070,\n",
              " 'matter': 5050,\n",
              " 'really': 6686,\n",
              " 'hate': 3597,\n",
              " 'complain': 1595,\n",
              " 'brutal': 1030,\n",
              " 'picture': 6185,\n",
              " 'wing': 9124,\n",
              " 'site': 7435,\n",
              " 'agfd': 148,\n",
              " 'chkin': 1373,\n",
              " 'emp': 2555,\n",
              " 'cust': 1871,\n",
              " 'supervisor': 7871,\n",
              " 'mtg': 5379,\n",
              " 'awesome': 604,\n",
              " 'morning': 5335,\n",
              " 'land': 4599,\n",
              " 'early': 2438,\n",
              " 'sittin': 7437,\n",
              " 'inconvience': 4014,\n",
              " 'depart': 2061,\n",
              " 'boston': 942,\n",
              " 'heavily': 3639,\n",
              " 'incur': 4021,\n",
              " 'approximately': 422,\n",
              " 'dollars': 2301,\n",
              " 'members': 5135,\n",
              " 'neveragain': 5517,\n",
              " 'leave': 4669,\n",
              " 'newark': 5532,\n",
              " 'rent': 6814,\n",
              " 'car': 1178,\n",
              " 'without': 9145,\n",
              " 'answer': 363,\n",
              " 'callback': 1135,\n",
              " 'concern': 1616,\n",
              " 'smh': 7514,\n",
              " 'refund': 6755,\n",
              " 'fre': 3128,\n",
              " 'room': 7024,\n",
              " 'sleep': 7480,\n",
              " 'dia': 2131,\n",
              " 'seem': 7253,\n",
              " 'preoccupy': 6385,\n",
              " 'bring': 1003,\n",
              " 'attention': 534,\n",
              " 'flag': 2967,\n",
              " 'observer': 5766,\n",
              " 'basically': 703,\n",
              " 'hawai': 3603,\n",
              " 'midnight': 5194,\n",
              " 'monday': 5308,\n",
              " 'trip': 8396,\n",
              " 'tues': 8446,\n",
              " 'apologies': 390,\n",
              " 'worse': 9190,\n",
              " 'cudtomers': 1849,\n",
              " 'frustrate': 3185,\n",
              " 'waste': 8967,\n",
              " 'equipment': 2636,\n",
              " 'failures': 2815,\n",
              " 'dallas': 1919,\n",
              " 'okc': 5808,\n",
              " 'idea': 3899,\n",
              " 'much': 5386,\n",
              " 'nice': 5561,\n",
              " 'whisper': 9079,\n",
              " 'hotel': 3794,\n",
              " 'probably': 6441,\n",
              " 'work': 9178,\n",
              " 'hdsportsguy': 3618,\n",
              " 'clothe': 1467,\n",
              " 'meet': 5116,\n",
              " 'town': 8330,\n",
              " 'fare': 2841,\n",
              " 'way': 8978,\n",
              " 'restr': 6886,\n",
              " 'xrdtov': 9291,\n",
              " 'byackc': 1106,\n",
              " 'jenniferdawnpro': 4297,\n",
              " 'truly': 8419,\n",
              " 'drink': 2370,\n",
              " 'uncle': 8554,\n",
              " 'overhead': 5953,\n",
              " 'reserve': 6862,\n",
              " 'aisle': 206,\n",
              " 'cdzhtyd': 1254,\n",
              " 'glassdoor': 3360,\n",
              " 'place': 6216,\n",
              " 'snag': 7532,\n",
              " 'overal': 5945,\n",
              " 'notsurprising': 5698,\n",
              " 'luvthem': 4923,\n",
              " 'suggestion': 7842,\n",
              " 'rep': 6818,\n",
              " 'checkin': 1337,\n",
              " 'deal': 1976,\n",
              " 'attendant': 529,\n",
              " 'argue': 448,\n",
              " 'exec': 2745,\n",
              " 'plat': 6229,\n",
              " 'benefit': 778,\n",
              " 'dunno': 2415,\n",
              " 'information': 4058,\n",
              " 'schedule': 7192,\n",
              " 'relate': 6782,\n",
              " 'flightd': 2994,\n",
              " 'announce': 353,\n",
              " 'nonstop': 5640,\n",
              " 'connect': 1644,\n",
              " 'austinairport': 567,\n",
              " 'dallaslovefield': 1921,\n",
              " 'intro': 4143,\n",
              " 'qxnoaqtyn': 6607,\n",
              " 'qmdfqgf': 6569,\n",
              " 'americanisbetter': 296,\n",
              " 'arrival': 460,\n",
              " 'ual': 8494,\n",
              " 'come': 1543,\n",
              " 'cost': 1742,\n",
              " 'pretty': 6400,\n",
              " 'actually': 85,\n",
              " 'vuxf': 8911,\n",
              " 'unu': 8675,\n",
              " 'sna': 7529,\n",
              " 'sfo': 7310,\n",
              " 'south': 7599,\n",
              " 'southwest': 7602,\n",
              " 'sjc': 7444,\n",
              " 'tiday': 8207,\n",
              " 'kjkuvj': 4520,\n",
              " 'cmo': 1484,\n",
              " 'hrs': 3823,\n",
              " 'achieve': 68,\n",
              " 'year': 9320,\n",
              " 'profitability': 6460,\n",
              " 'despite': 2094,\n",
              " 'revenue': 6919,\n",
              " 'pressure': 6396,\n",
              " 'capa': 1165,\n",
              " 'aviation': 590,\n",
              " 'zsuztnaijq': 9432,\n",
              " 'ontario': 5851,\n",
              " 'acces': 44,\n",
              " 'airport': 193,\n",
              " 'taxi': 8014,\n",
              " 'shuttle': 7389,\n",
              " 'snow': 7539,\n",
              " 'removal': 6808,\n",
              " 'cessna': 1278,\n",
              " 'become': 749,\n",
              " 'pofsxojsy': 6270,\n",
              " 'faulty': 2856,\n",
              " 'engine': 2584,\n",
              " 'light': 4737,\n",
              " 'worstairlineinamerica': 9194,\n",
              " 'sorry': 7585,\n",
              " 'destinationdragons': 2098,\n",
              " 'imaginedragons': 3946,\n",
              " 'utah': 8742,\n",
              " 'velourlive': 8808,\n",
              " 'hard': 3582,\n",
              " 'sort': 7587,\n",
              " 'fine': 2937,\n",
              " 'arrive': 462,\n",
              " 'largest': 4608,\n",
              " 'carry': 1203,\n",
              " 'bible': 815,\n",
              " 'anamarketers': 322,\n",
              " 'packermama': 5988,\n",
              " 'something': 7572,\n",
              " 'emeyerson': 2549,\n",
              " 'ggreenwald': 3327,\n",
              " 'walmart': 8942,\n",
              " 'ing': 4061,\n",
              " 'kid': 4496,\n",
              " 'listen': 4763,\n",
              " 'yal': 9308,\n",
              " 'sel': 7259,\n",
              " 'loan': 4792,\n",
              " 'valentine': 8768,\n",
              " 'flower': 3020,\n",
              " 'smfh': 7513,\n",
              " 'welcome': 9013,\n",
              " 'nearly': 5483,\n",
              " 'swagglikebean': 7916,\n",
              " 'possible': 6315,\n",
              " 'upgrade': 8689,\n",
              " 'mint': 5231,\n",
              " 'already': 258,\n",
              " 'luggage': 4908,\n",
              " 'unbelievable': 8548,\n",
              " 'wallet': 8940,\n",
              " 'money': 5310,\n",
              " 'eat': 2452,\n",
              " 'representatives': 6836,\n",
              " 'unitedsucks': 8623,\n",
              " 'princesses': 6420,\n",
              " 'glasslipperchallenge': 3361,\n",
              " 'wdw': 8985,\n",
              " 'cmon': 1485,\n",
              " 'airways': 204,\n",
              " 'seriously': 7285,\n",
              " 'strangers': 7781,\n",
              " 'share': 7329,\n",
              " 'visible': 8868,\n",
              " 'years': 9322,\n",
              " 'guarante': 3506,\n",
              " 'fight': 2917,\n",
              " 'buffalo': 1053,\n",
              " 'figure': 2918,\n",
              " 'temperature': 8056,\n",
              " 'tower': 8329,\n",
              " 'flightlations': 2999,\n",
              " 'mechanical': 5099,\n",
              " 'transfer': 8351,\n",
              " 'compensation': 1587,\n",
              " 'chance': 1301,\n",
              " 'boy': 956,\n",
              " 'horrible': 3778,\n",
              " 'notice': 5687,\n",
              " 'route': 7031,\n",
              " 'caterobbie': 1222,\n",
              " 'tech': 8037,\n",
              " 'clean': 1441,\n",
              " 'smal': 7503,\n",
              " 'patience': 6051,\n",
              " 'acceptable': 43,\n",
              " 'psuejdc': 6507,\n",
              " 'understand': 8572,\n",
              " 'monitor': 5314,\n",
              " 'current': 1861,\n",
              " 'condition': 1623,\n",
              " 'hence': 3664,\n",
              " 'submit': 7822,\n",
              " 'reimbursement': 6775,\n",
              " 'stay': 7722,\n",
              " 'dominican': 2303,\n",
              " 'spend': 7638,\n",
              " 'hundreds': 3850,\n",
              " 'rectify': 6726,\n",
              " 'situation': 7439,\n",
              " 'quiet': 6597,\n",
              " 'hilarious': 3700,\n",
              " 'usair': 8709,\n",
              " 'metal': 5160,\n",
              " 'space': 7614,\n",
              " 'open': 5861,\n",
              " 'hand': 3553,\n",
              " 'select': 7260,\n",
              " 'gues': 3509,\n",
              " 'confirm': 1632,\n",
              " 'yzh': 9394,\n",
              " 'zrqm': 9429,\n",
              " 'hel': 3647,\n",
              " 'petty': 6143,\n",
              " 'may': 5059,\n",
              " 'nothing': 5685,\n",
              " 'foxnews': 3112,\n",
              " 'msnbc': 5376,\n",
              " 'around': 455,\n",
              " 'world': 9185,\n",
              " 'number': 5723,\n",
              " 'rebook': 6698,\n",
              " 'win': 9116,\n",
              " 'website': 8998,\n",
              " 'isnt': 4200,\n",
              " 'roads': 6985,\n",
              " 'awful': 606,\n",
              " 'busy': 1092,\n",
              " 'kpyhcka': 4547,\n",
              " 'realize': 6685,\n",
              " 'ban': 676,\n",
              " 'peanuts': 6088,\n",
              " 'allergic': 241,\n",
              " 'nut': 5728,\n",
              " 'oil': 5803,\n",
              " 'dust': 2418,\n",
              " 'previous': 6408,\n",
              " 'door': 2321,\n",
              " 'malfunction': 4982,\n",
              " 'together': 8279,\n",
              " 'desire': 2085,\n",
              " 'handle': 3558,\n",
              " 'les': 4695,\n",
              " 'newest': 5535,\n",
              " 'ftlzwtvo': 3192,\n",
              " 'behind': 762,\n",
              " 'beyond': 805,\n",
              " 'integrate': 4106,\n",
              " 'passbook': 6036,\n",
              " 'ios': 4163,\n",
              " 'appal': 396,\n",
              " 'departure': 2063,\n",
              " 'mes': 5158,\n",
              " 'alone': 255,\n",
              " 'sick': 7394,\n",
              " 'head': 3619,\n",
              " 'faves': 2860,\n",
              " 'lol': 4819,\n",
              " 'maintain': 4966,\n",
              " 'camera': 1141,\n",
              " 'dultch': 2409,\n",
              " 'horse': 3786,\n",
              " 'radish': 6618,\n",
              " 'tryin': 8426,\n",
              " 'lax': 4642,\n",
              " 'area': 441,\n",
              " 'excite': 2737,\n",
              " 'pls': 6258,\n",
              " 'direct': 2168,\n",
              " 'rout': 7030,\n",
              " 'las': 4612,\n",
              " 'aus': 563,\n",
              " 'michaelbcoleman': 5185,\n",
              " 'san': 7122,\n",
              " 'francisco': 3119,\n",
              " 'enough': 2590,\n",
              " 'okay': 5807,\n",
              " 'wake': 8934,\n",
              " 'lounge': 4858,\n",
              " 'airnzusa': 189,\n",
              " 'hjucp': 3715,\n",
              " 'congrats': 1640,\n",
              " 'bqonpa': 964,\n",
              " 'pos': 6307,\n",
              " 'atl': 520,\n",
              " 'hello': 3650,\n",
              " 'register': 6763,\n",
              " 'paris': 6016,\n",
              " 'vegas': 8803,\n",
              " 'feature': 2869,\n",
              " 'currently': 1862,\n",
              " 'unavailable': 8543,\n",
              " 'appear': 400,\n",
              " 'ceo': 1273,\n",
              " 'seek': 7252,\n",
              " 'balance': 670,\n",
              " 'wal': 8936,\n",
              " 'daily': 1914,\n",
              " 'journal': 4383,\n",
              " 'mtmsp': 5382,\n",
              " 'public': 6515,\n",
              " 'transit': 8353,\n",
              " 'cab': 1114,\n",
              " 'flightations': 2991,\n",
              " 'flightst': 3009,\n",
              " 'reason': 6691,\n",
              " 'mandatory': 4998,\n",
              " 'mexico': 5165,\n",
              " 'forget': 3090,\n",
              " 'question': 6590,\n",
              " 'chs': 1398,\n",
              " 'germany': 3301,\n",
              " 'read': 6673,\n",
              " 'program': 6463,\n",
              " 'hot': 3793,\n",
              " 'tea': 8029,\n",
              " 'crewmembers': 1811,\n",
              " 'notch': 5674,\n",
              " 'ragncw': 6625,\n",
              " 'christmas': 1393,\n",
              " 'vacatin': 8761,\n",
              " 'december': 1988,\n",
              " 'ways': 8980,\n",
              " 'devalue': 2110,\n",
              " 'plus': 6261,\n",
              " 'dog': 2295,\n",
              " 'representative': 6835,\n",
              " 'boot': 933,\n",
              " 'helpline': 3659,\n",
              " 'safety': 7097,\n",
              " 'might': 5199,\n",
              " 'priority': 6429,\n",
              " 'organization': 5895,\n",
              " 'clearly': 1444,\n",
              " 'detail': 2101,\n",
              " 'almost': 254,\n",
              " 'month': 5322,\n",
              " 'haha': 3539,\n",
              " 'explanation': 2772,\n",
              " 'vincenzolandino': 8851,\n",
              " 'eigajyzcw': 2498,\n",
              " 'predict': 6364,\n",
              " 'partner': 6027,\n",
              " 'visa': 8867,\n",
              " 'checkout': 1338,\n",
              " 'payment': 6071,\n",
              " 'boost': 931,\n",
              " 'conversion': 1708,\n",
              " 'etailwest': 2672,\n",
              " 'payments': 6072,\n",
              " 'absolutely': 30,\n",
              " 'term': 8065,\n",
              " 'insult': 4102,\n",
              " 'nlip': 5589,\n",
              " 'vdi': 8796,\n",
              " 'wqsf': 9214,\n",
              " 'ones': 5836,\n",
              " 'super': 7865,\n",
              " 'actual': 84,\n",
              " 'fliers': 2988,\n",
              " 'card': 1180,\n",
              " 'holders': 3729,\n",
              " 'battle': 713,\n",
              " 'appease': 401,\n",
              " 'street': 7785,\n",
              " 'waterbury': 8974,\n",
              " 'republican': 6839,\n",
              " 'afternoon': 141,\n",
              " 'huge': 3838,\n",
              " 'amt': 314,\n",
              " 'incoming': 4003,\n",
              " 'hyrao': 3880,\n",
              " 'clear': 1443,\n",
              " 'int': 4104,\n",
              " 'intentionally': 4115,\n",
              " 'rude': 7053,\n",
              " 'unsuitable': 8667,\n",
              " 'nicest': 5564,\n",
              " 'multiple': 5395,\n",
              " 'pleasant': 6242,\n",
              " 'record': 6719,\n",
              " 'attempt': 527,\n",
              " 'amount': 310,\n",
              " 'bal': 669,\n",
              " 'pen': 6101,\n",
              " 'collection': 1522,\n",
              " 'automate': 575,\n",
              " 'finally': 2930,\n",
              " 'message': 5159,\n",
              " 'legal': 4676,\n",
              " 'advertise': 120,\n",
              " 'honor': 3756,\n",
              " 'hire': 3707,\n",
              " 'dispatcher': 2223,\n",
              " 'chicago': 1354,\n",
              " 'network': 5512,\n",
              " 'operations': 5866,\n",
              " 'centerl': 1267,\n",
              " 'lio': 4758,\n",
              " 'ocpteq': 5773,\n",
              " 'connectors': 1650,\n",
              " 'worstairlineever': 9193,\n",
              " 'wifi': 9105,\n",
              " 'allow': 247,\n",
              " 'syracuse': 7960,\n",
              " 'charlotte': 1320,\n",
              " 'mite': 5271,\n",
              " 'problem': 6442,\n",
              " 'recently': 6707,\n",
              " 'bug': 1055,\n",
              " 'bite': 843,\n",
              " 'mites': 5272,\n",
              " 'employe': 2562,\n",
              " 'name': 5434,\n",
              " 'van': 8779,\n",
              " 'counter': 1754,\n",
              " 'philadelphia': 6159,\n",
              " 'extremely': 2790,\n",
              " 'father': 2854,\n",
              " 'stressful': 7789,\n",
              " 'madhouse': 4948,\n",
              " 'lot': 4850,\n",
              " 'angry': 340,\n",
              " 'yikes': 9338,\n",
              " 'normally': 5659,\n",
              " 'flyers': 3034,\n",
              " 'provide': 6494,\n",
              " 'feedback': 2881,\n",
              " 'relax': 6788,\n",
              " 'global': 3365,\n",
              " 'lrf': 4886,\n",
              " 'dtlguq': 2388,\n",
              " 'kak': 4431,\n",
              " 'encounter': 2571,\n",
              " 'flat': 2971,\n",
              " 'shal': 7320,\n",
              " 'couple': 1760,\n",
              " 'hvfqb': 3870,\n",
              " 'ihop': 3926,\n",
              " 'start': 7708,\n",
              " 'moodlighting': 5329,\n",
              " 'calm': 1139,\n",
              " 'moodlitmonday': 5330,\n",
              " 'freeze': 3141,\n",
              " 'bus': 1083,\n",
              " 'nobody': 5600,\n",
              " 'interest': 4120,\n",
              " 'greenville': 3472,\n",
              " 'suggestions': 7843,\n",
              " 'gfc': 3325,\n",
              " 'mkpognntyc': 5277,\n",
              " 'charleston': 1318,\n",
              " 'country': 1758,\n",
              " 'swis': 7938,\n",
              " 'air': 171,\n",
              " ...}"
            ]
          },
          "metadata": {},
          "execution_count": 350
        }
      ],
      "source": [
        "# printing the vocabulary\n",
        "vect.vocabulary_"
      ]
    },
    {
      "cell_type": "code",
      "execution_count": 351,
      "metadata": {
        "colab": {
          "base_uri": "https://localhost:8080/"
        },
        "id": "DO7dohAzkv4M",
        "outputId": "15fe6fdc-d5f0-43fd-a010-a0015b335f91"
      },
      "outputs": [
        {
          "output_type": "execute_result",
          "data": {
            "text/plain": [
              "9445"
            ]
          },
          "metadata": {},
          "execution_count": 351
        }
      ],
      "source": [
        "# vocab size\n",
        "len(vect.vocabulary_.keys())"
      ]
    },
    {
      "cell_type": "code",
      "execution_count": 352,
      "metadata": {
        "id": "93XVR86Ukv4M"
      },
      "outputs": [],
      "source": [
        "# transforming the train and test datasets\n",
        "X_train_transformed = vect.transform(X_train)\n",
        "X_test_transformed = vect.transform(X_test)"
      ]
    },
    {
      "cell_type": "code",
      "execution_count": 353,
      "metadata": {
        "colab": {
          "base_uri": "https://localhost:8080/"
        },
        "id": "TghZAQtKkv4N",
        "outputId": "dbd949af-b683-45f8-9e82-1d4fb950cac1"
      },
      "outputs": [
        {
          "output_type": "stream",
          "name": "stdout",
          "text": [
            "<class 'scipy.sparse._csr.csr_matrix'>\n",
            "  (0, 262)\t1\n",
            "  (0, 290)\t1\n",
            "  (0, 637)\t2\n",
            "  (0, 1993)\t1\n",
            "  (0, 2855)\t1\n",
            "  (0, 2882)\t1\n",
            "  (0, 5104)\t1\n",
            "  (0, 6861)\t2\n",
            "  (0, 7554)\t1\n",
            "  (0, 8031)\t2\n",
            "  (0, 8305)\t1\n",
            "  (1, 3306)\t1\n",
            "  (1, 5007)\t1\n",
            "  (1, 6222)\t1\n",
            "  (1, 6887)\t1\n",
            "  (1, 8425)\t1\n",
            "  (1, 8608)\t1\n",
            "  (1, 9010)\t1\n",
            "  (2, 8100)\t1\n",
            "  (2, 8713)\t1\n",
            "  (3, 290)\t1\n",
            "  (3, 1577)\t1\n",
            "  (3, 1807)\t1\n",
            "  (3, 2027)\t1\n",
            "  (3, 2699)\t1\n",
            "  :\t:\n",
            "  (10923, 3228)\t1\n",
            "  (10923, 5220)\t1\n",
            "  (10923, 5880)\t1\n",
            "  (10923, 6718)\t1\n",
            "  (10923, 7638)\t1\n",
            "  (10923, 8006)\t1\n",
            "  (10923, 8224)\t1\n",
            "  (10924, 1041)\t1\n",
            "  (10924, 2370)\t1\n",
            "  (10924, 2690)\t1\n",
            "  (10924, 2989)\t1\n",
            "  (10924, 3106)\t1\n",
            "  (10924, 3306)\t1\n",
            "  (10924, 3742)\t1\n",
            "  (10924, 4834)\t1\n",
            "  (10924, 5199)\t1\n",
            "  (10924, 5912)\t1\n",
            "  (10924, 7572)\t1\n",
            "  (10924, 8291)\t1\n",
            "  (10924, 8863)\t1\n",
            "  (10924, 8972)\t1\n",
            "  (10925, 290)\t1\n",
            "  (10925, 4560)\t1\n",
            "  (10925, 5089)\t1\n",
            "  (10925, 6860)\t1\n"
          ]
        }
      ],
      "source": [
        "# note that the type is transformed (sparse) matrix\n",
        "print(type(X_train_transformed))\n",
        "print(X_train_transformed)"
      ]
    },
    {
      "cell_type": "markdown",
      "metadata": {
        "id": "EnojTx2Ykv4N"
      },
      "source": [
        "##  Building and Evaluating the Model"
      ]
    },
    {
      "cell_type": "code",
      "execution_count": 354,
      "metadata": {
        "id": "ewUyQNgTkv4N"
      },
      "outputs": [],
      "source": [
        "# training the NB model and making predictions\n",
        "from sklearn.naive_bayes import MultinomialNB\n",
        "mnb = MultinomialNB()\n",
        "\n",
        "# fit\n",
        "mnb.fit(X_train_transformed,y_train)\n",
        "\n",
        "# predict class\n",
        "y_pred_class = mnb.predict(X_test_transformed)\n",
        "\n",
        "# predict probabilities\n",
        "y_pred_proba = mnb.predict_proba(X_test_transformed)\n"
      ]
    },
    {
      "cell_type": "code",
      "execution_count": 355,
      "metadata": {
        "colab": {
          "base_uri": "https://localhost:8080/"
        },
        "id": "tC-pLO5kkv4O",
        "outputId": "85c32c66-98d8-4057-bc30-b0af5e6784d7"
      },
      "outputs": [
        {
          "output_type": "stream",
          "name": "stdout",
          "text": [
            "Accuracy on train dataset :\n"
          ]
        },
        {
          "output_type": "execute_result",
          "data": {
            "text/plain": [
              "0.8329672341204466"
            ]
          },
          "metadata": {},
          "execution_count": 355
        }
      ],
      "source": [
        "# printing  accuracy on train dataset\n",
        "from sklearn import metrics\n",
        "y_pred_train = mnb.predict(X_train_transformed)\n",
        "\n",
        "print (\"Accuracy on train dataset :\")\n",
        "metrics.accuracy_score( y_train, y_pred_train)"
      ]
    },
    {
      "cell_type": "code",
      "source": [
        "print(metrics.classification_report(y_train,y_pred_train))"
      ],
      "metadata": {
        "colab": {
          "base_uri": "https://localhost:8080/"
        },
        "id": "tpjjm5n9Tnie",
        "outputId": "137ab5ee-4584-4c79-c98a-99b7832eb73d"
      },
      "execution_count": 356,
      "outputs": [
        {
          "output_type": "stream",
          "name": "stdout",
          "text": [
            "              precision    recall  f1-score   support\n",
            "\n",
            "        -1.0       0.82      0.97      0.89      6875\n",
            "         0.0       0.84      0.53      0.65      2306\n",
            "         1.0       0.87      0.70      0.78      1745\n",
            "\n",
            "    accuracy                           0.83     10926\n",
            "   macro avg       0.85      0.73      0.77     10926\n",
            "weighted avg       0.84      0.83      0.82     10926\n",
            "\n"
          ]
        }
      ]
    },
    {
      "cell_type": "code",
      "source": [
        "cm=confusion_matrix(y_pred_train , y_train)\n",
        "plt.figure()\n",
        "plot_confusion_matrix(cm,figsize=(12,8), hide_ticks=True,cmap=plt.cm.Reds)\n",
        "plt.xticks(range(3), [-1, 0, 1], fontsize=16,color='black')\n",
        "plt.yticks(range(3), [-1, 0, 1], fontsize=16)\n",
        "plt.show()"
      ],
      "metadata": {
        "colab": {
          "base_uri": "https://localhost:8080/",
          "height": 727
        },
        "id": "9dFLhFpiTnUt",
        "outputId": "702f64bb-11f5-4c9e-f7da-7ee2e1a9869b"
      },
      "execution_count": 357,
      "outputs": [
        {
          "output_type": "display_data",
          "data": {
            "text/plain": [
              "<Figure size 640x480 with 0 Axes>"
            ]
          },
          "metadata": {}
        },
        {
          "output_type": "display_data",
          "data": {
            "text/plain": [
              "<Figure size 1200x800 with 1 Axes>"
            ],
            "image/png": "[encoded data removed]"
          },
          "metadata": {}
        }
      ]
    },
    {
      "cell_type": "code",
      "execution_count": 358,
      "metadata": {
        "colab": {
          "base_uri": "https://localhost:8080/"
        },
        "id": "tXBZtHHfkv4O",
        "outputId": "8217e528-d125-4ad1-86b8-89a194d02216"
      },
      "outputs": [
        {
          "output_type": "stream",
          "name": "stdout",
          "text": [
            "Accuracy on test dataset :\n"
          ]
        },
        {
          "output_type": "execute_result",
          "data": {
            "text/plain": [
              "0.7482152663371774"
            ]
          },
          "metadata": {},
          "execution_count": 358
        }
      ],
      "source": [
        "# printing the  accuracy on test dataset\n",
        "from sklearn import metrics\n",
        "print (\"Accuracy on test dataset :\")\n",
        "metrics.accuracy_score(y_test, y_pred_class)"
      ]
    },
    {
      "cell_type": "code",
      "source": [
        "print(metrics.classification_report(y_test,y_pred_class))"
      ],
      "metadata": {
        "colab": {
          "base_uri": "https://localhost:8080/"
        },
        "id": "VehJ-ZwUSlgP",
        "outputId": "3dbd2d87-79d7-4037-ad75-72e3df2f6636"
      },
      "execution_count": 359,
      "outputs": [
        {
          "output_type": "stream",
          "name": "stdout",
          "text": [
            "              precision    recall  f1-score   support\n",
            "\n",
            "        -1.0       0.76      0.95      0.84      2265\n",
            "         0.0       0.66      0.33      0.44       777\n",
            "         1.0       0.78      0.53      0.63       600\n",
            "\n",
            "    accuracy                           0.75      3642\n",
            "   macro avg       0.73      0.60      0.64      3642\n",
            "weighted avg       0.74      0.75      0.72      3642\n",
            "\n"
          ]
        }
      ]
    },
    {
      "cell_type": "code",
      "source": [
        "cm=confusion_matrix(y_pred_class , y_test)\n",
        "plt.figure()\n",
        "plot_confusion_matrix(cm,figsize=(12,8), hide_ticks=True,cmap=plt.cm.Reds)\n",
        "plt.xticks(range(3), [-1, 0, 1], fontsize=16,color='black')\n",
        "plt.yticks(range(3), [-1, 0, 1], fontsize=16)\n",
        "plt.show()"
      ],
      "metadata": {
        "colab": {
          "base_uri": "https://localhost:8080/",
          "height": 727
        },
        "id": "e3GP3UNQQLfP",
        "outputId": "96319019-e1a2-4c5e-edfd-76a74696fa16"
      },
      "execution_count": 360,
      "outputs": [
        {
          "output_type": "display_data",
          "data": {
            "text/plain": [
              "<Figure size 640x480 with 0 Axes>"
            ]
          },
          "metadata": {}
        },
        {
          "output_type": "display_data",
          "data": {
            "text/plain": [
              "<Figure size 1200x800 with 1 Axes>"
            ],
            "image/png": "[encoded data removed]"
          },
          "metadata": {}
        }
      ]
    },
    {
      "cell_type": "markdown",
      "source": [
        "# **Saving The Model**"
      ],
      "metadata": {
        "id": "O635Vq2kV0km"
      }
    },
    {
      "cell_type": "code",
      "source": [
        "import joblib\n",
        "\n",
        "# training the NB model and making predictions\n",
        "from sklearn.naive_bayes import MultinomialNB\n",
        "mnb = MultinomialNB()\n",
        "\n",
        "# fit\n",
        "mnb.fit(X_train_transformed, y_train)\n",
        "\n",
        "# predict class\n",
        "y_pred_class = mnb.predict(X_test_transformed)\n",
        "\n",
        "# predict probabilities\n",
        "y_pred_proba = mnb.predict_proba(X_test_transformed)\n",
        "\n",
        "# save the model to disk\n",
        "joblib.dump(mnb, '/content/drive/MyDrive/Colab Notebooks/mnb_model_ad.pkl')"
      ],
      "metadata": {
        "colab": {
          "base_uri": "https://localhost:8080/"
        },
        "id": "EdosWbYxT8Y7",
        "outputId": "5c8247f1-71f0-4a8d-ab29-c252193dcfbc"
      },
      "execution_count": 361,
      "outputs": [
        {
          "output_type": "execute_result",
          "data": {
            "text/plain": [
              "['/content/drive/MyDrive/Colab Notebooks/mnb_model_ad.pkl']"
            ]
          },
          "metadata": {},
          "execution_count": 361
        }
      ]
    },
    {
      "cell_type": "code",
      "source": [
        "joblib.dump(vect, '/content/drive/MyDrive/Colab Notebooks/Vectorizer_ad.pkl')"
      ],
      "metadata": {
        "colab": {
          "base_uri": "https://localhost:8080/"
        },
        "id": "4ScP_PALfBhF",
        "outputId": "8e615098-57cc-4dcf-ab6c-ec05de5f72c5"
      },
      "execution_count": 362,
      "outputs": [
        {
          "output_type": "execute_result",
          "data": {
            "text/plain": [
              "['/content/drive/MyDrive/Colab Notebooks/Vectorizer_ad.pkl']"
            ]
          },
          "metadata": {},
          "execution_count": 362
        }
      ]
    },
    {
      "cell_type": "markdown",
      "source": [
        "Model saved succesfully, moving to the load_prediction file"
      ],
      "metadata": {
        "id": "iaJEXpU6YMzu"
      }
    }
  ]
}